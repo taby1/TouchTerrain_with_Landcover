{
 "cells": [
  {
   "cell_type": "markdown",
   "metadata": {},
   "source": [
    "# TouchTerrain jupyter notebook - starter edition, running on Binder\n",
    "Chris Harding, Aug. 25 , 2022 (<charding@iastate.edu>)\n",
    "\n",
    "Warning: This is still being tested! Please report bugs to me.\n",
    "\n",
    "- This particular notebook is meant to be run on Binder (which uses JupyterLab). \n",
    "- It is also primarily aimed at users who maybe new to Python and jupyter. It walks through the process of using TouchTerrain to create STL files for 3D printing with many small steps at a slow pace, makes few assumptions and gives more explanations.\n",
    "- Hopefully this will make the much more flexible and powerful __standalone version__ of TouchTerrain accessible to many more users!"
   ]
  },
  {
   "cell_type": "markdown",
   "metadata": {},
   "source": [
    "### Preparing to use Google Earth Engine online DEM rasters \n",
    "\n",
    "- TouchTerrain uses Digital Elevation Data (DEM)\n",
    "- You can either use online elevation data or a local elevation dataset (geotiff file)\n",
    "- *You don't need to go through this preparation part if you only want to use terrain data from locally stored raster files (geotiffs)*. You will get a warning about EE not being initialized properly but you can ignore that. Instead go directly to __How to run code inside a notebook__\n",
    "- TouchTerrain can use DEM data from Google Earth Engine (given the corners of the area), but you need to first set up an earth engine account and create Google cloud project. Note that this includes setting up a charge account, however, you will typically not be charged. \n",
    "- See this [guide](https://github.com/ChHarding/TouchTerrain_for_CAGEO/blob/master/EarthEngine_authentication_guide.md#request-a-earthengine-dev-account) for how to get an earth engine account.\n"
   ]
  },
  {
   "cell_type": "markdown",
   "metadata": {},
   "source": [
    "### How to run code inside a notebook\n",
    "\n",
    "- Below is a python *code* cell.\n",
    "- Run the cell  by clicking inside it and pressing Shift + Enter. Or you can hit the triangle Run button.\n",
    "- You wont see any output for this cell but you'll see that the braces in `In [ ]` will show a sequential number, which means it's been run."
   ]
  },
  {
   "cell_type": "code",
   "execution_count": 1,
   "metadata": {},
   "outputs": [],
   "source": [
    "import ee # import module for earthengine-api "
   ]
  },
  {
   "cell_type": "markdown",
   "metadata": {},
   "source": [
    "### Authentication with Earth Engine\n",
    "- the next cell will initiate an authorization with the earth-engine. \n",
    "- remove the leading `#` (uncomment the line) and run it. Make sure there's no space in front of ee!\n",
    "\n",
    "<div>\n",
    "\n",
    "- This text should appear and you should be redirected to a webpage:\n",
    "```\n",
    "To authorize access needed by Earth Engine, open the following URL in a web browser and follow the instructions. If the web browser does  not start automatically, please manually browse the URL below.\n",
    "```\n",
    "- The web page will have you select a Google account for use with Earth Engine and give you a token\n",
    "- Assuming you got your earth engine account, follow [this part of the guide](https://github.com/ChHarding/TouchTerrain_for_CAGEO/blob/master/EarthEngine_authentication_guide.md#generating-the-token) to get this token\n",
    "- Paste in your token here: `Enter verification code: <your token>` and hit Enter, you should get `Successfully saved authorization token.`\n",
    "- Important: this needs to be done only once after the binder instance was created (as it just needs to create a file). Once done, you should put the `#` back in front of ee.Authenticate() (so the line is `#ee.Authenticate()` again), so you're not running it again after you've started from top after a kernel timeout."
   ]
  },
  {
   "cell_type": "code",
   "execution_count": 2,
   "metadata": {},
   "outputs": [],
   "source": [
    "#ee.Authenticate() # authenticate your earth engine to consume DEM data from Google"
   ]
  },
  {
   "cell_type": "markdown",
   "metadata": {},
   "source": [
    "### What to do when then kernel times out (quits)\n",
    "- The python kernel is the underlying python interpreter that runs the python code when you execute a code cell\n",
    "- When the notebook is idle for a while (maybe you're somewhere in the middle of the notebook), it seems that its kernel will time out.\n",
    "- You'll see `kernel disconnected` at the bottom and `No Kernel` at the upper right. \n",
    "- This means you can't run the next code cell but have to reconnect to the kernel first\n",
    "- Click on `No Kernel` at the upper right, select the Python kernel and the click on Select\n",
    "- You should now be able to again execute code cells\n",
    "- Sometimes however, you may have to restart the kernel instead (Top Menu - Kernel - Restart and clear outputs)\n",
    "- In this case you need to again start from the top of the notebook. Note however, that you don't have to go through the authorization again if you completed it once, so make sure this line is commented out!\n",
    "- Finally, if you ever get Error 405 when Starting the Kernel I'm guessing the binder instance has died due to timeout. You will need to close your current browser page and go to https://mybinder.org/v2/gh/ChHarding/TouchTerrain_for_CAGEO/HEAD?labpath=TouchTerrain_jupyter_starters_binder.ipynb again to create a new Binder instance. This will again take some time but less then the very first time (at least in my experience)\n",
    "- This also means that any STL files you may have created earlier are lost, so it is important to download them right away."
   ]
  },
  {
   "cell_type": "markdown",
   "metadata": {},
   "source": [
    "### Virtual python environment \n",
    "- this is just FYI, don't worry if you don't know what conda is ...\n",
    "- binder will create a virtual conda environment called *notebook* and install all the package from environment.yml in it (which takes a while)\n",
    "- the first part in environment.yml ensures that geemap can run properly as apparently the install order and version matter, the rest will install all other dependencies for touchterrain\n",
    "- binder will the run a shell script called postBuild, which will use pip to install the touchterrain package\n",
    "- binder runs the current notebook within this *notebook* environment, so the imports below should all work"
   ]
  },
  {
   "cell_type": "markdown",
   "metadata": {},
   "source": [
    "### Importing python packages\n",
    "- Run the next cell, it'll import the required packages into Python, including Touchterrain\n",
    "- The earth engine package you imported and authorized earlier, will be initialized here. You should see `EE init() worked with .config/earthengine/credentials`\n"
   ]
  },
  {
   "cell_type": "code",
   "execution_count": 3,
   "metadata": {
    "tags": []
   },
   "outputs": [
    {
     "name": "stderr",
     "output_type": "stream",
     "text": [
      "WARNING:root:EE init() error (with /root/earthengine/.config/.private-key.json) [Errno 2] No such file or directory: '/root/earthengine/.config/.private-key.json' (This is OK if you don't use earthengine anyway!)\n"
     ]
    }
   ],
   "source": [
    "# import packages\n",
    "import os.path\n",
    "from glob import glob\n",
    "import k3d\n",
    "from random import randint\n",
    "from shutil import rmtree\n",
    "import zipfile\n",
    "from geojson import Polygon\n",
    "import geemap\n",
    "from touchterrain.common import TouchTerrainEarthEngine as TouchTerrain\n",
    "from touchterrain.common.TouchTerrainGPX import *\n",
    "args = TouchTerrain.initial_args # default args"
   ]
  },
  {
   "cell_type": "markdown",
   "metadata": {},
   "source": [
    "## Define the values for processing settings\n",
    "- We now need to define the processing settings for the 3D model we want to create. Unlike the web app, they need to be set via Python variables.\n",
    "- The variable `args` will hold all processing settings. The __name__ of a setting  will be between [] and inside double quotes, the setting's __value__ will be to the right of the = . The value can be a number (120 or 0.4), a string (\"STLb\") or the special value `None`.\n",
    "- Example: `args[\"tilewidth\"] = 120`     will define the value of the setting named `tilewidth` to be 120\n",
    "\n",
    "### Comments\n",
    "- In Python, anything to the right of a `#` will be ignored.\n",
    "- You will often need comment out or uncomment a line of Python code.\n",
    "- A line starting with a `#` (no spaces before it) is said to be commented out, it will be entirely ignored. This a useful to temporarily deactivate the line and re-activate it again later.\n",
    "- To uncomment a line means to remove the leading `#`, again leaving no spaces before the first actual code letter. This makes the line valid code again.\n",
    "\n",
    "<div>\n",
    "\n",
    "- Example of commenting out a line of code and uncommenting it properly:\n",
    "```\n",
    "print(123)\n",
    "#print(123)\n",
    "print(123)\n",
    "```\n",
    "- Examples of bad commenting with a leading space. I'm using an underscore here for better visibility.\n",
    "```\n",
    "_#print(123)\n",
    "_print(123)\n",
    "```"
   ]
  },
  {
   "cell_type": "markdown",
   "metadata": {},
   "source": [
    "### Use a locally stored geotiff DEM file instead of an online DEM\n",
    "__If you don't plan to use a local geotiff and instead want to use an online DEM, skip this cell and go to *Select your print area*__\n",
    "- You may want create a terrain model from a geotiff DEM file that you've downloaded or created via a GIS. As TouchTerrain needs to import this file during processing, you first need to copy (upload) it via the jupyterLab File Manager.\n",
    "- Open the File Manager (left side) and drag your geotiff into the panel to upload it. Remember the file name for later\n",
    "- The folder called __stuff__ contains a very small example geotiff file called __pyramid.tif__. From the (root) folder this notebook is in, the path to this file is therefore __stuff/pyramid.tif__  \n",
    "\n",
    "<div>\n",
    "\n",
    "- The cell below sets the value of __importedDEM__ to this path (e.g. `\"stuff/pyramid.tif\"`). To use your geotiff file, replace this with it's name, e.g. `\"myDEM.tif\"` (make sure to use \"s!). \n",
    "- if you do NOT want to use a local geotiff and want to use online DEM rasters instead, set the value to None. Comment/Uncomment the appropriate choice below and hit Shift-Enter\n",
    "- if you are using a local geotiff, skip _Select DEM source_ and _Select print area on geemap_ as the geotiff is your DEM source and  implicitly defines the print area. Go straight to _Setting the tile width_"
   ]
  },
  {
   "cell_type": "code",
   "execution_count": 4,
   "metadata": {},
   "outputs": [
    {
     "data": {
      "text/html": [
       "\n",
       "            <style>\n",
       "                .geemap-dark {\n",
       "                    --jp-widgets-color: white;\n",
       "                    --jp-widgets-label-color: white;\n",
       "                    --jp-ui-font-color1: white;\n",
       "                    --jp-layout-color2: #454545;\n",
       "                    background-color: #383838;\n",
       "                }\n",
       "\n",
       "                .geemap-dark .jupyter-button {\n",
       "                    --jp-layout-color3: #383838;\n",
       "                }\n",
       "\n",
       "                .geemap-colab {\n",
       "                    background-color: var(--colab-primary-surface-color, white);\n",
       "                }\n",
       "\n",
       "                .geemap-colab .jupyter-button {\n",
       "                    --jp-layout-color3: var(--colab-primary-surface-color, white);\n",
       "                }\n",
       "            </style>\n",
       "            "
      ],
      "text/plain": [
       "<IPython.core.display.HTML object>"
      ]
     },
     "metadata": {},
     "output_type": "display_data"
    }
   ],
   "source": [
    "# Comment out one of following two lines:\n",
    "#args[\"importedDEM\"] =  \"stuff/pyramid.tif\" # path of local geotiff file to use\n",
    "args[\"importedDEM\"] = None  # no file used, use online DEM rasters instead\n",
    "\n",
    "# convert into an absolute path for later\n",
    "if args[\"importedDEM\"] != None:\n",
    "    args[\"importedDEM\"]= os.path.abspath(args[\"importedDEM\"]) \n",
    "    print(\"importedDEM\", args[\"importedDEM\"])"
   ]
  },
  {
   "cell_type": "markdown",
   "metadata": {},
   "source": [
    "### Select the name of the DEM source (online elevation data)\n",
    "- Before you can select the actual print area, you need to select which online DEM source will be used. The setting is called `DEM_name`.\n",
    "- There are several options but for starters you only need to decide among two options:\n",
    "    - If your area is in the lower 48 US states, use `USGS/NED`\n",
    "    - Anywhere else on the globe use: `JAXA/ALOS/AW3D30/V2_2`\n",
    "    - (there are more DEM sources to choose from, see `DEM_name` [here](https://github.com/ChHarding/TouchTerrain_for_CAGEO#processing-parameters) )\n",
    "- Comment/uncomment the appropriate line in the cell below and hit Shift-Enter"
   ]
  },
  {
   "cell_type": "code",
   "execution_count": 5,
   "metadata": {},
   "outputs": [
    {
     "data": {
      "text/html": [
       "\n",
       "            <style>\n",
       "                .geemap-dark {\n",
       "                    --jp-widgets-color: white;\n",
       "                    --jp-widgets-label-color: white;\n",
       "                    --jp-ui-font-color1: white;\n",
       "                    --jp-layout-color2: #454545;\n",
       "                    background-color: #383838;\n",
       "                }\n",
       "\n",
       "                .geemap-dark .jupyter-button {\n",
       "                    --jp-layout-color3: #383838;\n",
       "                }\n",
       "\n",
       "                .geemap-colab {\n",
       "                    background-color: var(--colab-primary-surface-color, white);\n",
       "                }\n",
       "\n",
       "                .geemap-colab .jupyter-button {\n",
       "                    --jp-layout-color3: var(--colab-primary-surface-color, white);\n",
       "                }\n",
       "            </style>\n",
       "            "
      ],
      "text/plain": [
       "<IPython.core.display.HTML object>"
      ]
     },
     "metadata": {},
     "output_type": "display_data"
    }
   ],
   "source": [
    "# Comment out one of the following two lines\n",
    "args[\"DEM_name\"] = \"USGS/3DEP/10m\"  # area is within the lower 48 (US)\n",
    "#args[\"DEM_name\"] = \"JAXA/ALOS/AW3D30/V2_2\"  # area is outside the US (worldwide)"
   ]
  },
  {
   "cell_type": "markdown",
   "metadata": {},
   "source": [
    "### Import GPX path lines\n",
    "__This is more of an expert option. If you are just starting, skip this and go to the next cell__\n",
    "- You can drape one or more gpx (path) files over your terrain\n",
    "- Similar to importedDEM, the file names for the GPX file(s) are stored in the importedGPX setting.\n",
    "- However, as you can import more than one GPX file, you need to put the path name into a list, i.e. inside brackets, even if you just have one GPX file. Separate multiple GPX files with a comma:  \n",
    "    - `args[\"importedGPX\"] = [\"justonegpxfile.gpx\"]`  \n",
    "    - `args[\"importedGPX\"] = [\"file1.gpx\", \"file2.gpx\"]`\n",
    "- `gpxPathHeight` (in meters) defines how much a path is elevated above the terrain. Use a negative number to create a trench.\n",
    "- `gpxPixelsBetweenPoints` (in meters) lets you reduce the number of point in your path to place a point only every X meters. This can help to simplify complex patterns.\n",
    "- `gpxPathThickness` (meters) controls the thickness of the path, which makes it more pronouced when printed\n",
    "- There are several GPX example files in the stuff folder. To use them, uncomment the first 4 lines in the cell below and comment out the last line.\n",
    "- If you're not using GPX files, just leave the cell as is and run it. Setting importedGPX to None means that no GPX files are imported.\n"
   ]
  },
  {
   "cell_type": "code",
   "execution_count": 6,
   "metadata": {},
   "outputs": [
    {
     "data": {
      "text/html": [
       "\n",
       "            <style>\n",
       "                .geemap-dark {\n",
       "                    --jp-widgets-color: white;\n",
       "                    --jp-widgets-label-color: white;\n",
       "                    --jp-ui-font-color1: white;\n",
       "                    --jp-layout-color2: #454545;\n",
       "                    background-color: #383838;\n",
       "                }\n",
       "\n",
       "                .geemap-dark .jupyter-button {\n",
       "                    --jp-layout-color3: #383838;\n",
       "                }\n",
       "\n",
       "                .geemap-colab {\n",
       "                    background-color: var(--colab-primary-surface-color, white);\n",
       "                }\n",
       "\n",
       "                .geemap-colab .jupyter-button {\n",
       "                    --jp-layout-color3: var(--colab-primary-surface-color, white);\n",
       "                }\n",
       "            </style>\n",
       "            "
      ],
      "text/plain": [
       "<IPython.core.display.HTML object>"
      ]
     },
     "metadata": {},
     "output_type": "display_data"
    }
   ],
   "source": [
    "args[\"gpxPathHeight\"] = 5\n",
    "args[\"gpxPixelsBetweenPoints\"] = 20\n",
    "args[\"gpxPathThickness\"] = 2\n",
    "\n",
    "# Comment out one of the following two lines\n",
    "#args[\"importedGPX\"] = [\"stuff/gpx-test/DLRTnML.gpx\", \"stuff/gpx-test/DonnerToFrog.gpx\", \"stuff/gpx-test/CinTwistToFrog.gpx\"] # list of GPX files\n",
    "args[\"importedGPX\"] = None  # Do not use any GPX path files\n"
   ]
  },
  {
   "cell_type": "markdown",
   "metadata": {},
   "source": [
    "## Select your print area\n",
    "- When using an online DEM, there are several ways to define the area you want to print. Use only one and skip the cells for the other two options. Then go to _Setting the tile width_\n",
    "- A)  Enter corner coordinates of a box into a code cell\n",
    "- B)  Use your mouse to digitize a box, circle or polygon on a geemap\n",
    "- C)  Load a kml file (typically created via Google Earth) that contains a single polygon\n",
    "\n",
    "\n",
    "### A) Select print area via lat/long coordinates of its corners (optional)\n",
    "- If you'd rather define your area through actual coordinates, change the default values in the cell below accordingly. \n",
    "- Note that you *must* give it the lat/long of the bottom left (South-West) corner and lat/long of the top right (North-East) corner!\n",
    "- After you've run the cell, skip B and C and jump straight to `Setting the tile width`"
   ]
  },
  {
   "cell_type": "code",
   "execution_count": 7,
   "metadata": {},
   "outputs": [
    {
     "data": {
      "text/html": [
       "\n",
       "            <style>\n",
       "                .geemap-dark {\n",
       "                    --jp-widgets-color: white;\n",
       "                    --jp-widgets-label-color: white;\n",
       "                    --jp-ui-font-color1: white;\n",
       "                    --jp-layout-color2: #454545;\n",
       "                    background-color: #383838;\n",
       "                }\n",
       "\n",
       "                .geemap-dark .jupyter-button {\n",
       "                    --jp-layout-color3: #383838;\n",
       "                }\n",
       "\n",
       "                .geemap-colab {\n",
       "                    background-color: var(--colab-primary-surface-color, white);\n",
       "                }\n",
       "\n",
       "                .geemap-colab .jupyter-button {\n",
       "                    --jp-layout-color3: var(--colab-primary-surface-color, white);\n",
       "                }\n",
       "            </style>\n",
       "            "
      ],
      "text/plain": [
       "<IPython.core.display.HTML object>"
      ]
     },
     "metadata": {},
     "output_type": "display_data"
    }
   ],
   "source": [
    "# Bottom left corner\n",
    "args[\"bllat\"] = 39.322\n",
    "args[\"bllon\"] = -120.374\n",
    "\n",
    "# Top right corner coordinates\n",
    "args[\"trlat\"] = 39.457\n",
    "args[\"trlon\"] = -120.2"
   ]
  },
  {
   "cell_type": "markdown",
   "metadata": {},
   "source": [
    "### B) Select print area interactively via geemap\n",
    "- If you didn't use a local geotiff or set your the print area's corner coordinates, run the next cell to show an interactive map, from which you will select your print area. \n",
    "- Valid areas are covered by a grey hillshade layer in the background. If your desired area is not covered, go back and select the worldwide DEM source, and re-run the next cell.\n",
    "- If you're importing GPX files, they will show up on the map as cyan lines.\n",
    "- To find the desired print area, use left mouse drag to pan and mouse wheel (or +- buttons) to zoom in/out.\n",
    "- You can also use the search buttons (globe on top left or spyglass) which will place a marker at the result's location."
   ]
  },
  {
   "cell_type": "code",
   "execution_count": 8,
   "metadata": {},
   "outputs": [
    {
     "data": {
      "text/html": [
       "\n",
       "            <style>\n",
       "                .geemap-dark {\n",
       "                    --jp-widgets-color: white;\n",
       "                    --jp-widgets-label-color: white;\n",
       "                    --jp-ui-font-color1: white;\n",
       "                    --jp-layout-color2: #454545;\n",
       "                    background-color: #383838;\n",
       "                }\n",
       "\n",
       "                .geemap-dark .jupyter-button {\n",
       "                    --jp-layout-color3: #383838;\n",
       "                }\n",
       "\n",
       "                .geemap-colab {\n",
       "                    background-color: var(--colab-primary-surface-color, white);\n",
       "                }\n",
       "\n",
       "                .geemap-colab .jupyter-button {\n",
       "                    --jp-layout-color3: var(--colab-primary-surface-color, white);\n",
       "                }\n",
       "            </style>\n",
       "            "
      ],
      "text/plain": [
       "<IPython.core.display.HTML object>"
      ]
     },
     "metadata": {},
     "output_type": "display_data"
    },
    {
     "data": {
      "application/vnd.jupyter.widget-view+json": {
       "model_id": "6234bb0ce95241feab3b7e3b3ec0d2ef",
       "version_major": 2,
       "version_minor": 0
      },
      "text/plain": [
       "Map(center=[39.3895, -120.287], controls=(WidgetControl(options=['position', 'transparent_bg'], widget=SearchD…"
      ]
     },
     "execution_count": 8,
     "metadata": {},
     "output_type": "execute_result"
    }
   ],
   "source": [
    "# Create an interactive map and center on default area\n",
    "center_lat = (args[\"trlat\"] + args[\"bllat\"]) / 2\n",
    "center_lon = (args[\"trlon\"] + args[\"bllon\"]) / 2\n",
    "Map = geemap.Map(center=(center_lat, center_lon), zoom=7) \n",
    "\n",
    "# make a hillshade layer and add it to map\n",
    "dem = ee.Image(args[\"DEM_name\"]) # DEM source\n",
    "hs = ee.Terrain.hillshade(dem, 315, 35) # sun azimuth and angle \n",
    "vis_params = {'min': 0,'max': 255,} # greyscale color ramp\n",
    "Map.addLayer(hs, vis_params, 'hillshade', shown=True, opacity=0.5) # semi transparent overlay\n",
    "\n",
    "# if GPX files were used, add them to the map\n",
    "if args[\"importedGPX\"] != None and len(args[\"importedGPX\"]) > 0: \n",
    "        gpx = ee.Feature(convert_to_GeoJSON(args[\"importedGPX\"]))\n",
    "        Map.addLayer(gpx, {\"color\":'00FFFF', \"strokeWidth\":\"1\"}, \"GPX line\", opacity=0.9)\n",
    "\n",
    "Map # makes the interactive map show up as output of this cell"
   ]
  },
  {
   "cell_type": "markdown",
   "metadata": {},
   "source": [
    "- Once you found a good general area, hit a Draw button in the center left to digitize the exact outline of your terrain model. \n",
    "- Your options are: Draw a Polygon or Draw a Rectangle or Draw a Circle. __Do NOT use Draw a Marker or Draw a Polyline!__\n",
    "- Draw a Rectangle is the simplest method.\n",
    "- Note: I do not know how to edit or delete outlines. If you change your mind you can simply draw another outline on top of previous outline, which will then be used, even as the old outline is still visible. If this gets too cluttered, you can always re-run the cell above and start over with a clear slate.\n",
    "- Once you're happy with your outline, run the cell below. It will store the (last) outline and use it to create your terrain model. If you change your mind, simply draw another outline and re-run the cell below, it will always take the most recent outline.\n",
    "- After running the cell below, skip C"
   ]
  },
  {
   "cell_type": "code",
   "execution_count": 10,
   "metadata": {},
   "outputs": [
    {
     "data": {
      "text/html": [
       "\n",
       "            <style>\n",
       "                .geemap-dark {\n",
       "                    --jp-widgets-color: white;\n",
       "                    --jp-widgets-label-color: white;\n",
       "                    --jp-ui-font-color1: white;\n",
       "                    --jp-layout-color2: #454545;\n",
       "                    background-color: #383838;\n",
       "                }\n",
       "\n",
       "                .geemap-dark .jupyter-button {\n",
       "                    --jp-layout-color3: #383838;\n",
       "                }\n",
       "\n",
       "                .geemap-colab {\n",
       "                    background-color: var(--colab-primary-surface-color, white);\n",
       "                }\n",
       "\n",
       "                .geemap-colab .jupyter-button {\n",
       "                    --jp-layout-color3: var(--colab-primary-surface-color, white);\n",
       "                }\n",
       "            </style>\n",
       "            "
      ],
      "text/plain": [
       "<IPython.core.display.HTML object>"
      ]
     },
     "metadata": {},
     "output_type": "display_data"
    }
   ],
   "source": [
    "# make and store a GeoJSON polygon from (last) digitized outline\n",
    "polyft = Map.draw_last_feature # get last outline\n",
    "args[\"polygon\"] = Polygon(polyft.getInfo()['geometry']['coordinates'])"
   ]
  },
  {
   "cell_type": "markdown",
   "metadata": {},
   "source": [
    "### C) Using a KML file to define the outline of the area\n",
    "- Instead of digitizing an outline in the geemap, you could instead use a polygon stored in a kml file. You can digitize a polygon in Google Earth and store it as a kml file (NOT a kmz file!). \n",
    "- In Jupyterlab click on File Browser on the right and drag your kml file into the panel to upload it\n",
    "- Check that the kml file in the same folder as the notebook and set `poly_file` to its location.\n",
    "- The *stuff* folder contains an example kml file"
   ]
  },
  {
   "cell_type": "code",
   "execution_count": 11,
   "metadata": {},
   "outputs": [
    {
     "data": {
      "text/html": [
       "\n",
       "            <style>\n",
       "                .geemap-dark {\n",
       "                    --jp-widgets-color: white;\n",
       "                    --jp-widgets-label-color: white;\n",
       "                    --jp-ui-font-color1: white;\n",
       "                    --jp-layout-color2: #454545;\n",
       "                    background-color: #383838;\n",
       "                }\n",
       "\n",
       "                .geemap-dark .jupyter-button {\n",
       "                    --jp-layout-color3: #383838;\n",
       "                }\n",
       "\n",
       "                .geemap-colab {\n",
       "                    background-color: var(--colab-primary-surface-color, white);\n",
       "                }\n",
       "\n",
       "                .geemap-colab .jupyter-button {\n",
       "                    --jp-layout-color3: var(--colab-primary-surface-color, white);\n",
       "                }\n",
       "            </style>\n",
       "            "
      ],
      "text/plain": [
       "<IPython.core.display.HTML object>"
      ]
     },
     "metadata": {},
     "output_type": "display_data"
    }
   ],
   "source": [
    "# Comment out either this line:\n",
    "args[\"poly_file\"] = None # Don't use a kml file\n",
    "\n",
    "# or both of these lines:\n",
    "#args[\"poly_file\"] = \"stuff/polygon_example.kml\" # location of kml file to use\n",
    "#args[\"polygon\"] = None  # ensures that any gee polygon you might have digitized is not used"
   ]
  },
  {
   "cell_type": "markdown",
   "metadata": {},
   "source": [
    "### Setting the tile width\n",
    "- (If you used a local geotiff file as DEM, resume here)\n",
    "- The tilewidth setting defines how (physically) large the selected print area will be after it's been printed. Units are in mm.\n",
    "- By width, we mean the extent of you model in the East-West direction. The height will be automatically calculated based on the area you selected earlier\n",
    "- Change the value in the cell below to your liking and hit Shift-Enter"
   ]
  },
  {
   "cell_type": "code",
   "execution_count": 12,
   "metadata": {},
   "outputs": [
    {
     "data": {
      "text/html": [
       "\n",
       "            <style>\n",
       "                .geemap-dark {\n",
       "                    --jp-widgets-color: white;\n",
       "                    --jp-widgets-label-color: white;\n",
       "                    --jp-ui-font-color1: white;\n",
       "                    --jp-layout-color2: #454545;\n",
       "                    background-color: #383838;\n",
       "                }\n",
       "\n",
       "                .geemap-dark .jupyter-button {\n",
       "                    --jp-layout-color3: #383838;\n",
       "                }\n",
       "\n",
       "                .geemap-colab {\n",
       "                    background-color: var(--colab-primary-surface-color, white);\n",
       "                }\n",
       "\n",
       "                .geemap-colab .jupyter-button {\n",
       "                    --jp-layout-color3: var(--colab-primary-surface-color, white);\n",
       "                }\n",
       "            </style>\n",
       "            "
      ],
      "text/plain": [
       "<IPython.core.display.HTML object>"
      ]
     },
     "metadata": {},
     "output_type": "display_data"
    }
   ],
   "source": [
    "args[\"tilewidth\"] = 120 # in mm"
   ]
  },
  {
   "cell_type": "markdown",
   "metadata": {},
   "source": [
    "### Setting the number of tiles and their and setup  \n",
    "- It's possible to divide the print are into multiple tiles. This will results in several STK files instead of just one.\n",
    "- This is useful if you want to print several (smaller) tiles that each fit on you buildplate and later glue them together into one large model.\n",
    "- If you just want a single STL file, set both, ntilesx and ntilesy, to 1\n",
    "- For multiple tiles, decide how many tiles you want along East-West (ntilesx) and how many along North-South (ntilesy)"
   ]
  },
  {
   "cell_type": "code",
   "execution_count": 13,
   "metadata": {},
   "outputs": [
    {
     "data": {
      "text/html": [
       "\n",
       "            <style>\n",
       "                .geemap-dark {\n",
       "                    --jp-widgets-color: white;\n",
       "                    --jp-widgets-label-color: white;\n",
       "                    --jp-ui-font-color1: white;\n",
       "                    --jp-layout-color2: #454545;\n",
       "                    background-color: #383838;\n",
       "                }\n",
       "\n",
       "                .geemap-dark .jupyter-button {\n",
       "                    --jp-layout-color3: #383838;\n",
       "                }\n",
       "\n",
       "                .geemap-colab {\n",
       "                    background-color: var(--colab-primary-surface-color, white);\n",
       "                }\n",
       "\n",
       "                .geemap-colab .jupyter-button {\n",
       "                    --jp-layout-color3: var(--colab-primary-surface-color, white);\n",
       "                }\n",
       "            </style>\n",
       "            "
      ],
      "text/plain": [
       "<IPython.core.display.HTML object>"
      ]
     },
     "metadata": {},
     "output_type": "display_data"
    }
   ],
   "source": [
    "args[\"ntilesx\"] = 1 # number of tiles in x  \n",
    "args[\"ntilesy\"] = 1 # number of tiles in y    "
   ]
  },
  {
   "cell_type": "markdown",
   "metadata": {},
   "source": [
    "### Setting the Base thickness (in mm)\n",
    "- The basethick setting determines how much material is put beneath the thinnest part to the terrain print \n",
    "- Use a value of at least 0.5 mm, more if you want a beefier base"
   ]
  },
  {
   "cell_type": "code",
   "execution_count": 14,
   "metadata": {},
   "outputs": [
    {
     "data": {
      "text/html": [
       "\n",
       "            <style>\n",
       "                .geemap-dark {\n",
       "                    --jp-widgets-color: white;\n",
       "                    --jp-widgets-label-color: white;\n",
       "                    --jp-ui-font-color1: white;\n",
       "                    --jp-layout-color2: #454545;\n",
       "                    background-color: #383838;\n",
       "                }\n",
       "\n",
       "                .geemap-dark .jupyter-button {\n",
       "                    --jp-layout-color3: #383838;\n",
       "                }\n",
       "\n",
       "                .geemap-colab {\n",
       "                    background-color: var(--colab-primary-surface-color, white);\n",
       "                }\n",
       "\n",
       "                .geemap-colab .jupyter-button {\n",
       "                    --jp-layout-color3: var(--colab-primary-surface-color, white);\n",
       "                }\n",
       "            </style>\n",
       "            "
      ],
      "text/plain": [
       "<IPython.core.display.HTML object>"
      ]
     },
     "metadata": {},
     "output_type": "display_data"
    }
   ],
   "source": [
    "args[\"basethick\"] = 0.6 # in mm"
   ]
  },
  {
   "cell_type": "markdown",
   "metadata": {},
   "source": [
    "### Setting the print resolution\n",
    "- Set this value to the diameter of you nozzle size or slightly below. \n",
    "- Tinker with this only if you know what you're doing. This setting defines how much of the fine details the STL file will contain. The detail you're realistically able to print is limited by your nozzle size. If you set setting much lower than your nozzle size, the STL file will be needlessly large, the slicer will take longer but your print will come out the same as if you had used approximately your nozzle size.\n",
    "- In almost all cases, 0.4 mm will be fine for 3D printers.\n",
    "- If you are using a local geofiff file, setting this to -1 will use the native resolution of the geotiff. This is typically overkill b/c of the nozzle limitation and may lead to huge models that may be too much for you system to handle!"
   ]
  },
  {
   "cell_type": "code",
   "execution_count": 15,
   "metadata": {},
   "outputs": [
    {
     "data": {
      "text/html": [
       "\n",
       "            <style>\n",
       "                .geemap-dark {\n",
       "                    --jp-widgets-color: white;\n",
       "                    --jp-widgets-label-color: white;\n",
       "                    --jp-ui-font-color1: white;\n",
       "                    --jp-layout-color2: #454545;\n",
       "                    background-color: #383838;\n",
       "                }\n",
       "\n",
       "                .geemap-dark .jupyter-button {\n",
       "                    --jp-layout-color3: #383838;\n",
       "                }\n",
       "\n",
       "                .geemap-colab {\n",
       "                    background-color: var(--colab-primary-surface-color, white);\n",
       "                }\n",
       "\n",
       "                .geemap-colab .jupyter-button {\n",
       "                    --jp-layout-color3: var(--colab-primary-surface-color, white);\n",
       "                }\n",
       "            </style>\n",
       "            "
      ],
      "text/plain": [
       "<IPython.core.display.HTML object>"
      ]
     },
     "metadata": {},
     "output_type": "display_data"
    }
   ],
   "source": [
    "args[\"printres\"] = 0.4 # in mm"
   ]
  },
  {
   "cell_type": "markdown",
   "metadata": {},
   "source": [
    "### Setting the z-scale (elevation exaggeration factor)\n",
    "- To print the terrain in its \"true\" form (without any vertical scaling applied), set zscale to 1.0. This works well for terrain with great elevation differences, such as the Grand Canyon or Mt. Fuji\n",
    "- Most other terrain usual benefits from a z-scale larger than 1. For gentle hills, use 1.5 to 2.5. For cities use 2.5 to 6. For river deltas and other low relief areas use up to 10.\n",
    "- The height of your printed terrain should be at least 20 - 30 mm high to show good detail. You can check the processing log for `top min/max`, max should be least 20 - 30 mm. If this is too low, use a higher zscale and process again.\n",
    "- Alternatively, you can set this to a __negative number__ which will be interpreted as the desired height of the tallest terrain point in mm. Examples:  -12.7 means \"make 1/2 inch tall\", -20 means \"make 20 mm tall\", etc."
   ]
  },
  {
   "cell_type": "code",
   "execution_count": 16,
   "metadata": {},
   "outputs": [
    {
     "data": {
      "text/html": [
       "\n",
       "            <style>\n",
       "                .geemap-dark {\n",
       "                    --jp-widgets-color: white;\n",
       "                    --jp-widgets-label-color: white;\n",
       "                    --jp-ui-font-color1: white;\n",
       "                    --jp-layout-color2: #454545;\n",
       "                    background-color: #383838;\n",
       "                }\n",
       "\n",
       "                .geemap-dark .jupyter-button {\n",
       "                    --jp-layout-color3: #383838;\n",
       "                }\n",
       "\n",
       "                .geemap-colab {\n",
       "                    background-color: var(--colab-primary-surface-color, white);\n",
       "                }\n",
       "\n",
       "                .geemap-colab .jupyter-button {\n",
       "                    --jp-layout-color3: var(--colab-primary-surface-color, white);\n",
       "                }\n",
       "            </style>\n",
       "            "
      ],
      "text/plain": [
       "<IPython.core.display.HTML object>"
      ]
     },
     "metadata": {},
     "output_type": "display_data"
    }
   ],
   "source": [
    "args[\"zscale\"] = 1.0 # elevation scale factor"
   ]
  },
  {
   "cell_type": "markdown",
   "metadata": {},
   "source": [
    "### Set the name of your terrain model zipfile\n",
    "- Once a STL file of your terrain model has been created, it will be zipped into a zipfile and copied into the tmp folder. The zipfile also contains a log file and a geotiff.\n",
    "- It's often a good idea to give the zipfile a name that reflects the terrain, e.g. grand_canyon.zipfile\n",
    "- Set zip_file_name to the name of your zipfile. Dot not add the .zip extension, this will be done automatically\n",
    "- With Jupyterlab, right click on the zip file and choose Download from the pulldown"
   ]
  },
  {
   "cell_type": "code",
   "execution_count": 17,
   "metadata": {},
   "outputs": [
    {
     "data": {
      "text/html": [
       "\n",
       "            <style>\n",
       "                .geemap-dark {\n",
       "                    --jp-widgets-color: white;\n",
       "                    --jp-widgets-label-color: white;\n",
       "                    --jp-ui-font-color1: white;\n",
       "                    --jp-layout-color2: #454545;\n",
       "                    background-color: #383838;\n",
       "                }\n",
       "\n",
       "                .geemap-dark .jupyter-button {\n",
       "                    --jp-layout-color3: #383838;\n",
       "                }\n",
       "\n",
       "                .geemap-colab {\n",
       "                    background-color: var(--colab-primary-surface-color, white);\n",
       "                }\n",
       "\n",
       "                .geemap-colab .jupyter-button {\n",
       "                    --jp-layout-color3: var(--colab-primary-surface-color, white);\n",
       "                }\n",
       "            </style>\n",
       "            "
      ],
      "text/plain": [
       "<IPython.core.display.HTML object>"
      ]
     },
     "metadata": {},
     "output_type": "display_data"
    }
   ],
   "source": [
    "args[\"zip_file_name\"] = \"myterrain\" # terrain model will be inside tmp/myterrain.zip"
   ]
  },
  {
   "cell_type": "markdown",
   "metadata": {},
   "source": [
    "### Other settings\n",
    "- There are several more expert settings which we will skip for now.\n",
    "- If you're interested, look here: https://github.com/ChHarding/TouchTerrain_for_CAGEO#processing-parameters\n",
    "- If you're interested, run the cell below to list all setting names and their values\n"
   ]
  },
  {
   "cell_type": "code",
   "execution_count": 18,
   "metadata": {},
   "outputs": [
    {
     "data": {
      "text/html": [
       "\n",
       "            <style>\n",
       "                .geemap-dark {\n",
       "                    --jp-widgets-color: white;\n",
       "                    --jp-widgets-label-color: white;\n",
       "                    --jp-ui-font-color1: white;\n",
       "                    --jp-layout-color2: #454545;\n",
       "                    background-color: #383838;\n",
       "                }\n",
       "\n",
       "                .geemap-dark .jupyter-button {\n",
       "                    --jp-layout-color3: #383838;\n",
       "                }\n",
       "\n",
       "                .geemap-colab {\n",
       "                    background-color: var(--colab-primary-surface-color, white);\n",
       "                }\n",
       "\n",
       "                .geemap-colab .jupyter-button {\n",
       "                    --jp-layout-color3: var(--colab-primary-surface-color, white);\n",
       "                }\n",
       "            </style>\n",
       "            "
      ],
      "text/plain": [
       "<IPython.core.display.HTML object>"
      ]
     },
     "metadata": {},
     "output_type": "display_data"
    },
    {
     "name": "stdout",
     "output_type": "stream",
     "text": [
      "DEM_name USGS/3DEP/10m\n",
      "bllat 39.322\n",
      "bllon -120.374\n",
      "trlat 39.457\n",
      "trlon -120.2\n",
      "importedDEM None\n",
      "printres 0.4\n",
      "ntilesx 1\n",
      "ntilesy 1\n",
      "tilewidth 120\n",
      "basethick 0.6\n",
      "zscale 1.0\n",
      "fileformat STLb\n",
      "tile_centered False\n",
      "zip_file_name myterrain\n",
      "CPU_cores_to_use None\n",
      "max_cells_for_memory_only 25000000\n",
      "no_bottom False\n",
      "bottom_image None\n",
      "ignore_leq None\n",
      "lower_leq None\n",
      "unprojected False\n",
      "only None\n",
      "importedGPX None\n",
      "smooth_borders True\n",
      "offset_masks_lower None\n",
      "fill_holes None\n",
      "poly_file None\n",
      "min_elev None\n",
      "tilewidth_scale None\n",
      "clean_diags False\n",
      "bottom_elevation None\n",
      "dirty_triangles: False\n",
      "gpxPathHeight 5\n",
      "gpxPixelsBetweenPoints 20\n",
      "gpxPathThickness 2\n",
      "polygon {\"coordinates\": [[[-118.01445, 34.294778], [-118.01445, 34.322003], [-117.948532, 34.322003], [-117.948532, 34.294778], [-118.01445, 34.294778]]], \"type\": \"Polygon\"}\n"
     ]
    }
   ],
   "source": [
    "for name in args:\n",
    "    print(name, args[name])"
   ]
  },
  {
   "cell_type": "markdown",
   "metadata": {},
   "source": [
    "## Generating the STL model file\n",
    "- Running the next cell will convert the DEM (either from a local geotiff file or from a Google Earth online DEM source) into STL file and put it inside a zipfile in the tmp folder. You will also get a log file and the geotiff that was processed.\n",
    "- This may take some time!\n",
    "- During processing you'll see a star indicator (In[*]) and a lot of log messages. Those messages will also be in the logfile inside the zip, and may be useful later."
   ]
  },
  {
   "cell_type": "code",
   "execution_count": 19,
   "metadata": {
    "scrolled": true
   },
   "outputs": [
    {
     "data": {
      "text/html": [
       "\n",
       "            <style>\n",
       "                .geemap-dark {\n",
       "                    --jp-widgets-color: white;\n",
       "                    --jp-widgets-label-color: white;\n",
       "                    --jp-ui-font-color1: white;\n",
       "                    --jp-layout-color2: #454545;\n",
       "                    background-color: #383838;\n",
       "                }\n",
       "\n",
       "                .geemap-dark .jupyter-button {\n",
       "                    --jp-layout-color3: #383838;\n",
       "                }\n",
       "\n",
       "                .geemap-colab {\n",
       "                    background-color: var(--colab-primary-surface-color, white);\n",
       "                }\n",
       "\n",
       "                .geemap-colab .jupyter-button {\n",
       "                    --jp-layout-color3: var(--colab-primary-surface-color, white);\n",
       "                }\n",
       "            </style>\n",
       "            "
      ],
      "text/plain": [
       "<IPython.core.display.HTML object>"
      ]
     },
     "metadata": {},
     "output_type": "display_data"
    },
    {
     "name": "stderr",
     "output_type": "stream",
     "text": [
      "INFO:root:Using GeoJSON polygon for masking with 203 points\n",
      "INFO:root:Log for creating 3D model tile(s) for  10m_-117.98_34.31 \n",
      " \n",
      "INFO:root:DEM_name = USGS/3DEP/10m \n",
      "INFO:root:trlat = 34.33086092018441 \n",
      "INFO:root:trlon = -117.93183747347896 \n",
      "INFO:root:bllat = 34.280735240249435 \n",
      "INFO:root:bllon = -118.03236335964064 \n",
      "INFO:root:printres = 0.4 \n",
      "INFO:root:ntilesx = 1 \n",
      "INFO:root:ntilesy = 1 \n",
      "INFO:root:tilewidth = 120 \n",
      "INFO:root:basethick = 0 \n",
      "INFO:root:zscale = 1.0 \n",
      "INFO:root:fileformat = STLb \n",
      "INFO:root:no_bottom = False \n",
      "INFO:root:unprojected = False \n",
      "INFO:root:no_normals = True \n",
      "INFO:root:\n",
      "process started: 18:46:30.785725 \n",
      "INFO:root:\n",
      "Region (lat/lon):\n",
      "   34.33086092018441 -117.93183747347896 (top right)\n",
      "   34.280735240249435 -118.03236335964064 (bottom left) \n",
      "INFO:root:center at [-117.9821004165598, 34.305798080216924], UTM11N, EPSG:32611 \n",
      "WARNING:OSMPythonTools:[overpass] downloading data: [timeout:25][out:json];\n",
      "    (\n",
      "      way[\"landuse\"](poly:\"34.315533731637075 -118.02203439886847 34.32350954756226 -118.02213109145875 34.32368105386686 -118.02212332759682 34.32385117127815 -118.02209594899604 34.32401835917572 -118.02204920348501 34.32418110346043 -118.02198351428967 34.32433793026706 -118.02189947620434 34.32448741931281 -118.0217978502088 34.3246282167609 -118.02167955657957 34.324759047482615 -118.02154566655825 34.324878726606656 -118.02139739265161 34.32498617025131 -118.02123607765178 34.325080405341936 -118.02106318247577 34.32966703833044 -118.01170490499219 34.329747197710915 -118.01152197634323 34.329812568333246 -118.0113306910011 34.32986255815493 -118.01113278135871 34.329896714431314 -118.0109300398145 34.32991472781679 -118.01072430253654 34.32991643516706 -118.01051743283018 34.329901821016946 -118.01031130425919 34.3298710177207 -118.0101077836743 34.329824304253066 -118.00990871430248 34.329762103682285 -118.00971589905016 34.329684979337934 -118.0095310841722 34.3257654104625 -118.00115768426338 34.32982113235417 -117.9928790010722 34.3299012639258 -117.99269605346694 34.32996660539695 -117.99250475242391 34.33001656498913 -117.99230683047827 34.3300506902315 -117.99210408013987 34.33006867205956 -117.99189833765655 34.330070347614814 -117.99169146638074 34.330055701720134 -117.99148533989047 34.33002486701731 -117.99128182501764 34.329978122765525 -117.99108276493742 34.32991589231189 -117.99088996247202 34.329838739256616 -117.99070516376051 34.32591786805277 -117.98233259142201 34.3299723329117 -117.97405295551673 34.330052436665326 -117.97386998898088 34.3301177489777 -117.97367867226387 34.33016767833442 -117.97348073804291 34.33020177253849 -117.97327797893908 34.33021972280656 -117.97307223127963 34.330221366566036 -117.97286535846388 34.330206688927774 -117.9726592340838 34.33017582282107 -117.9724557249522 34.3301290477896 -117.97225667419218 34.33006678745925 -117.97206388454156 34.32998960570086 -117.97187910202321 34.32606743256687 -117.9635073584687 34.33012063993202 -117.95522677100952 34.33020071585849 -117.95504378556875 34.330265999004475 -117.95485245320474 34.33031589811975 -117.95465450673643 34.33034996128127 -117.95445173889594 34.33036787998686 -117.95424598608959 34.33036949194976 -117.95403911176338 34.330354782568904 -117.95383298952298 34.330323885061084 -117.95362948616177 34.33027707925439 -117.95343044475057 34.330214789053485 -117.9532376679425 34.330137578599754 -117.95305290164407 34.325701874592305 -117.94358927258948 34.32561042923213 -117.94341420941778 34.32550559179411 -117.94325041667774 34.325388311749236 -117.94309937773448 34.32525965125251 -117.94296246043041 34.325120775522215 -117.94284090469733 34.32497294228566 -117.94273581132799 34.324817490387375 -117.94264813200837 34.32465582766277 -117.94257866070106 34.324489418187 -117.94252802645775 34.324319769015084 -117.94249668772571 34.32414841653276 -117.94248492819976 34.31617241075913 -117.94239576722477 34.31224816763193 -117.93402673449204 34.31215670777168 -117.93385170965087 34.31205185668937 -117.933687955034 34.311934563979555 -117.93353695366123 34.31180589191191 -117.93340007303468 34.31166700580946 -117.93327855275392 34.31151916349344 -117.9331734932907 34.311363703890564 -117.93308584602386 34.311202034905946 -117.93301640462575 34.31103562067142 -117.93296579787724 34.310865968285064 -117.93293448397662 34.31069461416168 -117.93292274639397 34.30167734357382 -117.9328230213825 34.30150583929796 -117.93283096608752 34.3013357383199 -117.93285851911801 34.30116858108943 -117.93290543083351 34.30100588138842 -117.93297127628588 34.3008491126226 -117.93305545907171 34.300699694479064 -117.93315721673687 34.30055898007076 -117.93327562768452 34.300428243683854 -117.93340961952333 34.30030866923929 -117.93355797878094 34.300201339572794 -117.93371936189406 34.30010722663021 -117.933892307376 34.29605547414875 -117.94217104318862 34.288079431015156 -117.9420820055841 34.28790792609537 -117.94208993083971 34.2877378230442 -117.94211746137431 34.287570662330225 -117.94216434775116 34.28740795776691 -117.94223016525167 34.28725118280404 -117.94231431772559 34.28710175718491 -117.94241604299337 34.28696103409012 -117.9425344197515 34.2868302878846 -117.94266837591832 34.28671070257824 -117.94281669834444 34.28660336110515 -117.94297804380011 34.2865092355181 -117.94315095113959 34.28192782683194 -117.95250835694927 34.28184775578755 -117.95269124130718 34.28178247732367 -117.952882466535 34.28173258257637 -117.95308030095066 34.281698523371304 -117.95328295303305 34.28168060813304 -117.95348858764265 34.28167899909261 -117.95369534263703 34.281693710818836 -117.95390134573039 34.28172461008638 -117.95410473144494 34.281771417082176 -117.95430365800082 34.281833707938766 -117.95449632399131 34.2819109185721 -117.95468098469301 34.28583380422104 -117.96304790034088 34.28178011957011 -117.97132380470825 34.281700020747905 -117.97150667020877 34.28163471316982 -117.97169787982907 34.28158478823555 -117.97189570202836 34.281550698044065 -117.97209834539612 34.281532751300496 -117.97230397487172 34.28153111052115 -117.97251072835915 34.281545790562205 -117.97271673358628 34.28157665848524 -117.97292012505606 34.28162343476097 -117.97311906093645 34.281685695800086 -117.97331173973639 34.28176287778855 -117.97349641661656 34.28568446381339 -117.98186415977581 34.28162952395641 -117.99013911414416 34.281549397365545 -117.99032196076169 34.28148406068085 -117.99051315474757 34.281434105565545 -117.99071096470261 34.28139998439188 -117.99091359932704 34.281382006145535 -117.99111922363942 34.28138033362804 -117.9913259755905 34.28139498198294 -117.99153198292201 34.281425818558716 -117.99173538011786 34.2814725641099 -117.99193432529427 34.281534795325406 -117.99212701687593 34.28161194866124 -117.99231170990787 34.28553223466373 -118.00068027936769 34.281476040061555 -118.00895428257945 34.281395885711206 -118.00913711028834 34.28133051992747 -118.00932828861295 34.28128053463709 -118.00952608629579 34.281246382485534 -118.00972871214823 34.28122837273895 -118.00993433126824 34.28122666848409 -118.01014108165353 34.28124128515185 -118.01034709106003 34.28127209037765 -118.01055049395286 34.28131880519984 -118.01074944839668 34.2813810065856 -118.01094215273233 34.28145813126102 -118.01112686188937 34.28588867339001 -118.02058888705668 34.28598000900732 -118.02076394755358 34.28608474310988 -118.02092775599563 34.286201927256194 -118.0210788289412 34.28633050025715 -118.02121579826101 34.28646929778459 -118.0213374235276 34.28661706291383 -118.02144260324941 34.28677245750486 -118.02153038484713 34.28693407431921 -118.0215999732826 34.28710044976268 -118.02165073826137 34.28727007713864 -118.02168221994403 34.28744142029212 -118.02169413311432 34.29541727370134 -118.02179069191587 34.299335487962736 -118.03016196407542 34.29942680900872 -118.03033706285579 34.299531529395026 -118.03050090938756 34.29964870080445 -118.03065201988426 34.299777262163225 -118.03078902587656 34.29991604924865 -118.03091068660495 34.300063805230636 -118.03101590025675 34.30021919205206 -118.03110371394538 34.300380802544865 -118.03117333234204 34.30054717317209 -118.03122412488088 34.30071679728082 -118.03125563147289 34.30088813874567 -118.0312675666762 34.30990514405918 -118.0313778117371 34.31007665096226 -118.03137006722618 34.31024677039552 -118.03134271103401 34.3104139617203 -118.03129599078639 34.31057671080648 -118.03123032948047 34.310733543745364 -118.03114632165808 34.310883040198654 -118.03104472802488 34.31102384626254 -118.03092646856445 34.311154686730305 -118.0307926142088 34.311274376642416 -118.03064437714177 34.31138183201948 -118.03048309982175 34.31147607968065 -118.0303102428245 34.315533731637075 -118.02203439886847\");\n",
      "      way[\"natural\"](poly:\"34.315533731637075 -118.02203439886847 34.32350954756226 -118.02213109145875 34.32368105386686 -118.02212332759682 34.32385117127815 -118.02209594899604 34.32401835917572 -118.02204920348501 34.32418110346043 -118.02198351428967 34.32433793026706 -118.02189947620434 34.32448741931281 -118.0217978502088 34.3246282167609 -118.02167955657957 34.324759047482615 -118.02154566655825 34.324878726606656 -118.02139739265161 34.32498617025131 -118.02123607765178 34.325080405341936 -118.02106318247577 34.32966703833044 -118.01170490499219 34.329747197710915 -118.01152197634323 34.329812568333246 -118.0113306910011 34.32986255815493 -118.01113278135871 34.329896714431314 -118.0109300398145 34.32991472781679 -118.01072430253654 34.32991643516706 -118.01051743283018 34.329901821016946 -118.01031130425919 34.3298710177207 -118.0101077836743 34.329824304253066 -118.00990871430248 34.329762103682285 -118.00971589905016 34.329684979337934 -118.0095310841722 34.3257654104625 -118.00115768426338 34.32982113235417 -117.9928790010722 34.3299012639258 -117.99269605346694 34.32996660539695 -117.99250475242391 34.33001656498913 -117.99230683047827 34.3300506902315 -117.99210408013987 34.33006867205956 -117.99189833765655 34.330070347614814 -117.99169146638074 34.330055701720134 -117.99148533989047 34.33002486701731 -117.99128182501764 34.329978122765525 -117.99108276493742 34.32991589231189 -117.99088996247202 34.329838739256616 -117.99070516376051 34.32591786805277 -117.98233259142201 34.3299723329117 -117.97405295551673 34.330052436665326 -117.97386998898088 34.3301177489777 -117.97367867226387 34.33016767833442 -117.97348073804291 34.33020177253849 -117.97327797893908 34.33021972280656 -117.97307223127963 34.330221366566036 -117.97286535846388 34.330206688927774 -117.9726592340838 34.33017582282107 -117.9724557249522 34.3301290477896 -117.97225667419218 34.33006678745925 -117.97206388454156 34.32998960570086 -117.97187910202321 34.32606743256687 -117.9635073584687 34.33012063993202 -117.95522677100952 34.33020071585849 -117.95504378556875 34.330265999004475 -117.95485245320474 34.33031589811975 -117.95465450673643 34.33034996128127 -117.95445173889594 34.33036787998686 -117.95424598608959 34.33036949194976 -117.95403911176338 34.330354782568904 -117.95383298952298 34.330323885061084 -117.95362948616177 34.33027707925439 -117.95343044475057 34.330214789053485 -117.9532376679425 34.330137578599754 -117.95305290164407 34.325701874592305 -117.94358927258948 34.32561042923213 -117.94341420941778 34.32550559179411 -117.94325041667774 34.325388311749236 -117.94309937773448 34.32525965125251 -117.94296246043041 34.325120775522215 -117.94284090469733 34.32497294228566 -117.94273581132799 34.324817490387375 -117.94264813200837 34.32465582766277 -117.94257866070106 34.324489418187 -117.94252802645775 34.324319769015084 -117.94249668772571 34.32414841653276 -117.94248492819976 34.31617241075913 -117.94239576722477 34.31224816763193 -117.93402673449204 34.31215670777168 -117.93385170965087 34.31205185668937 -117.933687955034 34.311934563979555 -117.93353695366123 34.31180589191191 -117.93340007303468 34.31166700580946 -117.93327855275392 34.31151916349344 -117.9331734932907 34.311363703890564 -117.93308584602386 34.311202034905946 -117.93301640462575 34.31103562067142 -117.93296579787724 34.310865968285064 -117.93293448397662 34.31069461416168 -117.93292274639397 34.30167734357382 -117.9328230213825 34.30150583929796 -117.93283096608752 34.3013357383199 -117.93285851911801 34.30116858108943 -117.93290543083351 34.30100588138842 -117.93297127628588 34.3008491126226 -117.93305545907171 34.300699694479064 -117.93315721673687 34.30055898007076 -117.93327562768452 34.300428243683854 -117.93340961952333 34.30030866923929 -117.93355797878094 34.300201339572794 -117.93371936189406 34.30010722663021 -117.933892307376 34.29605547414875 -117.94217104318862 34.288079431015156 -117.9420820055841 34.28790792609537 -117.94208993083971 34.2877378230442 -117.94211746137431 34.287570662330225 -117.94216434775116 34.28740795776691 -117.94223016525167 34.28725118280404 -117.94231431772559 34.28710175718491 -117.94241604299337 34.28696103409012 -117.9425344197515 34.2868302878846 -117.94266837591832 34.28671070257824 -117.94281669834444 34.28660336110515 -117.94297804380011 34.2865092355181 -117.94315095113959 34.28192782683194 -117.95250835694927 34.28184775578755 -117.95269124130718 34.28178247732367 -117.952882466535 34.28173258257637 -117.95308030095066 34.281698523371304 -117.95328295303305 34.28168060813304 -117.95348858764265 34.28167899909261 -117.95369534263703 34.281693710818836 -117.95390134573039 34.28172461008638 -117.95410473144494 34.281771417082176 -117.95430365800082 34.281833707938766 -117.95449632399131 34.2819109185721 -117.95468098469301 34.28583380422104 -117.96304790034088 34.28178011957011 -117.97132380470825 34.281700020747905 -117.97150667020877 34.28163471316982 -117.97169787982907 34.28158478823555 -117.97189570202836 34.281550698044065 -117.97209834539612 34.281532751300496 -117.97230397487172 34.28153111052115 -117.97251072835915 34.281545790562205 -117.97271673358628 34.28157665848524 -117.97292012505606 34.28162343476097 -117.97311906093645 34.281685695800086 -117.97331173973639 34.28176287778855 -117.97349641661656 34.28568446381339 -117.98186415977581 34.28162952395641 -117.99013911414416 34.281549397365545 -117.99032196076169 34.28148406068085 -117.99051315474757 34.281434105565545 -117.99071096470261 34.28139998439188 -117.99091359932704 34.281382006145535 -117.99111922363942 34.28138033362804 -117.9913259755905 34.28139498198294 -117.99153198292201 34.281425818558716 -117.99173538011786 34.2814725641099 -117.99193432529427 34.281534795325406 -117.99212701687593 34.28161194866124 -117.99231170990787 34.28553223466373 -118.00068027936769 34.281476040061555 -118.00895428257945 34.281395885711206 -118.00913711028834 34.28133051992747 -118.00932828861295 34.28128053463709 -118.00952608629579 34.281246382485534 -118.00972871214823 34.28122837273895 -118.00993433126824 34.28122666848409 -118.01014108165353 34.28124128515185 -118.01034709106003 34.28127209037765 -118.01055049395286 34.28131880519984 -118.01074944839668 34.2813810065856 -118.01094215273233 34.28145813126102 -118.01112686188937 34.28588867339001 -118.02058888705668 34.28598000900732 -118.02076394755358 34.28608474310988 -118.02092775599563 34.286201927256194 -118.0210788289412 34.28633050025715 -118.02121579826101 34.28646929778459 -118.0213374235276 34.28661706291383 -118.02144260324941 34.28677245750486 -118.02153038484713 34.28693407431921 -118.0215999732826 34.28710044976268 -118.02165073826137 34.28727007713864 -118.02168221994403 34.28744142029212 -118.02169413311432 34.29541727370134 -118.02179069191587 34.299335487962736 -118.03016196407542 34.29942680900872 -118.03033706285579 34.299531529395026 -118.03050090938756 34.29964870080445 -118.03065201988426 34.299777262163225 -118.03078902587656 34.29991604924865 -118.03091068660495 34.300063805230636 -118.03101590025675 34.30021919205206 -118.03110371394538 34.300380802544865 -118.03117333234204 34.30054717317209 -118.03122412488088 34.30071679728082 -118.03125563147289 34.30088813874567 -118.0312675666762 34.30990514405918 -118.0313778117371 34.31007665096226 -118.03137006722618 34.31024677039552 -118.03134271103401 34.3104139617203 -118.03129599078639 34.31057671080648 -118.03123032948047 34.310733543745364 -118.03114632165808 34.310883040198654 -118.03104472802488 34.31102384626254 -118.03092646856445 34.311154686730305 -118.0307926142088 34.311274376642416 -118.03064437714177 34.31138183201948 -118.03048309982175 34.31147607968065 -118.0303102428245 34.315533731637075 -118.02203439886847\");\n",
      "      way[\"landcover\"](poly:\"34.315533731637075 -118.02203439886847 34.32350954756226 -118.02213109145875 34.32368105386686 -118.02212332759682 34.32385117127815 -118.02209594899604 34.32401835917572 -118.02204920348501 34.32418110346043 -118.02198351428967 34.32433793026706 -118.02189947620434 34.32448741931281 -118.0217978502088 34.3246282167609 -118.02167955657957 34.324759047482615 -118.02154566655825 34.324878726606656 -118.02139739265161 34.32498617025131 -118.02123607765178 34.325080405341936 -118.02106318247577 34.32966703833044 -118.01170490499219 34.329747197710915 -118.01152197634323 34.329812568333246 -118.0113306910011 34.32986255815493 -118.01113278135871 34.329896714431314 -118.0109300398145 34.32991472781679 -118.01072430253654 34.32991643516706 -118.01051743283018 34.329901821016946 -118.01031130425919 34.3298710177207 -118.0101077836743 34.329824304253066 -118.00990871430248 34.329762103682285 -118.00971589905016 34.329684979337934 -118.0095310841722 34.3257654104625 -118.00115768426338 34.32982113235417 -117.9928790010722 34.3299012639258 -117.99269605346694 34.32996660539695 -117.99250475242391 34.33001656498913 -117.99230683047827 34.3300506902315 -117.99210408013987 34.33006867205956 -117.99189833765655 34.330070347614814 -117.99169146638074 34.330055701720134 -117.99148533989047 34.33002486701731 -117.99128182501764 34.329978122765525 -117.99108276493742 34.32991589231189 -117.99088996247202 34.329838739256616 -117.99070516376051 34.32591786805277 -117.98233259142201 34.3299723329117 -117.97405295551673 34.330052436665326 -117.97386998898088 34.3301177489777 -117.97367867226387 34.33016767833442 -117.97348073804291 34.33020177253849 -117.97327797893908 34.33021972280656 -117.97307223127963 34.330221366566036 -117.97286535846388 34.330206688927774 -117.9726592340838 34.33017582282107 -117.9724557249522 34.3301290477896 -117.97225667419218 34.33006678745925 -117.97206388454156 34.32998960570086 -117.97187910202321 34.32606743256687 -117.9635073584687 34.33012063993202 -117.95522677100952 34.33020071585849 -117.95504378556875 34.330265999004475 -117.95485245320474 34.33031589811975 -117.95465450673643 34.33034996128127 -117.95445173889594 34.33036787998686 -117.95424598608959 34.33036949194976 -117.95403911176338 34.330354782568904 -117.95383298952298 34.330323885061084 -117.95362948616177 34.33027707925439 -117.95343044475057 34.330214789053485 -117.9532376679425 34.330137578599754 -117.95305290164407 34.325701874592305 -117.94358927258948 34.32561042923213 -117.94341420941778 34.32550559179411 -117.94325041667774 34.325388311749236 -117.94309937773448 34.32525965125251 -117.94296246043041 34.325120775522215 -117.94284090469733 34.32497294228566 -117.94273581132799 34.324817490387375 -117.94264813200837 34.32465582766277 -117.94257866070106 34.324489418187 -117.94252802645775 34.324319769015084 -117.94249668772571 34.32414841653276 -117.94248492819976 34.31617241075913 -117.94239576722477 34.31224816763193 -117.93402673449204 34.31215670777168 -117.93385170965087 34.31205185668937 -117.933687955034 34.311934563979555 -117.93353695366123 34.31180589191191 -117.93340007303468 34.31166700580946 -117.93327855275392 34.31151916349344 -117.9331734932907 34.311363703890564 -117.93308584602386 34.311202034905946 -117.93301640462575 34.31103562067142 -117.93296579787724 34.310865968285064 -117.93293448397662 34.31069461416168 -117.93292274639397 34.30167734357382 -117.9328230213825 34.30150583929796 -117.93283096608752 34.3013357383199 -117.93285851911801 34.30116858108943 -117.93290543083351 34.30100588138842 -117.93297127628588 34.3008491126226 -117.93305545907171 34.300699694479064 -117.93315721673687 34.30055898007076 -117.93327562768452 34.300428243683854 -117.93340961952333 34.30030866923929 -117.93355797878094 34.300201339572794 -117.93371936189406 34.30010722663021 -117.933892307376 34.29605547414875 -117.94217104318862 34.288079431015156 -117.9420820055841 34.28790792609537 -117.94208993083971 34.2877378230442 -117.94211746137431 34.287570662330225 -117.94216434775116 34.28740795776691 -117.94223016525167 34.28725118280404 -117.94231431772559 34.28710175718491 -117.94241604299337 34.28696103409012 -117.9425344197515 34.2868302878846 -117.94266837591832 34.28671070257824 -117.94281669834444 34.28660336110515 -117.94297804380011 34.2865092355181 -117.94315095113959 34.28192782683194 -117.95250835694927 34.28184775578755 -117.95269124130718 34.28178247732367 -117.952882466535 34.28173258257637 -117.95308030095066 34.281698523371304 -117.95328295303305 34.28168060813304 -117.95348858764265 34.28167899909261 -117.95369534263703 34.281693710818836 -117.95390134573039 34.28172461008638 -117.95410473144494 34.281771417082176 -117.95430365800082 34.281833707938766 -117.95449632399131 34.2819109185721 -117.95468098469301 34.28583380422104 -117.96304790034088 34.28178011957011 -117.97132380470825 34.281700020747905 -117.97150667020877 34.28163471316982 -117.97169787982907 34.28158478823555 -117.97189570202836 34.281550698044065 -117.97209834539612 34.281532751300496 -117.97230397487172 34.28153111052115 -117.97251072835915 34.281545790562205 -117.97271673358628 34.28157665848524 -117.97292012505606 34.28162343476097 -117.97311906093645 34.281685695800086 -117.97331173973639 34.28176287778855 -117.97349641661656 34.28568446381339 -117.98186415977581 34.28162952395641 -117.99013911414416 34.281549397365545 -117.99032196076169 34.28148406068085 -117.99051315474757 34.281434105565545 -117.99071096470261 34.28139998439188 -117.99091359932704 34.281382006145535 -117.99111922363942 34.28138033362804 -117.9913259755905 34.28139498198294 -117.99153198292201 34.281425818558716 -117.99173538011786 34.2814725641099 -117.99193432529427 34.281534795325406 -117.99212701687593 34.28161194866124 -117.99231170990787 34.28553223466373 -118.00068027936769 34.281476040061555 -118.00895428257945 34.281395885711206 -118.00913711028834 34.28133051992747 -118.00932828861295 34.28128053463709 -118.00952608629579 34.281246382485534 -118.00972871214823 34.28122837273895 -118.00993433126824 34.28122666848409 -118.01014108165353 34.28124128515185 -118.01034709106003 34.28127209037765 -118.01055049395286 34.28131880519984 -118.01074944839668 34.2813810065856 -118.01094215273233 34.28145813126102 -118.01112686188937 34.28588867339001 -118.02058888705668 34.28598000900732 -118.02076394755358 34.28608474310988 -118.02092775599563 34.286201927256194 -118.0210788289412 34.28633050025715 -118.02121579826101 34.28646929778459 -118.0213374235276 34.28661706291383 -118.02144260324941 34.28677245750486 -118.02153038484713 34.28693407431921 -118.0215999732826 34.28710044976268 -118.02165073826137 34.28727007713864 -118.02168221994403 34.28744142029212 -118.02169413311432 34.29541727370134 -118.02179069191587 34.299335487962736 -118.03016196407542 34.29942680900872 -118.03033706285579 34.299531529395026 -118.03050090938756 34.29964870080445 -118.03065201988426 34.299777262163225 -118.03078902587656 34.29991604924865 -118.03091068660495 34.300063805230636 -118.03101590025675 34.30021919205206 -118.03110371394538 34.300380802544865 -118.03117333234204 34.30054717317209 -118.03122412488088 34.30071679728082 -118.03125563147289 34.30088813874567 -118.0312675666762 34.30990514405918 -118.0313778117371 34.31007665096226 -118.03137006722618 34.31024677039552 -118.03134271103401 34.3104139617203 -118.03129599078639 34.31057671080648 -118.03123032948047 34.310733543745364 -118.03114632165808 34.310883040198654 -118.03104472802488 34.31102384626254 -118.03092646856445 34.311154686730305 -118.0307926142088 34.311274376642416 -118.03064437714177 34.31138183201948 -118.03048309982175 34.31147607968065 -118.0303102428245 34.315533731637075 -118.02203439886847\");\n",
      "      relation[\"landuse\"](poly:\"34.315533731637075 -118.02203439886847 34.32350954756226 -118.02213109145875 34.32368105386686 -118.02212332759682 34.32385117127815 -118.02209594899604 34.32401835917572 -118.02204920348501 34.32418110346043 -118.02198351428967 34.32433793026706 -118.02189947620434 34.32448741931281 -118.0217978502088 34.3246282167609 -118.02167955657957 34.324759047482615 -118.02154566655825 34.324878726606656 -118.02139739265161 34.32498617025131 -118.02123607765178 34.325080405341936 -118.02106318247577 34.32966703833044 -118.01170490499219 34.329747197710915 -118.01152197634323 34.329812568333246 -118.0113306910011 34.32986255815493 -118.01113278135871 34.329896714431314 -118.0109300398145 34.32991472781679 -118.01072430253654 34.32991643516706 -118.01051743283018 34.329901821016946 -118.01031130425919 34.3298710177207 -118.0101077836743 34.329824304253066 -118.00990871430248 34.329762103682285 -118.00971589905016 34.329684979337934 -118.0095310841722 34.3257654104625 -118.00115768426338 34.32982113235417 -117.9928790010722 34.3299012639258 -117.99269605346694 34.32996660539695 -117.99250475242391 34.33001656498913 -117.99230683047827 34.3300506902315 -117.99210408013987 34.33006867205956 -117.99189833765655 34.330070347614814 -117.99169146638074 34.330055701720134 -117.99148533989047 34.33002486701731 -117.99128182501764 34.329978122765525 -117.99108276493742 34.32991589231189 -117.99088996247202 34.329838739256616 -117.99070516376051 34.32591786805277 -117.98233259142201 34.3299723329117 -117.97405295551673 34.330052436665326 -117.97386998898088 34.3301177489777 -117.97367867226387 34.33016767833442 -117.97348073804291 34.33020177253849 -117.97327797893908 34.33021972280656 -117.97307223127963 34.330221366566036 -117.97286535846388 34.330206688927774 -117.9726592340838 34.33017582282107 -117.9724557249522 34.3301290477896 -117.97225667419218 34.33006678745925 -117.97206388454156 34.32998960570086 -117.97187910202321 34.32606743256687 -117.9635073584687 34.33012063993202 -117.95522677100952 34.33020071585849 -117.95504378556875 34.330265999004475 -117.95485245320474 34.33031589811975 -117.95465450673643 34.33034996128127 -117.95445173889594 34.33036787998686 -117.95424598608959 34.33036949194976 -117.95403911176338 34.330354782568904 -117.95383298952298 34.330323885061084 -117.95362948616177 34.33027707925439 -117.95343044475057 34.330214789053485 -117.9532376679425 34.330137578599754 -117.95305290164407 34.325701874592305 -117.94358927258948 34.32561042923213 -117.94341420941778 34.32550559179411 -117.94325041667774 34.325388311749236 -117.94309937773448 34.32525965125251 -117.94296246043041 34.325120775522215 -117.94284090469733 34.32497294228566 -117.94273581132799 34.324817490387375 -117.94264813200837 34.32465582766277 -117.94257866070106 34.324489418187 -117.94252802645775 34.324319769015084 -117.94249668772571 34.32414841653276 -117.94248492819976 34.31617241075913 -117.94239576722477 34.31224816763193 -117.93402673449204 34.31215670777168 -117.93385170965087 34.31205185668937 -117.933687955034 34.311934563979555 -117.93353695366123 34.31180589191191 -117.93340007303468 34.31166700580946 -117.93327855275392 34.31151916349344 -117.9331734932907 34.311363703890564 -117.93308584602386 34.311202034905946 -117.93301640462575 34.31103562067142 -117.93296579787724 34.310865968285064 -117.93293448397662 34.31069461416168 -117.93292274639397 34.30167734357382 -117.9328230213825 34.30150583929796 -117.93283096608752 34.3013357383199 -117.93285851911801 34.30116858108943 -117.93290543083351 34.30100588138842 -117.93297127628588 34.3008491126226 -117.93305545907171 34.300699694479064 -117.93315721673687 34.30055898007076 -117.93327562768452 34.300428243683854 -117.93340961952333 34.30030866923929 -117.93355797878094 34.300201339572794 -117.93371936189406 34.30010722663021 -117.933892307376 34.29605547414875 -117.94217104318862 34.288079431015156 -117.9420820055841 34.28790792609537 -117.94208993083971 34.2877378230442 -117.94211746137431 34.287570662330225 -117.94216434775116 34.28740795776691 -117.94223016525167 34.28725118280404 -117.94231431772559 34.28710175718491 -117.94241604299337 34.28696103409012 -117.9425344197515 34.2868302878846 -117.94266837591832 34.28671070257824 -117.94281669834444 34.28660336110515 -117.94297804380011 34.2865092355181 -117.94315095113959 34.28192782683194 -117.95250835694927 34.28184775578755 -117.95269124130718 34.28178247732367 -117.952882466535 34.28173258257637 -117.95308030095066 34.281698523371304 -117.95328295303305 34.28168060813304 -117.95348858764265 34.28167899909261 -117.95369534263703 34.281693710818836 -117.95390134573039 34.28172461008638 -117.95410473144494 34.281771417082176 -117.95430365800082 34.281833707938766 -117.95449632399131 34.2819109185721 -117.95468098469301 34.28583380422104 -117.96304790034088 34.28178011957011 -117.97132380470825 34.281700020747905 -117.97150667020877 34.28163471316982 -117.97169787982907 34.28158478823555 -117.97189570202836 34.281550698044065 -117.97209834539612 34.281532751300496 -117.97230397487172 34.28153111052115 -117.97251072835915 34.281545790562205 -117.97271673358628 34.28157665848524 -117.97292012505606 34.28162343476097 -117.97311906093645 34.281685695800086 -117.97331173973639 34.28176287778855 -117.97349641661656 34.28568446381339 -117.98186415977581 34.28162952395641 -117.99013911414416 34.281549397365545 -117.99032196076169 34.28148406068085 -117.99051315474757 34.281434105565545 -117.99071096470261 34.28139998439188 -117.99091359932704 34.281382006145535 -117.99111922363942 34.28138033362804 -117.9913259755905 34.28139498198294 -117.99153198292201 34.281425818558716 -117.99173538011786 34.2814725641099 -117.99193432529427 34.281534795325406 -117.99212701687593 34.28161194866124 -117.99231170990787 34.28553223466373 -118.00068027936769 34.281476040061555 -118.00895428257945 34.281395885711206 -118.00913711028834 34.28133051992747 -118.00932828861295 34.28128053463709 -118.00952608629579 34.281246382485534 -118.00972871214823 34.28122837273895 -118.00993433126824 34.28122666848409 -118.01014108165353 34.28124128515185 -118.01034709106003 34.28127209037765 -118.01055049395286 34.28131880519984 -118.01074944839668 34.2813810065856 -118.01094215273233 34.28145813126102 -118.01112686188937 34.28588867339001 -118.02058888705668 34.28598000900732 -118.02076394755358 34.28608474310988 -118.02092775599563 34.286201927256194 -118.0210788289412 34.28633050025715 -118.02121579826101 34.28646929778459 -118.0213374235276 34.28661706291383 -118.02144260324941 34.28677245750486 -118.02153038484713 34.28693407431921 -118.0215999732826 34.28710044976268 -118.02165073826137 34.28727007713864 -118.02168221994403 34.28744142029212 -118.02169413311432 34.29541727370134 -118.02179069191587 34.299335487962736 -118.03016196407542 34.29942680900872 -118.03033706285579 34.299531529395026 -118.03050090938756 34.29964870080445 -118.03065201988426 34.299777262163225 -118.03078902587656 34.29991604924865 -118.03091068660495 34.300063805230636 -118.03101590025675 34.30021919205206 -118.03110371394538 34.300380802544865 -118.03117333234204 34.30054717317209 -118.03122412488088 34.30071679728082 -118.03125563147289 34.30088813874567 -118.0312675666762 34.30990514405918 -118.0313778117371 34.31007665096226 -118.03137006722618 34.31024677039552 -118.03134271103401 34.3104139617203 -118.03129599078639 34.31057671080648 -118.03123032948047 34.310733543745364 -118.03114632165808 34.310883040198654 -118.03104472802488 34.31102384626254 -118.03092646856445 34.311154686730305 -118.0307926142088 34.311274376642416 -118.03064437714177 34.31138183201948 -118.03048309982175 34.31147607968065 -118.0303102428245 34.315533731637075 -118.02203439886847\");\n",
      "      relation[\"natural\"](poly:\"34.315533731637075 -118.02203439886847 34.32350954756226 -118.02213109145875 34.32368105386686 -118.02212332759682 34.32385117127815 -118.02209594899604 34.32401835917572 -118.02204920348501 34.32418110346043 -118.02198351428967 34.32433793026706 -118.02189947620434 34.32448741931281 -118.0217978502088 34.3246282167609 -118.02167955657957 34.324759047482615 -118.02154566655825 34.324878726606656 -118.02139739265161 34.32498617025131 -118.02123607765178 34.325080405341936 -118.02106318247577 34.32966703833044 -118.01170490499219 34.329747197710915 -118.01152197634323 34.329812568333246 -118.0113306910011 34.32986255815493 -118.01113278135871 34.329896714431314 -118.0109300398145 34.32991472781679 -118.01072430253654 34.32991643516706 -118.01051743283018 34.329901821016946 -118.01031130425919 34.3298710177207 -118.0101077836743 34.329824304253066 -118.00990871430248 34.329762103682285 -118.00971589905016 34.329684979337934 -118.0095310841722 34.3257654104625 -118.00115768426338 34.32982113235417 -117.9928790010722 34.3299012639258 -117.99269605346694 34.32996660539695 -117.99250475242391 34.33001656498913 -117.99230683047827 34.3300506902315 -117.99210408013987 34.33006867205956 -117.99189833765655 34.330070347614814 -117.99169146638074 34.330055701720134 -117.99148533989047 34.33002486701731 -117.99128182501764 34.329978122765525 -117.99108276493742 34.32991589231189 -117.99088996247202 34.329838739256616 -117.99070516376051 34.32591786805277 -117.98233259142201 34.3299723329117 -117.97405295551673 34.330052436665326 -117.97386998898088 34.3301177489777 -117.97367867226387 34.33016767833442 -117.97348073804291 34.33020177253849 -117.97327797893908 34.33021972280656 -117.97307223127963 34.330221366566036 -117.97286535846388 34.330206688927774 -117.9726592340838 34.33017582282107 -117.9724557249522 34.3301290477896 -117.97225667419218 34.33006678745925 -117.97206388454156 34.32998960570086 -117.97187910202321 34.32606743256687 -117.9635073584687 34.33012063993202 -117.95522677100952 34.33020071585849 -117.95504378556875 34.330265999004475 -117.95485245320474 34.33031589811975 -117.95465450673643 34.33034996128127 -117.95445173889594 34.33036787998686 -117.95424598608959 34.33036949194976 -117.95403911176338 34.330354782568904 -117.95383298952298 34.330323885061084 -117.95362948616177 34.33027707925439 -117.95343044475057 34.330214789053485 -117.9532376679425 34.330137578599754 -117.95305290164407 34.325701874592305 -117.94358927258948 34.32561042923213 -117.94341420941778 34.32550559179411 -117.94325041667774 34.325388311749236 -117.94309937773448 34.32525965125251 -117.94296246043041 34.325120775522215 -117.94284090469733 34.32497294228566 -117.94273581132799 34.324817490387375 -117.94264813200837 34.32465582766277 -117.94257866070106 34.324489418187 -117.94252802645775 34.324319769015084 -117.94249668772571 34.32414841653276 -117.94248492819976 34.31617241075913 -117.94239576722477 34.31224816763193 -117.93402673449204 34.31215670777168 -117.93385170965087 34.31205185668937 -117.933687955034 34.311934563979555 -117.93353695366123 34.31180589191191 -117.93340007303468 34.31166700580946 -117.93327855275392 34.31151916349344 -117.9331734932907 34.311363703890564 -117.93308584602386 34.311202034905946 -117.93301640462575 34.31103562067142 -117.93296579787724 34.310865968285064 -117.93293448397662 34.31069461416168 -117.93292274639397 34.30167734357382 -117.9328230213825 34.30150583929796 -117.93283096608752 34.3013357383199 -117.93285851911801 34.30116858108943 -117.93290543083351 34.30100588138842 -117.93297127628588 34.3008491126226 -117.93305545907171 34.300699694479064 -117.93315721673687 34.30055898007076 -117.93327562768452 34.300428243683854 -117.93340961952333 34.30030866923929 -117.93355797878094 34.300201339572794 -117.93371936189406 34.30010722663021 -117.933892307376 34.29605547414875 -117.94217104318862 34.288079431015156 -117.9420820055841 34.28790792609537 -117.94208993083971 34.2877378230442 -117.94211746137431 34.287570662330225 -117.94216434775116 34.28740795776691 -117.94223016525167 34.28725118280404 -117.94231431772559 34.28710175718491 -117.94241604299337 34.28696103409012 -117.9425344197515 34.2868302878846 -117.94266837591832 34.28671070257824 -117.94281669834444 34.28660336110515 -117.94297804380011 34.2865092355181 -117.94315095113959 34.28192782683194 -117.95250835694927 34.28184775578755 -117.95269124130718 34.28178247732367 -117.952882466535 34.28173258257637 -117.95308030095066 34.281698523371304 -117.95328295303305 34.28168060813304 -117.95348858764265 34.28167899909261 -117.95369534263703 34.281693710818836 -117.95390134573039 34.28172461008638 -117.95410473144494 34.281771417082176 -117.95430365800082 34.281833707938766 -117.95449632399131 34.2819109185721 -117.95468098469301 34.28583380422104 -117.96304790034088 34.28178011957011 -117.97132380470825 34.281700020747905 -117.97150667020877 34.28163471316982 -117.97169787982907 34.28158478823555 -117.97189570202836 34.281550698044065 -117.97209834539612 34.281532751300496 -117.97230397487172 34.28153111052115 -117.97251072835915 34.281545790562205 -117.97271673358628 34.28157665848524 -117.97292012505606 34.28162343476097 -117.97311906093645 34.281685695800086 -117.97331173973639 34.28176287778855 -117.97349641661656 34.28568446381339 -117.98186415977581 34.28162952395641 -117.99013911414416 34.281549397365545 -117.99032196076169 34.28148406068085 -117.99051315474757 34.281434105565545 -117.99071096470261 34.28139998439188 -117.99091359932704 34.281382006145535 -117.99111922363942 34.28138033362804 -117.9913259755905 34.28139498198294 -117.99153198292201 34.281425818558716 -117.99173538011786 34.2814725641099 -117.99193432529427 34.281534795325406 -117.99212701687593 34.28161194866124 -117.99231170990787 34.28553223466373 -118.00068027936769 34.281476040061555 -118.00895428257945 34.281395885711206 -118.00913711028834 34.28133051992747 -118.00932828861295 34.28128053463709 -118.00952608629579 34.281246382485534 -118.00972871214823 34.28122837273895 -118.00993433126824 34.28122666848409 -118.01014108165353 34.28124128515185 -118.01034709106003 34.28127209037765 -118.01055049395286 34.28131880519984 -118.01074944839668 34.2813810065856 -118.01094215273233 34.28145813126102 -118.01112686188937 34.28588867339001 -118.02058888705668 34.28598000900732 -118.02076394755358 34.28608474310988 -118.02092775599563 34.286201927256194 -118.0210788289412 34.28633050025715 -118.02121579826101 34.28646929778459 -118.0213374235276 34.28661706291383 -118.02144260324941 34.28677245750486 -118.02153038484713 34.28693407431921 -118.0215999732826 34.28710044976268 -118.02165073826137 34.28727007713864 -118.02168221994403 34.28744142029212 -118.02169413311432 34.29541727370134 -118.02179069191587 34.299335487962736 -118.03016196407542 34.29942680900872 -118.03033706285579 34.299531529395026 -118.03050090938756 34.29964870080445 -118.03065201988426 34.299777262163225 -118.03078902587656 34.29991604924865 -118.03091068660495 34.300063805230636 -118.03101590025675 34.30021919205206 -118.03110371394538 34.300380802544865 -118.03117333234204 34.30054717317209 -118.03122412488088 34.30071679728082 -118.03125563147289 34.30088813874567 -118.0312675666762 34.30990514405918 -118.0313778117371 34.31007665096226 -118.03137006722618 34.31024677039552 -118.03134271103401 34.3104139617203 -118.03129599078639 34.31057671080648 -118.03123032948047 34.310733543745364 -118.03114632165808 34.310883040198654 -118.03104472802488 34.31102384626254 -118.03092646856445 34.311154686730305 -118.0307926142088 34.311274376642416 -118.03064437714177 34.31138183201948 -118.03048309982175 34.31147607968065 -118.0303102428245 34.315533731637075 -118.02203439886847\");\n",
      "      relation[\"landcover\"](poly:\"34.315533731637075 -118.02203439886847 34.32350954756226 -118.02213109145875 34.32368105386686 -118.02212332759682 34.32385117127815 -118.02209594899604 34.32401835917572 -118.02204920348501 34.32418110346043 -118.02198351428967 34.32433793026706 -118.02189947620434 34.32448741931281 -118.0217978502088 34.3246282167609 -118.02167955657957 34.324759047482615 -118.02154566655825 34.324878726606656 -118.02139739265161 34.32498617025131 -118.02123607765178 34.325080405341936 -118.02106318247577 34.32966703833044 -118.01170490499219 34.329747197710915 -118.01152197634323 34.329812568333246 -118.0113306910011 34.32986255815493 -118.01113278135871 34.329896714431314 -118.0109300398145 34.32991472781679 -118.01072430253654 34.32991643516706 -118.01051743283018 34.329901821016946 -118.01031130425919 34.3298710177207 -118.0101077836743 34.329824304253066 -118.00990871430248 34.329762103682285 -118.00971589905016 34.329684979337934 -118.0095310841722 34.3257654104625 -118.00115768426338 34.32982113235417 -117.9928790010722 34.3299012639258 -117.99269605346694 34.32996660539695 -117.99250475242391 34.33001656498913 -117.99230683047827 34.3300506902315 -117.99210408013987 34.33006867205956 -117.99189833765655 34.330070347614814 -117.99169146638074 34.330055701720134 -117.99148533989047 34.33002486701731 -117.99128182501764 34.329978122765525 -117.99108276493742 34.32991589231189 -117.99088996247202 34.329838739256616 -117.99070516376051 34.32591786805277 -117.98233259142201 34.3299723329117 -117.97405295551673 34.330052436665326 -117.97386998898088 34.3301177489777 -117.97367867226387 34.33016767833442 -117.97348073804291 34.33020177253849 -117.97327797893908 34.33021972280656 -117.97307223127963 34.330221366566036 -117.97286535846388 34.330206688927774 -117.9726592340838 34.33017582282107 -117.9724557249522 34.3301290477896 -117.97225667419218 34.33006678745925 -117.97206388454156 34.32998960570086 -117.97187910202321 34.32606743256687 -117.9635073584687 34.33012063993202 -117.95522677100952 34.33020071585849 -117.95504378556875 34.330265999004475 -117.95485245320474 34.33031589811975 -117.95465450673643 34.33034996128127 -117.95445173889594 34.33036787998686 -117.95424598608959 34.33036949194976 -117.95403911176338 34.330354782568904 -117.95383298952298 34.330323885061084 -117.95362948616177 34.33027707925439 -117.95343044475057 34.330214789053485 -117.9532376679425 34.330137578599754 -117.95305290164407 34.325701874592305 -117.94358927258948 34.32561042923213 -117.94341420941778 34.32550559179411 -117.94325041667774 34.325388311749236 -117.94309937773448 34.32525965125251 -117.94296246043041 34.325120775522215 -117.94284090469733 34.32497294228566 -117.94273581132799 34.324817490387375 -117.94264813200837 34.32465582766277 -117.94257866070106 34.324489418187 -117.94252802645775 34.324319769015084 -117.94249668772571 34.32414841653276 -117.94248492819976 34.31617241075913 -117.94239576722477 34.31224816763193 -117.93402673449204 34.31215670777168 -117.93385170965087 34.31205185668937 -117.933687955034 34.311934563979555 -117.93353695366123 34.31180589191191 -117.93340007303468 34.31166700580946 -117.93327855275392 34.31151916349344 -117.9331734932907 34.311363703890564 -117.93308584602386 34.311202034905946 -117.93301640462575 34.31103562067142 -117.93296579787724 34.310865968285064 -117.93293448397662 34.31069461416168 -117.93292274639397 34.30167734357382 -117.9328230213825 34.30150583929796 -117.93283096608752 34.3013357383199 -117.93285851911801 34.30116858108943 -117.93290543083351 34.30100588138842 -117.93297127628588 34.3008491126226 -117.93305545907171 34.300699694479064 -117.93315721673687 34.30055898007076 -117.93327562768452 34.300428243683854 -117.93340961952333 34.30030866923929 -117.93355797878094 34.300201339572794 -117.93371936189406 34.30010722663021 -117.933892307376 34.29605547414875 -117.94217104318862 34.288079431015156 -117.9420820055841 34.28790792609537 -117.94208993083971 34.2877378230442 -117.94211746137431 34.287570662330225 -117.94216434775116 34.28740795776691 -117.94223016525167 34.28725118280404 -117.94231431772559 34.28710175718491 -117.94241604299337 34.28696103409012 -117.9425344197515 34.2868302878846 -117.94266837591832 34.28671070257824 -117.94281669834444 34.28660336110515 -117.94297804380011 34.2865092355181 -117.94315095113959 34.28192782683194 -117.95250835694927 34.28184775578755 -117.95269124130718 34.28178247732367 -117.952882466535 34.28173258257637 -117.95308030095066 34.281698523371304 -117.95328295303305 34.28168060813304 -117.95348858764265 34.28167899909261 -117.95369534263703 34.281693710818836 -117.95390134573039 34.28172461008638 -117.95410473144494 34.281771417082176 -117.95430365800082 34.281833707938766 -117.95449632399131 34.2819109185721 -117.95468098469301 34.28583380422104 -117.96304790034088 34.28178011957011 -117.97132380470825 34.281700020747905 -117.97150667020877 34.28163471316982 -117.97169787982907 34.28158478823555 -117.97189570202836 34.281550698044065 -117.97209834539612 34.281532751300496 -117.97230397487172 34.28153111052115 -117.97251072835915 34.281545790562205 -117.97271673358628 34.28157665848524 -117.97292012505606 34.28162343476097 -117.97311906093645 34.281685695800086 -117.97331173973639 34.28176287778855 -117.97349641661656 34.28568446381339 -117.98186415977581 34.28162952395641 -117.99013911414416 34.281549397365545 -117.99032196076169 34.28148406068085 -117.99051315474757 34.281434105565545 -117.99071096470261 34.28139998439188 -117.99091359932704 34.281382006145535 -117.99111922363942 34.28138033362804 -117.9913259755905 34.28139498198294 -117.99153198292201 34.281425818558716 -117.99173538011786 34.2814725641099 -117.99193432529427 34.281534795325406 -117.99212701687593 34.28161194866124 -117.99231170990787 34.28553223466373 -118.00068027936769 34.281476040061555 -118.00895428257945 34.281395885711206 -118.00913711028834 34.28133051992747 -118.00932828861295 34.28128053463709 -118.00952608629579 34.281246382485534 -118.00972871214823 34.28122837273895 -118.00993433126824 34.28122666848409 -118.01014108165353 34.28124128515185 -118.01034709106003 34.28127209037765 -118.01055049395286 34.28131880519984 -118.01074944839668 34.2813810065856 -118.01094215273233 34.28145813126102 -118.01112686188937 34.28588867339001 -118.02058888705668 34.28598000900732 -118.02076394755358 34.28608474310988 -118.02092775599563 34.286201927256194 -118.0210788289412 34.28633050025715 -118.02121579826101 34.28646929778459 -118.0213374235276 34.28661706291383 -118.02144260324941 34.28677245750486 -118.02153038484713 34.28693407431921 -118.0215999732826 34.28710044976268 -118.02165073826137 34.28727007713864 -118.02168221994403 34.28744142029212 -118.02169413311432 34.29541727370134 -118.02179069191587 34.299335487962736 -118.03016196407542 34.29942680900872 -118.03033706285579 34.299531529395026 -118.03050090938756 34.29964870080445 -118.03065201988426 34.299777262163225 -118.03078902587656 34.29991604924865 -118.03091068660495 34.300063805230636 -118.03101590025675 34.30021919205206 -118.03110371394538 34.300380802544865 -118.03117333234204 34.30054717317209 -118.03122412488088 34.30071679728082 -118.03125563147289 34.30088813874567 -118.0312675666762 34.30990514405918 -118.0313778117371 34.31007665096226 -118.03137006722618 34.31024677039552 -118.03134271103401 34.3104139617203 -118.03129599078639 34.31057671080648 -118.03123032948047 34.310733543745364 -118.03114632165808 34.310883040198654 -118.03104472802488 34.31102384626254 -118.03092646856445 34.311154686730305 -118.0307926142088 34.311274376642416 -118.03064437714177 34.31138183201948 -118.03048309982175 34.31147607968065 -118.0303102428245 34.315533731637075 -118.02203439886847\");\n",
      "    );\n",
      "    out geom;\n",
      "    \n"
     ]
    },
    {
     "name": "stdout",
     "output_type": "stream",
     "text": [
      "Log for creating 3D model tile(s) for  10m_-117.98_34.31 \n",
      " \n",
      "DEM_name = USGS/3DEP/10m \n",
      "trlat = 34.33086092018441 \n",
      "trlon = -117.93183747347896 \n",
      "bllat = 34.280735240249435 \n",
      "bllon = -118.03236335964064 \n",
      "printres = 0.4 \n",
      "ntilesx = 1 \n",
      "ntilesy = 1 \n",
      "tilewidth = 120 \n",
      "basethick = 0 \n",
      "zscale = 1.0 \n",
      "fileformat = STLb \n",
      "no_bottom = False \n",
      "unprojected = False \n",
      "no_normals = True \n",
      "\n",
      "process started: 18:46:30.785725 \n",
      "\n",
      "Region (lat/lon):\n",
      "   34.33086092018441 -117.93183747347896 (top right)\n",
      "   34.280735240249435 -118.03236335964064 (bottom left) \n",
      "easting: -117.9821004165598 northing: 34.305798080216924\n",
      "easting: -117.9821004165598 northing: 34.305798080216924\n",
      "center at [-117.9821004165598, 34.305798080216924], UTM11N, EPSG:32611 \n"
     ]
    },
    {
     "name": "stderr",
     "output_type": "stream",
     "text": [
      "INFO:root:lon/lat size in degrees: [0.10052588616167668, 0.05012567993497896] \n",
      "INFO:root:Earth Engine raster: USGS/3DEP/10m \n"
     ]
    },
    {
     "name": "stdout",
     "output_type": "stream",
     "text": [
      "lon/lat size in degrees: [0.10052588616167668, 0.05012567993497896] \n",
      "requesting 30.845492927050692 m resolution from EarthEngine\n",
      "Earth Engine raster: USGS/3DEP/10m \n"
     ]
    },
    {
     "name": "stderr",
     "output_type": "stream",
     "text": [
      "INFO:root:URL for geotiff is:  https://earthengine.googleapis.com/v1/projects/579068275138/thumbnails/7ec7434c3870c4b8d625c5e81d2747a8-2ff8eeacdb3ebfb149a68a6b2f54f5d2:getPixels \n"
     ]
    },
    {
     "name": "stdout",
     "output_type": "stream",
     "text": [
      "URL for geotiff is:  https://earthengine.googleapis.com/v1/projects/579068275138/thumbnails/7ec7434c3870c4b8d625c5e81d2747a8-2ff8eeacdb3ebfb149a68a6b2f54f5d2:getPixels \n"
     ]
    },
    {
     "name": "stderr",
     "output_type": "stream",
     "text": [
      "INFO:root: geotiff size: 0.13573837280273438 Mb \n",
      "INFO:root: cell size 30.845492927050692 m, upper left corner (x/y):  405093.85861095676 3799208.5183319068 \n",
      "INFO:root:omitting cells with elevation < -16384 \n",
      "INFO:root:full (untiled) raster (height,width)  (176, 294) float64 elev. min/max: 944.9867553710938 2235.02587890625 \n",
      "INFO:root:cell size: 30.845492927050692 m  \n",
      "INFO:root:adjusted print res from the requested 0.4 mm to 0.40816326530612246 mm to ensure correct model dimensions \n",
      "INFO:root:total model size in mm: 120 x 71.83673469387755 \n",
      "INFO:root:map scale is 1 : 75571.4576712742 \n"
     ]
    },
    {
     "name": "stdout",
     "output_type": "stream",
     "text": [
      " geotiff size: 0.13573837280273438 Mb \n",
      " cell size 30.845492927050692 m, upper left corner (x/y):  405093.85861095676 3799208.5183319068 \n",
      "omitting cells with elevation < -16384 \n",
      "full (untiled) raster (height,width)  (176, 294) float64 elev. min/max: 944.9867553710938 2235.02587890625 \n",
      "cell size: 30.845492927050692 m  \n",
      "adjusted print res from the requested 0.4 mm to 0.40816326530612246 mm to ensure correct model dimensions \n",
      "total model size in mm: 120 x 71.83673469387755 \n",
      "map scale is 1 : 75571.4576712742 \n",
      "elev min/max : 944.99 to 2235.03\n"
     ]
    },
    {
     "name": "stderr",
     "output_type": "stream",
     "text": [
      "DEM plot and histogram saved as tmp/USGS-3DEP-10m_elevation_plot_with_histogram.png\n",
      "INFO:root:Cells per tile (x/y) 294 x 176 \n",
      "INFO:root:using single-core only (multi-core is currently broken :( \n",
      "Writing tile into memory buffer\n",
      "creating internal triangle data structure for <_MainProcess name='MainProcess' parent=None started>\n",
      "10 % <_MainProcess name='MainProcess' parent=None started>\n"
     ]
    },
    {
     "name": "stdout",
     "output_type": "stream",
     "text": [
      "Cells per tile (x/y) 294 x 176 \n",
      "using single-core only (multi-core is currently broken :( \n",
      "top min/max for tile (mm): 0.6 17.670454418739087\n"
     ]
    },
    {
     "name": "stderr",
     "output_type": "stream",
     "text": [
      "20 % <_MainProcess name='MainProcess' parent=None started>\n",
      "30 % <_MainProcess name='MainProcess' parent=None started>\n",
      "40 % <_MainProcess name='MainProcess' parent=None started>\n",
      "50 % <_MainProcess name='MainProcess' parent=None started>\n",
      "60 % <_MainProcess name='MainProcess' parent=None started>\n",
      "70 % <_MainProcess name='MainProcess' parent=None started>\n",
      "80 % <_MainProcess name='MainProcess' parent=None started>\n",
      "90 % <_MainProcess name='MainProcess' parent=None started>\n",
      "100% <_MainProcess name='MainProcess' parent=None started> \n",
      "\n",
      "tile 1 1 STLb 7.964405059814453 Mb \n",
      "INFO:root:\n",
      "1 x 1 tiles, tile size 120.00 x 71.84 mm\n",
      " \n",
      "INFO:root:tile 1 1 : height:  0.6 - 17.670454418739087 mm , file size: 8 Mb \n",
      "INFO:root:\n",
      "total size for all tiles: 8.0 Mb \n",
      "INFO:root:added full geotiff as 10m_-117.98_34.31.tif \n",
      "INFO:root:added histogram of elevation values as 10m_-117.98_34.31_DEMandHistogram.png \n",
      "INFO:root:\n",
      "processing finished: 18:46:45.460966 \n"
     ]
    },
    {
     "name": "stdout",
     "output_type": "stream",
     "text": [
      "\n",
      "1 x 1 tiles, tile size 120.00 x 71.84 mm\n",
      " \n",
      "tile 1 1 : height:  0.6 - 17.670454418739087 mm , file size: 8 Mb \n",
      "\n",
      "total size for all tiles: 8.0 Mb \n",
      "zip finished: 18:46:45.454055\n",
      "added full geotiff as 10m_-117.98_34.31.tif \n",
      "added histogram of elevation values as 10m_-117.98_34.31_DEMandHistogram.png \n",
      "\n",
      "processing finished: 18:46:45.460966 \n",
      "Created zip file tmp/myterrain.zip 8.10 Mb\n"
     ]
    },
    {
     "data": {
      "image/png": "[encoded data removed]",
      "text/plain": [
       "<Figure size 500x1000 with 3 Axes>"
      ]
     },
     "metadata": {},
     "output_type": "display_data"
    }
   ],
   "source": [
    "# create zipfile under tmp with the STL file of the terrain model\n",
    "totalsize, full_zip_file_name = TouchTerrain.get_zipped_tiles(**args) \n",
    "print(\"Created zip file\", full_zip_file_name,  \"%.2f\" % totalsize, \"Mb\")"
   ]
  },
  {
   "cell_type": "markdown",
   "metadata": {},
   "source": [
    "## Preview the model\n",
    "- run the cell below to get a 3D Preview of the model. If you have multiple tiles they will have different colors."
   ]
  },
  {
   "cell_type": "code",
   "execution_count": 20,
   "metadata": {},
   "outputs": [
    {
     "data": {
      "text/html": [
       "\n",
       "            <style>\n",
       "                .geemap-dark {\n",
       "                    --jp-widgets-color: white;\n",
       "                    --jp-widgets-label-color: white;\n",
       "                    --jp-ui-font-color1: white;\n",
       "                    --jp-layout-color2: #454545;\n",
       "                    background-color: #383838;\n",
       "                }\n",
       "\n",
       "                .geemap-dark .jupyter-button {\n",
       "                    --jp-layout-color3: #383838;\n",
       "                }\n",
       "\n",
       "                .geemap-colab {\n",
       "                    background-color: var(--colab-primary-surface-color, white);\n",
       "                }\n",
       "\n",
       "                .geemap-colab .jupyter-button {\n",
       "                    --jp-layout-color3: var(--colab-primary-surface-color, white);\n",
       "                }\n",
       "            </style>\n",
       "            "
      ],
      "text/plain": [
       "<IPython.core.display.HTML object>"
      ]
     },
     "metadata": {},
     "output_type": "display_data"
    },
    {
     "data": {
      "application/vnd.jupyter.widget-view+json": {
       "model_id": "3c3167d2327b47d0997798b15c0f2cba",
       "version_major": 2,
       "version_minor": 0
      },
      "text/plain": [
       "Output()"
      ]
     },
     "metadata": {},
     "output_type": "display_data"
    }
   ],
   "source": [
    "# unzip zif file into a folder a\n",
    "folder, file = os.path.splitext(full_zip_file_name) \n",
    "zip_ref = zipfile.ZipFile(full_zip_file_name, 'r')\n",
    "zip_ref.extractall(folder)\n",
    "zip_ref.close()\n",
    "\n",
    "# get all stl files (tiles) in that folder\n",
    "mesh_files = glob(folder + os.sep + \"*.STL\")\n",
    "\n",
    "# Create 3D plot\n",
    "plot = k3d.plot()\n",
    "\n",
    "# Add all tiles with a random color\n",
    "for m in mesh_files:\n",
    "    col = (randint(0,255) << 16) + (randint(0,255) << 8) + randint(0,255) # random rgb color as hex\n",
    "    buf = open(m, 'rb').read()\n",
    "    plot += k3d.stl(buf, color=col)\n",
    "plot.display()\n",
    "\n",
    "# remove folder\n",
    "rmtree(folder)"
   ]
  },
  {
   "cell_type": "markdown",
   "metadata": {},
   "source": [
    "## Final thoughts\n",
    "- You can now download your zipfile from the tmp folder and unzip it to 3D print the STL file.\n",
    "- It will also contain a log file and the geotiff it used to create the STL.\n",
    "- Click on the *File Browser* icon on the very left to your notebook and then double-click on _tmp_\n",
    "- Right-click on the zip-file and go to Download\n",
    "\n",
    "## Long-term binder use\n",
    "- I'm unclear on how long a binder instance exists when it's not being used. \n",
    "- It's quite possible that the binder binder instance won't \"stay open\" for longer than a couple of hours(???)\n",
    "- This is not really an issue, it just means you'll have to start a new binder when you return to the browser after a while: https://mybinder.org/v2/gh/ChHarding/TouchTerrain_for_CAGEO/HEAD?labpath=TouchTerrain_jupyter_starters_binder.ipynb \n",
    "- Note that you will need to wait for the installation again and re-do your Earth Engine authentication.\n",
    "- Also, the new instance will not preserve any zip files that you might have created in the old instance (or any file you uploaded), so make sure to download these right away!\n",
    "- If you want to make sure that the kernel stays busy and so your instance doesn't die, you can run the cell below. It will do nothing (endless loop with a 1 second pause) but keep the kernel busy. Once you want to use other cells again you will need to interrupts the kernel first: Kernel - interrupt (ignore the error). ALso I don't know how long this will work and you should not abuse it!\n"
   ]
  },
  {
   "cell_type": "code",
   "execution_count": null,
   "metadata": {},
   "outputs": [
    {
     "data": {
      "text/html": [
       "\n",
       "            <style>\n",
       "                .geemap-dark {\n",
       "                    --jp-widgets-color: white;\n",
       "                    --jp-widgets-label-color: white;\n",
       "                    --jp-ui-font-color1: white;\n",
       "                    --jp-layout-color2: #454545;\n",
       "                    background-color: #383838;\n",
       "                }\n",
       "\n",
       "                .geemap-dark .jupyter-button {\n",
       "                    --jp-layout-color3: #383838;\n",
       "                }\n",
       "\n",
       "                .geemap-colab {\n",
       "                    background-color: var(--colab-primary-surface-color, white);\n",
       "                }\n",
       "\n",
       "                .geemap-colab .jupyter-button {\n",
       "                    --jp-layout-color3: var(--colab-primary-surface-color, white);\n",
       "                }\n",
       "            </style>\n",
       "            "
      ],
      "text/plain": [
       "<IPython.core.display.HTML object>"
      ]
     },
     "metadata": {},
     "output_type": "display_data"
    }
   ],
   "source": [
    "# endless loop\n",
    "import time\n",
    "while True: \n",
    "    time.sleep(1)"
   ]
  },
  {
   "cell_type": "code",
   "execution_count": null,
   "metadata": {},
   "outputs": [],
   "source": []
  }
 ],
 "metadata": {
  "kernelspec": {
   "display_name": "Python 3 (ipykernel)",
   "language": "python",
   "name": "python3"
  },
  "language_info": {
   "codemirror_mode": {
    "name": "ipython",
    "version": 3
   },
   "file_extension": ".py",
   "mimetype": "text/x-python",
   "name": "python",
   "nbconvert_exporter": "python",
   "pygments_lexer": "ipython3",
   "version": "3.10.17"
  },
  "varInspector": {
   "cols": {
    "lenName": 16,
    "lenType": 16,
    "lenVar": 40
   },
   "kernels_config": {
    "python": {
     "delete_cmd_postfix": "",
     "delete_cmd_prefix": "del ",
     "library": "var_list.py",
     "varRefreshCmd": "print(var_dic_list())"
    },
    "r": {
     "delete_cmd_postfix": ") ",
     "delete_cmd_prefix": "rm(",
     "library": "var_list.r",
     "varRefreshCmd": "cat(var_dic_list()) "
    }
   },
   "types_to_exclude": [
    "module",
    "function",
    "builtin_function_or_method",
    "instance",
    "_Feature"
   ],
   "window_display": false
  },
  "vscode": {
   "interpreter": {
    "hash": "b1be0222797457612977eb3eaa00946922d56583fa52c09202534133b3ce7849"
   }
  }
 },
 "nbformat": 4,
 "nbformat_minor": 4
}
