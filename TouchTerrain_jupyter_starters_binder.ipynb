{
 "cells": [
  {
   "cell_type": "markdown",
   "metadata": {},
   "source": [
    "# TouchTerrain jupyter notebook - starter edition, running on Binder\n",
    "Chris Harding, Aug. 25 , 2022 (<charding@iastate.edu>)\n",
    "\n",
    "Warning: This is still being tested! Please report bugs to me.\n",
    "\n",
    "- This particular notebook is meant to be run on Binder (which uses JupyterLab). \n",
    "- It is also primarily aimed at users who maybe new to Python and jupyter. It walks through the process of using TouchTerrain to create STL files for 3D printing with many small steps at a slow pace, makes few assumptions and gives more explanations.\n",
    "- Hopefully this will make the much more flexible and powerful __standalone version__ of TouchTerrain accessible to many more users!"
   ]
  },
  {
   "cell_type": "markdown",
   "metadata": {},
   "source": [
    "### Preparing to use Google Earth Engine online DEM rasters \n",
    "\n",
    "- TouchTerrain uses Digital Elevation Data (DEM)\n",
    "- You can either use online elevation data or a local elevation dataset (geotiff file)\n",
    "- *You don't need to go through this preparation part if you only want to use terrain data from locally stored raster files (geotiffs)*. You will get a warning about EE not being initialized properly but you can ignore that. Instead go directly to __How to run code inside a notebook__\n",
    "- TouchTerrain can use DEM data from Google Earth Engine (given the corners of the area), but you need to first set up an earth engine account and create Google cloud project. Note that this includes setting up a charge account, however, you will typically not be charged. \n",
    "- See this [guide](https://github.com/ChHarding/TouchTerrain_for_CAGEO/blob/master/EarthEngine_authentication_guide.md#request-a-earthengine-dev-account) for how to get an earth engine account.\n"
   ]
  },
  {
   "cell_type": "markdown",
   "metadata": {},
   "source": [
    "### How to run code inside a notebook\n",
    "\n",
    "- Below is a python *code* cell.\n",
    "- Run the cell  by clicking inside it and pressing Shift + Enter. Or you can hit the triangle Run button.\n",
    "- You wont see any output for this cell but you'll see that the braces in `In [ ]` will show a sequential number, which means it's been run."
   ]
  },
  {
   "cell_type": "code",
   "execution_count": 1,
   "metadata": {},
   "outputs": [],
   "source": [
    "import ee # import module for earthengine-api "
   ]
  },
  {
   "cell_type": "markdown",
   "metadata": {},
   "source": [
    "### Authentication with Earth Engine\n",
    "- the next cell will initiate an authorization with the earth-engine. \n",
    "- remove the leading `#` (uncomment the line) and run it. Make sure there's no space in front of ee!\n",
    "\n",
    "<div>\n",
    "\n",
    "- This text should appear and you should be redirected to a webpage:\n",
    "```\n",
    "To authorize access needed by Earth Engine, open the following URL in a web browser and follow the instructions. If the web browser does  not start automatically, please manually browse the URL below.\n",
    "```\n",
    "- The web page will have you select a Google account for use with Earth Engine and give you a token\n",
    "- Assuming you got your earth engine account, follow [this part of the guide](https://github.com/ChHarding/TouchTerrain_for_CAGEO/blob/master/EarthEngine_authentication_guide.md#generating-the-token) to get this token\n",
    "- Paste in your token here: `Enter verification code: <your token>` and hit Enter, you should get `Successfully saved authorization token.`\n",
    "- Important: this needs to be done only once after the binder instance was created (as it just needs to create a file). Once done, you should put the `#` back in front of ee.Authenticate() (so the line is `#ee.Authenticate()` again), so you're not running it again after you've started from top after a kernel timeout."
   ]
  },
  {
   "cell_type": "code",
   "execution_count": 2,
   "metadata": {},
   "outputs": [],
   "source": [
    "#ee.Authenticate() # authenticate your earth engine to consume DEM data from Google"
   ]
  },
  {
   "cell_type": "markdown",
   "metadata": {},
   "source": [
    "### What to do when then kernel times out (quits)\n",
    "- The python kernel is the underlying python interpreter that runs the python code when you execute a code cell\n",
    "- When the notebook is idle for a while (maybe you're somewhere in the middle of the notebook), it seems that its kernel will time out.\n",
    "- You'll see `kernel disconnected` at the bottom and `No Kernel` at the upper right. \n",
    "- This means you can't run the next code cell but have to reconnect to the kernel first\n",
    "- Click on `No Kernel` at the upper right, select the Python kernel and the click on Select\n",
    "- You should now be able to again execute code cells\n",
    "- Sometimes however, you may have to restart the kernel instead (Top Menu - Kernel - Restart and clear outputs)\n",
    "- In this case you need to again start from the top of the notebook. Note however, that you don't have to go through the authorization again if you completed it once, so make sure this line is commented out!\n",
    "- Finally, if you ever get Error 405 when Starting the Kernel I'm guessing the binder instance has died due to timeout. You will need to close your current browser page and go to https://mybinder.org/v2/gh/ChHarding/TouchTerrain_for_CAGEO/HEAD?labpath=TouchTerrain_jupyter_starters_binder.ipynb again to create a new Binder instance. This will again take some time but less then the very first time (at least in my experience)\n",
    "- This also means that any STL files you may have created earlier are lost, so it is important to download them right away."
   ]
  },
  {
   "cell_type": "markdown",
   "metadata": {},
   "source": [
    "### Virtual python environment \n",
    "- this is just FYI, don't worry if you don't know what conda is ...\n",
    "- binder will create a virtual conda environment called *notebook* and install all the package from environment.yml in it (which takes a while)\n",
    "- the first part in environment.yml ensures that geemap can run properly as apparently the install order and version matter, the rest will install all other dependencies for touchterrain\n",
    "- binder will the run a shell script called postBuild, which will use pip to install the touchterrain package\n",
    "- binder runs the current notebook within this *notebook* environment, so the imports below should all work"
   ]
  },
  {
   "cell_type": "markdown",
   "metadata": {},
   "source": [
    "### Importing python packages\n",
    "- Run the next cell, it'll import the required packages into Python, including Touchterrain\n",
    "- The earth engine package you imported and authorized earlier, will be initialized here. You should see `EE init() worked with .config/earthengine/credentials`\n"
   ]
  },
  {
   "cell_type": "code",
   "execution_count": 3,
   "metadata": {
    "tags": []
   },
   "outputs": [
    {
     "name": "stderr",
     "output_type": "stream",
     "text": [
      "WARNING:root:EE init() error (with /root/earthengine/.config/.private-key.json) [Errno 2] No such file or directory: '/root/earthengine/.config/.private-key.json' (This is OK if you don't use earthengine anyway!)\n"
     ]
    }
   ],
   "source": [
    "# import packages\n",
    "import os.path\n",
    "from glob import glob\n",
    "import k3d\n",
    "from random import randint\n",
    "from shutil import rmtree\n",
    "import zipfile\n",
    "from geojson import Polygon\n",
    "import geemap\n",
    "from touchterrain.common import TouchTerrainEarthEngine as TouchTerrain\n",
    "from touchterrain.common.TouchTerrainGPX import *\n",
    "args = TouchTerrain.initial_args # default args"
   ]
  },
  {
   "cell_type": "markdown",
   "metadata": {},
   "source": [
    "## Define the values for processing settings\n",
    "- We now need to define the processing settings for the 3D model we want to create. Unlike the web app, they need to be set via Python variables.\n",
    "- The variable `args` will hold all processing settings. The __name__ of a setting  will be between [] and inside double quotes, the setting's __value__ will be to the right of the = . The value can be a number (120 or 0.4), a string (\"STLb\") or the special value `None`.\n",
    "- Example: `args[\"tilewidth\"] = 120`     will define the value of the setting named `tilewidth` to be 120\n",
    "\n",
    "### Comments\n",
    "- In Python, anything to the right of a `#` will be ignored.\n",
    "- You will often need comment out or uncomment a line of Python code.\n",
    "- A line starting with a `#` (no spaces before it) is said to be commented out, it will be entirely ignored. This a useful to temporarily deactivate the line and re-activate it again later.\n",
    "- To uncomment a line means to remove the leading `#`, again leaving no spaces before the first actual code letter. This makes the line valid code again.\n",
    "\n",
    "<div>\n",
    "\n",
    "- Example of commenting out a line of code and uncommenting it properly:\n",
    "```\n",
    "print(123)\n",
    "#print(123)\n",
    "print(123)\n",
    "```\n",
    "- Examples of bad commenting with a leading space. I'm using an underscore here for better visibility.\n",
    "```\n",
    "_#print(123)\n",
    "_print(123)\n",
    "```"
   ]
  },
  {
   "cell_type": "markdown",
   "metadata": {},
   "source": [
    "### Use a locally stored geotiff DEM file instead of an online DEM\n",
    "__If you don't plan to use a local geotiff and instead want to use an online DEM, skip this cell and go to *Select your print area*__\n",
    "- You may want create a terrain model from a geotiff DEM file that you've downloaded or created via a GIS. As TouchTerrain needs to import this file during processing, you first need to copy (upload) it via the jupyterLab File Manager.\n",
    "- Open the File Manager (left side) and drag your geotiff into the panel to upload it. Remember the file name for later\n",
    "- The folder called __stuff__ contains a very small example geotiff file called __pyramid.tif__. From the (root) folder this notebook is in, the path to this file is therefore __stuff/pyramid.tif__  \n",
    "\n",
    "<div>\n",
    "\n",
    "- The cell below sets the value of __importedDEM__ to this path (e.g. `\"stuff/pyramid.tif\"`). To use your geotiff file, replace this with it's name, e.g. `\"myDEM.tif\"` (make sure to use \"s!). \n",
    "- if you do NOT want to use a local geotiff and want to use online DEM rasters instead, set the value to None. Comment/Uncomment the appropriate choice below and hit Shift-Enter\n",
    "- if you are using a local geotiff, skip _Select DEM source_ and _Select print area on geemap_ as the geotiff is your DEM source and  implicitly defines the print area. Go straight to _Setting the tile width_"
   ]
  },
  {
   "cell_type": "code",
   "execution_count": 4,
   "metadata": {},
   "outputs": [
    {
     "data": {
      "text/html": [
       "\n",
       "            <style>\n",
       "                .geemap-dark {\n",
       "                    --jp-widgets-color: white;\n",
       "                    --jp-widgets-label-color: white;\n",
       "                    --jp-ui-font-color1: white;\n",
       "                    --jp-layout-color2: #454545;\n",
       "                    background-color: #383838;\n",
       "                }\n",
       "\n",
       "                .geemap-dark .jupyter-button {\n",
       "                    --jp-layout-color3: #383838;\n",
       "                }\n",
       "\n",
       "                .geemap-colab {\n",
       "                    background-color: var(--colab-primary-surface-color, white);\n",
       "                }\n",
       "\n",
       "                .geemap-colab .jupyter-button {\n",
       "                    --jp-layout-color3: var(--colab-primary-surface-color, white);\n",
       "                }\n",
       "            </style>\n",
       "            "
      ],
      "text/plain": [
       "<IPython.core.display.HTML object>"
      ]
     },
     "metadata": {},
     "output_type": "display_data"
    }
   ],
   "source": [
    "# Comment out one of following two lines:\n",
    "#args[\"importedDEM\"] =  \"stuff/pyramid.tif\" # path of local geotiff file to use\n",
    "args[\"importedDEM\"] = None  # no file used, use online DEM rasters instead\n",
    "\n",
    "# convert into an absolute path for later\n",
    "if args[\"importedDEM\"] != None:\n",
    "    args[\"importedDEM\"]= os.path.abspath(args[\"importedDEM\"]) \n",
    "    print(\"importedDEM\", args[\"importedDEM\"])"
   ]
  },
  {
   "cell_type": "markdown",
   "metadata": {},
   "source": [
    "### Select the name of the DEM source (online elevation data)\n",
    "- Before you can select the actual print area, you need to select which online DEM source will be used. The setting is called `DEM_name`.\n",
    "- There are several options but for starters you only need to decide among two options:\n",
    "    - If your area is in the lower 48 US states, use `USGS/NED`\n",
    "    - Anywhere else on the globe use: `JAXA/ALOS/AW3D30/V2_2`\n",
    "    - (there are more DEM sources to choose from, see `DEM_name` [here](https://github.com/ChHarding/TouchTerrain_for_CAGEO#processing-parameters) )\n",
    "- Comment/uncomment the appropriate line in the cell below and hit Shift-Enter"
   ]
  },
  {
   "cell_type": "code",
   "execution_count": 5,
   "metadata": {},
   "outputs": [
    {
     "data": {
      "text/html": [
       "\n",
       "            <style>\n",
       "                .geemap-dark {\n",
       "                    --jp-widgets-color: white;\n",
       "                    --jp-widgets-label-color: white;\n",
       "                    --jp-ui-font-color1: white;\n",
       "                    --jp-layout-color2: #454545;\n",
       "                    background-color: #383838;\n",
       "                }\n",
       "\n",
       "                .geemap-dark .jupyter-button {\n",
       "                    --jp-layout-color3: #383838;\n",
       "                }\n",
       "\n",
       "                .geemap-colab {\n",
       "                    background-color: var(--colab-primary-surface-color, white);\n",
       "                }\n",
       "\n",
       "                .geemap-colab .jupyter-button {\n",
       "                    --jp-layout-color3: var(--colab-primary-surface-color, white);\n",
       "                }\n",
       "            </style>\n",
       "            "
      ],
      "text/plain": [
       "<IPython.core.display.HTML object>"
      ]
     },
     "metadata": {},
     "output_type": "display_data"
    }
   ],
   "source": [
    "# Comment out one of the following two lines\n",
    "args[\"DEM_name\"] = \"USGS/3DEP/10m\"  # area is within the lower 48 (US)\n",
    "#args[\"DEM_name\"] = \"JAXA/ALOS/AW3D30/V2_2\"  # area is outside the US (worldwide)"
   ]
  },
  {
   "cell_type": "markdown",
   "metadata": {},
   "source": [
    "### Import GPX path lines\n",
    "__This is more of an expert option. If you are just starting, skip this and go to the next cell__\n",
    "- You can drape one or more gpx (path) files over your terrain\n",
    "- Similar to importedDEM, the file names for the GPX file(s) are stored in the importedGPX setting.\n",
    "- However, as you can import more than one GPX file, you need to put the path name into a list, i.e. inside brackets, even if you just have one GPX file. Separate multiple GPX files with a comma:  \n",
    "    - `args[\"importedGPX\"] = [\"justonegpxfile.gpx\"]`  \n",
    "    - `args[\"importedGPX\"] = [\"file1.gpx\", \"file2.gpx\"]`\n",
    "- `gpxPathHeight` (in meters) defines how much a path is elevated above the terrain. Use a negative number to create a trench.\n",
    "- `gpxPixelsBetweenPoints` (in meters) lets you reduce the number of point in your path to place a point only every X meters. This can help to simplify complex patterns.\n",
    "- `gpxPathThickness` (meters) controls the thickness of the path, which makes it more pronouced when printed\n",
    "- There are several GPX example files in the stuff folder. To use them, uncomment the first 4 lines in the cell below and comment out the last line.\n",
    "- If you're not using GPX files, just leave the cell as is and run it. Setting importedGPX to None means that no GPX files are imported.\n"
   ]
  },
  {
   "cell_type": "code",
   "execution_count": 6,
   "metadata": {},
   "outputs": [
    {
     "data": {
      "text/html": [
       "\n",
       "            <style>\n",
       "                .geemap-dark {\n",
       "                    --jp-widgets-color: white;\n",
       "                    --jp-widgets-label-color: white;\n",
       "                    --jp-ui-font-color1: white;\n",
       "                    --jp-layout-color2: #454545;\n",
       "                    background-color: #383838;\n",
       "                }\n",
       "\n",
       "                .geemap-dark .jupyter-button {\n",
       "                    --jp-layout-color3: #383838;\n",
       "                }\n",
       "\n",
       "                .geemap-colab {\n",
       "                    background-color: var(--colab-primary-surface-color, white);\n",
       "                }\n",
       "\n",
       "                .geemap-colab .jupyter-button {\n",
       "                    --jp-layout-color3: var(--colab-primary-surface-color, white);\n",
       "                }\n",
       "            </style>\n",
       "            "
      ],
      "text/plain": [
       "<IPython.core.display.HTML object>"
      ]
     },
     "metadata": {},
     "output_type": "display_data"
    }
   ],
   "source": [
    "args[\"gpxPathHeight\"] = 5\n",
    "args[\"gpxPixelsBetweenPoints\"] = 20\n",
    "args[\"gpxPathThickness\"] = 2\n",
    "\n",
    "# Comment out one of the following two lines\n",
    "#args[\"importedGPX\"] = [\"stuff/gpx-test/DLRTnML.gpx\", \"stuff/gpx-test/DonnerToFrog.gpx\", \"stuff/gpx-test/CinTwistToFrog.gpx\"] # list of GPX files\n",
    "args[\"importedGPX\"] = None  # Do not use any GPX path files\n"
   ]
  },
  {
   "cell_type": "markdown",
   "metadata": {},
   "source": [
    "## Select your print area\n",
    "- When using an online DEM, there are several ways to define the area you want to print. Use only one and skip the cells for the other two options. Then go to _Setting the tile width_\n",
    "- A)  Enter corner coordinates of a box into a code cell\n",
    "- B)  Use your mouse to digitize a box, circle or polygon on a geemap\n",
    "- C)  Load a kml file (typically created via Google Earth) that contains a single polygon\n",
    "\n",
    "\n",
    "### A) Select print area via lat/long coordinates of its corners (optional)\n",
    "- If you'd rather define your area through actual coordinates, change the default values in the cell below accordingly. \n",
    "- Note that you *must* give it the lat/long of the bottom left (South-West) corner and lat/long of the top right (North-East) corner!\n",
    "- After you've run the cell, skip B and C and jump straight to `Setting the tile width`"
   ]
  },
  {
   "cell_type": "code",
   "execution_count": 7,
   "metadata": {},
   "outputs": [
    {
     "data": {
      "text/html": [
       "\n",
       "            <style>\n",
       "                .geemap-dark {\n",
       "                    --jp-widgets-color: white;\n",
       "                    --jp-widgets-label-color: white;\n",
       "                    --jp-ui-font-color1: white;\n",
       "                    --jp-layout-color2: #454545;\n",
       "                    background-color: #383838;\n",
       "                }\n",
       "\n",
       "                .geemap-dark .jupyter-button {\n",
       "                    --jp-layout-color3: #383838;\n",
       "                }\n",
       "\n",
       "                .geemap-colab {\n",
       "                    background-color: var(--colab-primary-surface-color, white);\n",
       "                }\n",
       "\n",
       "                .geemap-colab .jupyter-button {\n",
       "                    --jp-layout-color3: var(--colab-primary-surface-color, white);\n",
       "                }\n",
       "            </style>\n",
       "            "
      ],
      "text/plain": [
       "<IPython.core.display.HTML object>"
      ]
     },
     "metadata": {},
     "output_type": "display_data"
    }
   ],
   "source": [
    "# Bottom left corner\n",
    "args[\"bllat\"] = 39.322\n",
    "args[\"bllon\"] = -120.374\n",
    "\n",
    "# Top right corner coordinates\n",
    "args[\"trlat\"] = 39.457\n",
    "args[\"trlon\"] = -120.2"
   ]
  },
  {
   "cell_type": "markdown",
   "metadata": {},
   "source": [
    "### B) Select print area interactively via geemap\n",
    "- If you didn't use a local geotiff or set your the print area's corner coordinates, run the next cell to show an interactive map, from which you will select your print area. \n",
    "- Valid areas are covered by a grey hillshade layer in the background. If your desired area is not covered, go back and select the worldwide DEM source, and re-run the next cell.\n",
    "- If you're importing GPX files, they will show up on the map as cyan lines.\n",
    "- To find the desired print area, use left mouse drag to pan and mouse wheel (or +- buttons) to zoom in/out.\n",
    "- You can also use the search buttons (globe on top left or spyglass) which will place a marker at the result's location."
   ]
  },
  {
   "cell_type": "code",
   "execution_count": 8,
   "metadata": {},
   "outputs": [
    {
     "data": {
      "text/html": [
       "\n",
       "            <style>\n",
       "                .geemap-dark {\n",
       "                    --jp-widgets-color: white;\n",
       "                    --jp-widgets-label-color: white;\n",
       "                    --jp-ui-font-color1: white;\n",
       "                    --jp-layout-color2: #454545;\n",
       "                    background-color: #383838;\n",
       "                }\n",
       "\n",
       "                .geemap-dark .jupyter-button {\n",
       "                    --jp-layout-color3: #383838;\n",
       "                }\n",
       "\n",
       "                .geemap-colab {\n",
       "                    background-color: var(--colab-primary-surface-color, white);\n",
       "                }\n",
       "\n",
       "                .geemap-colab .jupyter-button {\n",
       "                    --jp-layout-color3: var(--colab-primary-surface-color, white);\n",
       "                }\n",
       "            </style>\n",
       "            "
      ],
      "text/plain": [
       "<IPython.core.display.HTML object>"
      ]
     },
     "metadata": {},
     "output_type": "display_data"
    },
    {
     "data": {
      "application/vnd.jupyter.widget-view+json": {
       "model_id": "c6cc6464c2a04f0ab6456e9193ec78db",
       "version_major": 2,
       "version_minor": 0
      },
      "text/plain": [
       "Map(center=[39.3895, -120.287], controls=(WidgetControl(options=['position', 'transparent_bg'], widget=SearchD…"
      ]
     },
     "execution_count": 8,
     "metadata": {},
     "output_type": "execute_result"
    }
   ],
   "source": [
    "# Create an interactive map and center on default area\n",
    "center_lat = (args[\"trlat\"] + args[\"bllat\"]) / 2\n",
    "center_lon = (args[\"trlon\"] + args[\"bllon\"]) / 2\n",
    "Map = geemap.Map(center=(center_lat, center_lon), zoom=7) \n",
    "\n",
    "# make a hillshade layer and add it to map\n",
    "dem = ee.Image(args[\"DEM_name\"]) # DEM source\n",
    "hs = ee.Terrain.hillshade(dem, 315, 35) # sun azimuth and angle \n",
    "vis_params = {'min': 0,'max': 255,} # greyscale color ramp\n",
    "Map.addLayer(hs, vis_params, 'hillshade', shown=True, opacity=0.5) # semi transparent overlay\n",
    "\n",
    "# if GPX files were used, add them to the map\n",
    "if args[\"importedGPX\"] != None and len(args[\"importedGPX\"]) > 0: \n",
    "        gpx = ee.Feature(convert_to_GeoJSON(args[\"importedGPX\"]))\n",
    "        Map.addLayer(gpx, {\"color\":'00FFFF', \"strokeWidth\":\"1\"}, \"GPX line\", opacity=0.9)\n",
    "\n",
    "Map # makes the interactive map show up as output of this cell"
   ]
  },
  {
   "cell_type": "markdown",
   "metadata": {},
   "source": [
    "- Once you found a good general area, hit a Draw button in the center left to digitize the exact outline of your terrain model. \n",
    "- Your options are: Draw a Polygon or Draw a Rectangle or Draw a Circle. __Do NOT use Draw a Marker or Draw a Polyline!__\n",
    "- Draw a Rectangle is the simplest method.\n",
    "- Note: I do not know how to edit or delete outlines. If you change your mind you can simply draw another outline on top of previous outline, which will then be used, even as the old outline is still visible. If this gets too cluttered, you can always re-run the cell above and start over with a clear slate.\n",
    "- Once you're happy with your outline, run the cell below. It will store the (last) outline and use it to create your terrain model. If you change your mind, simply draw another outline and re-run the cell below, it will always take the most recent outline.\n",
    "- After running the cell below, skip C"
   ]
  },
  {
   "cell_type": "code",
   "execution_count": 10,
   "metadata": {},
   "outputs": [
    {
     "data": {
      "text/html": [
       "\n",
       "            <style>\n",
       "                .geemap-dark {\n",
       "                    --jp-widgets-color: white;\n",
       "                    --jp-widgets-label-color: white;\n",
       "                    --jp-ui-font-color1: white;\n",
       "                    --jp-layout-color2: #454545;\n",
       "                    background-color: #383838;\n",
       "                }\n",
       "\n",
       "                .geemap-dark .jupyter-button {\n",
       "                    --jp-layout-color3: #383838;\n",
       "                }\n",
       "\n",
       "                .geemap-colab {\n",
       "                    background-color: var(--colab-primary-surface-color, white);\n",
       "                }\n",
       "\n",
       "                .geemap-colab .jupyter-button {\n",
       "                    --jp-layout-color3: var(--colab-primary-surface-color, white);\n",
       "                }\n",
       "            </style>\n",
       "            "
      ],
      "text/plain": [
       "<IPython.core.display.HTML object>"
      ]
     },
     "metadata": {},
     "output_type": "display_data"
    },
    {
     "data": {
      "text/plain": [
       "{\"coordinates\": [[[-118.040543, 34.318373], [-117.991104, 34.359196], [-117.863388, 34.319508], [-117.912827, 34.28207], [-118.008957, 34.266183], [-118.040543, 34.318373]]], \"type\": \"Polygon\"}"
      ]
     },
     "execution_count": 10,
     "metadata": {},
     "output_type": "execute_result"
    }
   ],
   "source": [
    "# make and store a GeoJSON polygon from (last) digitized outline\n",
    "polyft = Map.draw_last_feature # get last outline\n",
    "args[\"polygon\"] = Polygon(polyft.getInfo()['geometry']['coordinates'])\n",
    "Polygon(polyft.getInfo()['geometry']['coordinates'])"
   ]
  },
  {
   "cell_type": "code",
   "execution_count": 11,
   "metadata": {},
   "outputs": [
    {
     "data": {
      "text/html": [
       "\n",
       "            <style>\n",
       "                .geemap-dark {\n",
       "                    --jp-widgets-color: white;\n",
       "                    --jp-widgets-label-color: white;\n",
       "                    --jp-ui-font-color1: white;\n",
       "                    --jp-layout-color2: #454545;\n",
       "                    background-color: #383838;\n",
       "                }\n",
       "\n",
       "                .geemap-dark .jupyter-button {\n",
       "                    --jp-layout-color3: #383838;\n",
       "                }\n",
       "\n",
       "                .geemap-colab {\n",
       "                    background-color: var(--colab-primary-surface-color, white);\n",
       "                }\n",
       "\n",
       "                .geemap-colab .jupyter-button {\n",
       "                    --jp-layout-color3: var(--colab-primary-surface-color, white);\n",
       "                }\n",
       "            </style>\n",
       "            "
      ],
      "text/plain": [
       "<IPython.core.display.HTML object>"
      ]
     },
     "metadata": {},
     "output_type": "display_data"
    }
   ],
   "source": [
    "# from shapely.geometry import Polygon\n",
    "\n",
    "# # Rectangle (~3 mi W-E × ~1 mi N-S) centred just south-west of Mt Wilson\n",
    "# # San Gabriel Mountains, Los Angeles County\n",
    "# args[\"polygon\"] = Polygon([\n",
    "#     (-118.0833, 34.2138),   # SW corner\n",
    "#     (-118.0833, 34.2283),   # NW corner\n",
    "#     (-118.0307, 34.2283),   # NE corner\n",
    "#     (-118.0307, 34.2138)    # SE corner\n",
    "# ])\n"
   ]
  },
  {
   "cell_type": "markdown",
   "metadata": {},
   "source": [
    "### C) Using a KML file to define the outline of the area\n",
    "- Instead of digitizing an outline in the geemap, you could instead use a polygon stored in a kml file. You can digitize a polygon in Google Earth and store it as a kml file (NOT a kmz file!). \n",
    "- In Jupyterlab click on File Browser on the right and drag your kml file into the panel to upload it\n",
    "- Check that the kml file in the same folder as the notebook and set `poly_file` to its location.\n",
    "- The *stuff* folder contains an example kml file"
   ]
  },
  {
   "cell_type": "code",
   "execution_count": 12,
   "metadata": {},
   "outputs": [
    {
     "data": {
      "text/html": [
       "\n",
       "            <style>\n",
       "                .geemap-dark {\n",
       "                    --jp-widgets-color: white;\n",
       "                    --jp-widgets-label-color: white;\n",
       "                    --jp-ui-font-color1: white;\n",
       "                    --jp-layout-color2: #454545;\n",
       "                    background-color: #383838;\n",
       "                }\n",
       "\n",
       "                .geemap-dark .jupyter-button {\n",
       "                    --jp-layout-color3: #383838;\n",
       "                }\n",
       "\n",
       "                .geemap-colab {\n",
       "                    background-color: var(--colab-primary-surface-color, white);\n",
       "                }\n",
       "\n",
       "                .geemap-colab .jupyter-button {\n",
       "                    --jp-layout-color3: var(--colab-primary-surface-color, white);\n",
       "                }\n",
       "            </style>\n",
       "            "
      ],
      "text/plain": [
       "<IPython.core.display.HTML object>"
      ]
     },
     "metadata": {},
     "output_type": "display_data"
    }
   ],
   "source": [
    "# Comment out either this line:\n",
    "args[\"poly_file\"] = None # Don't use a kml file\n",
    "\n",
    "# or both of these lines:\n",
    "#args[\"poly_file\"] = \"stuff/polygon_example.kml\" # location of kml file to use\n",
    "#args[\"polygon\"] = None  # ensures that any gee polygon you might have digitized is not used"
   ]
  },
  {
   "cell_type": "markdown",
   "metadata": {},
   "source": [
    "### Setting the tile width\n",
    "- (If you used a local geotiff file as DEM, resume here)\n",
    "- The tilewidth setting defines how (physically) large the selected print area will be after it's been printed. Units are in mm.\n",
    "- By width, we mean the extent of you model in the East-West direction. The height will be automatically calculated based on the area you selected earlier\n",
    "- Change the value in the cell below to your liking and hit Shift-Enter"
   ]
  },
  {
   "cell_type": "code",
   "execution_count": 13,
   "metadata": {},
   "outputs": [
    {
     "data": {
      "text/html": [
       "\n",
       "            <style>\n",
       "                .geemap-dark {\n",
       "                    --jp-widgets-color: white;\n",
       "                    --jp-widgets-label-color: white;\n",
       "                    --jp-ui-font-color1: white;\n",
       "                    --jp-layout-color2: #454545;\n",
       "                    background-color: #383838;\n",
       "                }\n",
       "\n",
       "                .geemap-dark .jupyter-button {\n",
       "                    --jp-layout-color3: #383838;\n",
       "                }\n",
       "\n",
       "                .geemap-colab {\n",
       "                    background-color: var(--colab-primary-surface-color, white);\n",
       "                }\n",
       "\n",
       "                .geemap-colab .jupyter-button {\n",
       "                    --jp-layout-color3: var(--colab-primary-surface-color, white);\n",
       "                }\n",
       "            </style>\n",
       "            "
      ],
      "text/plain": [
       "<IPython.core.display.HTML object>"
      ]
     },
     "metadata": {},
     "output_type": "display_data"
    }
   ],
   "source": [
    "args[\"tilewidth\"] = 250 # in mm"
   ]
  },
  {
   "cell_type": "markdown",
   "metadata": {},
   "source": [
    "### Setting the number of tiles and their and setup  \n",
    "- It's possible to divide the print are into multiple tiles. This will results in several STK files instead of just one.\n",
    "- This is useful if you want to print several (smaller) tiles that each fit on you buildplate and later glue them together into one large model.\n",
    "- If you just want a single STL file, set both, ntilesx and ntilesy, to 1\n",
    "- For multiple tiles, decide how many tiles you want along East-West (ntilesx) and how many along North-South (ntilesy)"
   ]
  },
  {
   "cell_type": "code",
   "execution_count": 14,
   "metadata": {},
   "outputs": [
    {
     "data": {
      "text/html": [
       "\n",
       "            <style>\n",
       "                .geemap-dark {\n",
       "                    --jp-widgets-color: white;\n",
       "                    --jp-widgets-label-color: white;\n",
       "                    --jp-ui-font-color1: white;\n",
       "                    --jp-layout-color2: #454545;\n",
       "                    background-color: #383838;\n",
       "                }\n",
       "\n",
       "                .geemap-dark .jupyter-button {\n",
       "                    --jp-layout-color3: #383838;\n",
       "                }\n",
       "\n",
       "                .geemap-colab {\n",
       "                    background-color: var(--colab-primary-surface-color, white);\n",
       "                }\n",
       "\n",
       "                .geemap-colab .jupyter-button {\n",
       "                    --jp-layout-color3: var(--colab-primary-surface-color, white);\n",
       "                }\n",
       "            </style>\n",
       "            "
      ],
      "text/plain": [
       "<IPython.core.display.HTML object>"
      ]
     },
     "metadata": {},
     "output_type": "display_data"
    }
   ],
   "source": [
    "args[\"ntilesx\"] = 1 # number of tiles in x  \n",
    "args[\"ntilesy\"] = 1 # number of tiles in y    "
   ]
  },
  {
   "cell_type": "markdown",
   "metadata": {},
   "source": [
    "### Setting the Base thickness (in mm)\n",
    "- The basethick setting determines how much material is put beneath the thinnest part to the terrain print \n",
    "- Use a value of at least 0.5 mm, more if you want a beefier base"
   ]
  },
  {
   "cell_type": "code",
   "execution_count": 15,
   "metadata": {},
   "outputs": [
    {
     "data": {
      "text/html": [
       "\n",
       "            <style>\n",
       "                .geemap-dark {\n",
       "                    --jp-widgets-color: white;\n",
       "                    --jp-widgets-label-color: white;\n",
       "                    --jp-ui-font-color1: white;\n",
       "                    --jp-layout-color2: #454545;\n",
       "                    background-color: #383838;\n",
       "                }\n",
       "\n",
       "                .geemap-dark .jupyter-button {\n",
       "                    --jp-layout-color3: #383838;\n",
       "                }\n",
       "\n",
       "                .geemap-colab {\n",
       "                    background-color: var(--colab-primary-surface-color, white);\n",
       "                }\n",
       "\n",
       "                .geemap-colab .jupyter-button {\n",
       "                    --jp-layout-color3: var(--colab-primary-surface-color, white);\n",
       "                }\n",
       "            </style>\n",
       "            "
      ],
      "text/plain": [
       "<IPython.core.display.HTML object>"
      ]
     },
     "metadata": {},
     "output_type": "display_data"
    }
   ],
   "source": [
    "args[\"basethick\"] = 0.6 # in mm"
   ]
  },
  {
   "cell_type": "markdown",
   "metadata": {},
   "source": [
    "### Setting the print resolution\n",
    "- Set this value to the diameter of you nozzle size or slightly below. \n",
    "- Tinker with this only if you know what you're doing. This setting defines how much of the fine details the STL file will contain. The detail you're realistically able to print is limited by your nozzle size. If you set setting much lower than your nozzle size, the STL file will be needlessly large, the slicer will take longer but your print will come out the same as if you had used approximately your nozzle size.\n",
    "- In almost all cases, 0.4 mm will be fine for 3D printers.\n",
    "- If you are using a local geofiff file, setting this to -1 will use the native resolution of the geotiff. This is typically overkill b/c of the nozzle limitation and may lead to huge models that may be too much for you system to handle!"
   ]
  },
  {
   "cell_type": "code",
   "execution_count": 16,
   "metadata": {},
   "outputs": [
    {
     "data": {
      "text/html": [
       "\n",
       "            <style>\n",
       "                .geemap-dark {\n",
       "                    --jp-widgets-color: white;\n",
       "                    --jp-widgets-label-color: white;\n",
       "                    --jp-ui-font-color1: white;\n",
       "                    --jp-layout-color2: #454545;\n",
       "                    background-color: #383838;\n",
       "                }\n",
       "\n",
       "                .geemap-dark .jupyter-button {\n",
       "                    --jp-layout-color3: #383838;\n",
       "                }\n",
       "\n",
       "                .geemap-colab {\n",
       "                    background-color: var(--colab-primary-surface-color, white);\n",
       "                }\n",
       "\n",
       "                .geemap-colab .jupyter-button {\n",
       "                    --jp-layout-color3: var(--colab-primary-surface-color, white);\n",
       "                }\n",
       "            </style>\n",
       "            "
      ],
      "text/plain": [
       "<IPython.core.display.HTML object>"
      ]
     },
     "metadata": {},
     "output_type": "display_data"
    }
   ],
   "source": [
    "args[\"printres\"] = 0.4 # in mm"
   ]
  },
  {
   "cell_type": "markdown",
   "metadata": {},
   "source": [
    "### Setting the z-scale (elevation exaggeration factor)\n",
    "- To print the terrain in its \"true\" form (without any vertical scaling applied), set zscale to 1.0. This works well for terrain with great elevation differences, such as the Grand Canyon or Mt. Fuji\n",
    "- Most other terrain usual benefits from a z-scale larger than 1. For gentle hills, use 1.5 to 2.5. For cities use 2.5 to 6. For river deltas and other low relief areas use up to 10.\n",
    "- The height of your printed terrain should be at least 20 - 30 mm high to show good detail. You can check the processing log for `top min/max`, max should be least 20 - 30 mm. If this is too low, use a higher zscale and process again.\n",
    "- Alternatively, you can set this to a __negative number__ which will be interpreted as the desired height of the tallest terrain point in mm. Examples:  -12.7 means \"make 1/2 inch tall\", -20 means \"make 20 mm tall\", etc."
   ]
  },
  {
   "cell_type": "code",
   "execution_count": 17,
   "metadata": {},
   "outputs": [
    {
     "data": {
      "text/html": [
       "\n",
       "            <style>\n",
       "                .geemap-dark {\n",
       "                    --jp-widgets-color: white;\n",
       "                    --jp-widgets-label-color: white;\n",
       "                    --jp-ui-font-color1: white;\n",
       "                    --jp-layout-color2: #454545;\n",
       "                    background-color: #383838;\n",
       "                }\n",
       "\n",
       "                .geemap-dark .jupyter-button {\n",
       "                    --jp-layout-color3: #383838;\n",
       "                }\n",
       "\n",
       "                .geemap-colab {\n",
       "                    background-color: var(--colab-primary-surface-color, white);\n",
       "                }\n",
       "\n",
       "                .geemap-colab .jupyter-button {\n",
       "                    --jp-layout-color3: var(--colab-primary-surface-color, white);\n",
       "                }\n",
       "            </style>\n",
       "            "
      ],
      "text/plain": [
       "<IPython.core.display.HTML object>"
      ]
     },
     "metadata": {},
     "output_type": "display_data"
    }
   ],
   "source": [
    "args[\"zscale\"] = 1.0 # elevation scale factor"
   ]
  },
  {
   "cell_type": "markdown",
   "metadata": {},
   "source": [
    "### Set the name of your terrain model zipfile\n",
    "- Once a STL file of your terrain model has been created, it will be zipped into a zipfile and copied into the tmp folder. The zipfile also contains a log file and a geotiff.\n",
    "- It's often a good idea to give the zipfile a name that reflects the terrain, e.g. grand_canyon.zipfile\n",
    "- Set zip_file_name to the name of your zipfile. Dot not add the .zip extension, this will be done automatically\n",
    "- With Jupyterlab, right click on the zip file and choose Download from the pulldown"
   ]
  },
  {
   "cell_type": "code",
   "execution_count": 18,
   "metadata": {},
   "outputs": [
    {
     "data": {
      "text/html": [
       "\n",
       "            <style>\n",
       "                .geemap-dark {\n",
       "                    --jp-widgets-color: white;\n",
       "                    --jp-widgets-label-color: white;\n",
       "                    --jp-ui-font-color1: white;\n",
       "                    --jp-layout-color2: #454545;\n",
       "                    background-color: #383838;\n",
       "                }\n",
       "\n",
       "                .geemap-dark .jupyter-button {\n",
       "                    --jp-layout-color3: #383838;\n",
       "                }\n",
       "\n",
       "                .geemap-colab {\n",
       "                    background-color: var(--colab-primary-surface-color, white);\n",
       "                }\n",
       "\n",
       "                .geemap-colab .jupyter-button {\n",
       "                    --jp-layout-color3: var(--colab-primary-surface-color, white);\n",
       "                }\n",
       "            </style>\n",
       "            "
      ],
      "text/plain": [
       "<IPython.core.display.HTML object>"
      ]
     },
     "metadata": {},
     "output_type": "display_data"
    }
   ],
   "source": [
    "args[\"zip_file_name\"] = \"myterrain\" # terrain model will be inside tmp/myterrain.zip"
   ]
  },
  {
   "cell_type": "markdown",
   "metadata": {},
   "source": [
    "### Other settings\n",
    "- There are several more expert settings which we will skip for now.\n",
    "- If you're interested, look here: https://github.com/ChHarding/TouchTerrain_for_CAGEO#processing-parameters\n",
    "- If you're interested, run the cell below to list all setting names and their values\n"
   ]
  },
  {
   "cell_type": "code",
   "execution_count": 19,
   "metadata": {},
   "outputs": [
    {
     "data": {
      "text/html": [
       "\n",
       "            <style>\n",
       "                .geemap-dark {\n",
       "                    --jp-widgets-color: white;\n",
       "                    --jp-widgets-label-color: white;\n",
       "                    --jp-ui-font-color1: white;\n",
       "                    --jp-layout-color2: #454545;\n",
       "                    background-color: #383838;\n",
       "                }\n",
       "\n",
       "                .geemap-dark .jupyter-button {\n",
       "                    --jp-layout-color3: #383838;\n",
       "                }\n",
       "\n",
       "                .geemap-colab {\n",
       "                    background-color: var(--colab-primary-surface-color, white);\n",
       "                }\n",
       "\n",
       "                .geemap-colab .jupyter-button {\n",
       "                    --jp-layout-color3: var(--colab-primary-surface-color, white);\n",
       "                }\n",
       "            </style>\n",
       "            "
      ],
      "text/plain": [
       "<IPython.core.display.HTML object>"
      ]
     },
     "metadata": {},
     "output_type": "display_data"
    },
    {
     "name": "stdout",
     "output_type": "stream",
     "text": [
      "DEM_name USGS/3DEP/10m\n",
      "bllat 39.322\n",
      "bllon -120.374\n",
      "trlat 39.457\n",
      "trlon -120.2\n",
      "importedDEM None\n",
      "printres 0.4\n",
      "ntilesx 1\n",
      "ntilesy 1\n",
      "tilewidth 250\n",
      "basethick 0.6\n",
      "zscale 1.0\n",
      "fileformat STLb\n",
      "tile_centered False\n",
      "zip_file_name myterrain\n",
      "CPU_cores_to_use None\n",
      "max_cells_for_memory_only 25000000\n",
      "no_bottom False\n",
      "bottom_image None\n",
      "ignore_leq None\n",
      "lower_leq None\n",
      "unprojected False\n",
      "only None\n",
      "importedGPX None\n",
      "smooth_borders True\n",
      "offset_masks_lower None\n",
      "fill_holes None\n",
      "poly_file None\n",
      "min_elev None\n",
      "tilewidth_scale None\n",
      "clean_diags False\n",
      "bottom_elevation None\n",
      "dirty_triangles: False\n",
      "gpxPathHeight 5\n",
      "gpxPixelsBetweenPoints 20\n",
      "gpxPathThickness 2\n",
      "polygon {\"coordinates\": [[[-118.040543, 34.318373], [-117.991104, 34.359196], [-117.863388, 34.319508], [-117.912827, 34.28207], [-118.008957, 34.266183], [-118.040543, 34.318373]]], \"type\": \"Polygon\"}\n"
     ]
    }
   ],
   "source": [
    "for name in args:\n",
    "    print(name, args[name])"
   ]
  },
  {
   "cell_type": "markdown",
   "metadata": {},
   "source": [
    "## Generating the STL model file\n",
    "- Running the next cell will convert the DEM (either from a local geotiff file or from a Google Earth online DEM source) into STL file and put it inside a zipfile in the tmp folder. You will also get a log file and the geotiff that was processed.\n",
    "- This may take some time!\n",
    "- During processing you'll see a star indicator (In[*]) and a lot of log messages. Those messages will also be in the logfile inside the zip, and may be useful later."
   ]
  },
  {
   "cell_type": "code",
   "execution_count": null,
   "metadata": {
    "scrolled": true
   },
   "outputs": [
    {
     "data": {
      "text/html": [
       "\n",
       "            <style>\n",
       "                .geemap-dark {\n",
       "                    --jp-widgets-color: white;\n",
       "                    --jp-widgets-label-color: white;\n",
       "                    --jp-ui-font-color1: white;\n",
       "                    --jp-layout-color2: #454545;\n",
       "                    background-color: #383838;\n",
       "                }\n",
       "\n",
       "                .geemap-dark .jupyter-button {\n",
       "                    --jp-layout-color3: #383838;\n",
       "                }\n",
       "\n",
       "                .geemap-colab {\n",
       "                    background-color: var(--colab-primary-surface-color, white);\n",
       "                }\n",
       "\n",
       "                .geemap-colab .jupyter-button {\n",
       "                    --jp-layout-color3: var(--colab-primary-surface-color, white);\n",
       "                }\n",
       "            </style>\n",
       "            "
      ],
      "text/plain": [
       "<IPython.core.display.HTML object>"
      ]
     },
     "metadata": {},
     "output_type": "display_data"
    },
    {
     "name": "stderr",
     "output_type": "stream",
     "text": [
      "INFO:root:Using GeoJSON polygon for masking with 307 points\n",
      "INFO:root:Log for creating 3D model tile(s) for  10m_-117.95_34.31 \n",
      " \n",
      "INFO:root:DEM_name = USGS/3DEP/10m \n",
      "INFO:root:trlat = 34.376631265361034 \n",
      "INFO:root:trlon = -117.84137902864053 \n",
      "INFO:root:bllat = 34.24154063857428 \n",
      "INFO:root:bllon = -118.06171310292578 \n",
      "INFO:root:printres = 0.4 \n",
      "INFO:root:ntilesx = 1 \n",
      "INFO:root:ntilesy = 1 \n",
      "INFO:root:tilewidth = 250 \n",
      "INFO:root:basethick = 0 \n",
      "INFO:root:zscale = 1.0 \n",
      "INFO:root:fileformat = STLb \n",
      "INFO:root:no_bottom = False \n",
      "INFO:root:unprojected = False \n",
      "INFO:root:no_normals = True \n",
      "INFO:root:\n",
      "process started: 01:15:55.289697 \n",
      "INFO:root:\n",
      "Region (lat/lon):\n",
      "   34.376631265361034 -117.84137902864053 (top right)\n",
      "   34.24154063857428 -118.06171310292578 (bottom left) \n",
      "INFO:root:center at [-117.95154606578316, 34.30908595196766], UTM11N, EPSG:32611 \n",
      "WARNING:OSMPythonTools:[overpass] downloading data: [timeout:25][out:json];\n",
      "    (\n",
      "      way[\"landuse\"](poly:\"34.33348878708452 -118.03166638615336 34.34597302920852 -118.0318192822582 34.346144535187875 -118.0318115372667 34.346314653928665 -118.03178417217724 34.34648184479845 -118.03173743469594 34.34664459367118 -118.03167174797586 34.34680142664009 -118.03158770678877 34.34695092336657 -118.0314860721424 34.34709172994426 -118.03136776439159 34.34722257116171 -118.03123385490562 34.34734226205258 -118.03108555636751 34.347449718628475 -118.03092421179245 34.347543967697725 -118.03075128236522 34.35389516315509 -118.01779153787605 34.36637941785036 -118.01794249311001 34.366550922928965 -118.01793471903065 34.36672103863022 -118.01790732025827 34.36688822434919 -118.0178605448039 34.36705096600643 -118.01779481616437 34.36720778976043 -118.01771072949113 34.367357275355985 -118.01760904620369 34.3674980689875 -118.01749068709745 34.36762889556071 -118.0173567240068 34.36774857024183 -118.01720837010025 34.36785600918928 -118.01704696889445 34.36795023937093 -118.01687398208716 34.37482953080409 -118.00282876592372 34.37490967821749 -118.00264573143718 34.37497503642543 -118.00245433711319 34.37502501349778 -118.00225631633184 34.375059156805314 -118.00205346249824 34.37507715711986 -118.00184761279772 34.37507885141548 -118.00164063155393 34.3750642243453 -118.00143439334104 34.375033408380574 -118.00123076600302 34.37498668261085 -118.0010315937338 34.37492447021585 -118.00083868037188 34.374847334632285 -118.00065377306079 34.36871108831512 -117.98754097278217 34.37505779969706 -117.9745746325545 34.37513790531638 -117.97439156959938 34.37520321971516 -117.97420015170219 34.37525315136006 -117.97400211245653 34.37528724803336 -117.9737992454349 34.375305200929255 -117.97359338794207 34.37530684745136 -117.9733864043723 34.375292172685505 -117.97318016932084 34.37526130953497 -117.972976550603 34.37521453751672 -117.97277739233455 34.37515228022937 -117.9725844982272 34.375075101516266 -117.97239961524997 34.36842370865896 -117.95819540277168 34.36833228657246 -117.9580202342861 34.368227471098315 -117.95785633943063 34.36811021150864 -117.95770520249538 34.36798156977329 -117.95756819221018 34.367842710940714 -117.95744654934899 34.367694892585305 -117.9573413754936 34.3675394534169 -117.9572536230588 34.36737780115569 -117.95718408666923 34.367211399782214 -117.9571333959658 34.367041756278155 -117.95710200990693 34.366870406977974 -117.95709021261587 34.354385924051854 -117.95694827797446 34.34875708780591 -117.94493478608209 34.355099307944435 -117.93196816118791 34.35517935004175 -117.93178509909619 34.3552445978054 -117.93159369154718 34.35529446030566 -117.93139567204086 34.35532848595107 -117.93119283397095 34.355346366579255 -117.93098701438001 34.35534794024839 -117.93078007731896 34.35533319270421 -117.93057389696177 34.355302257509244 -117.93037034062833 34.355255414832975 -117.9301712518692 34.35519308891402 -117.9299784337664 34.35511584421732 -117.92979363260044 34.348971850343574 -117.91668892471533 34.355311112813986 -117.90372006954054 34.355391113097454 -117.90353697915342 34.35545631704254 -117.90334554820653 34.35550613411635 -117.90314751041193 34.35554011313892 -117.902944659329 34.35555794637018 -117.9027388321182 34.3555594722976 -117.90253189289953 34.355544677099395 -117.9023257158665 34.355513694769705 -117.90212216830878 34.35546680590496 -117.90192309369755 34.35540443516215 -117.90173029498654 34.355327147412225 -117.90154551828057 34.34866736735587 -117.88735008263727 34.34857584170624 -117.88717503035322 34.3484709290153 -117.88701126054937 34.34835357943554 -117.88686025638287 34.34822485575181 -117.8867233853809 34.34808592375459 -117.88660188705568 34.34793804168077 -117.88649686167977 34.347782548817136 -117.88640926032308 34.347620853369946 -117.88633987624182 34.34745441971065 -117.8862893376975 34.347284755113094 -117.88625810227046 34.3471133961026 -117.8862464527198 34.33462862373928 -117.8861151203098 34.32899269955466 -117.87410905053969 34.33532747373462 -117.86113993188992 34.33540741054654 -117.86095684265297 34.33547254792619 -117.86076542232998 34.33552229594365 -117.86056740453678 34.33555620404444 -117.8603645826517 34.335573965130926 -117.86015879357075 34.33557541834407 -117.85995190106853 34.335560550520704 -117.85974577891535 34.33552949631284 -117.85954229390377 34.335482536967916 -117.85934328893832 34.335420097781316 -117.85915056634185 34.33534274424388 -117.85896587152959 34.32867790362174 -117.84477709618604 34.3285863154835 -117.84460213083217 34.32848134412291 -117.84443845220197 34.32836394022386 -117.84428754262673 34.32823516706306 -117.84415076877676 34.32809619087904 -117.84402936928426 34.327948270308745 -117.84392444352656 34.32779274498749 -117.84383694167133 34.327631023415385 -117.84376765607358 34.32746457020035 -117.8437172141029 34.3272948927932 -117.84368607246502 34.32712352783509 -117.84367451306973 34.31359732556091 -117.84353916662371 34.31342582461563 -117.84354729360079 34.31325574123962 -117.84357503050937 34.31308861572298 -117.8436221260437 34.312925961560126 -117.84368815359112 34.31276925174412 -117.8437725150993 34.31261990542806 -117.84387444649593 34.312479275074196 -117.84399302461107 34.31234863420739 -117.84412717553995 34.31222916588347 -117.84427568436986 34.3121219519771 -117.84443720618339 34.31202796338582 -117.84461027823819 34.30569495128848 -117.85757713179542 34.29320999899437 -117.85745024439079 34.29303849701542 -117.85745834200662 34.2928684104511 -117.85748604499307 34.292701279620424 -117.85753310235171 34.29253861806601 -117.85759908781571 34.29238189884792 -117.85768340371393 34.29223254120443 -117.85778528638708 34.29209189770044 -117.85790381310655 34.29196124197994 -117.85803791043291 34.291841757233364 -117.85818636393886 34.29173452548408 -117.85834782920799 34.29164051779128 -117.8585208440099 34.28477772139804 -117.87256452269297 34.28469776843058 -117.8727474917241 34.28463261369533 -117.87293878803436 34.28458284720799 -117.87313667929831 34.284548919632904 -117.87333937348022 34.28453113820279 -117.87354503505948 34.284529663937136 -117.87375180164949 34.28454451018443 -117.87395780085949 34.28457554250139 -117.87416116724684 34.28462247987023 -117.87436005920654 34.28468489724303 -117.874552675645 34.284762229390196 -117.87473727228739 34.29091098179383 -117.88782894041731 34.285102075233574 -117.89970842133121 34.27261722212631 -117.89957540325713 34.27244571816406 -117.89958341420727 34.27227562294449 -117.89961102629223 34.27210847686511 -117.89965798933686 34.271945793606754 -117.89972387792845 34.27178904642621 -117.89980809527313 34.271639654815054 -117.8999098786041 34.27149897164592 -117.90002830609224 34.2713682709221 -117.90016230519666 34.271248736241624 -117.9003106623794 34.27114145008013 -117.90047203409608 34.271047383989576 -117.90064495896338 34.26417984546305 -117.91468171667296 34.26409983068803 -117.91486460020069 34.26403461124748 -117.91505581620741 34.26398477774298 -117.91525363309465 34.26395078144571 -117.91545625950002 34.26393293021063 -117.91566186051656 34.26393138568929 -117.91586857430597 34.26394616186632 -117.91607452895552 34.263977124932815 -117.91627785942597 34.26402399449803 -117.91647672443764 34.26408634612797 -117.91666932314095 34.26416361518827 -117.91685391142173 34.270307890195674 -117.92994531271843 34.26396601059287 -117.9428992175168 34.26388595415535 -117.9430820728508 34.26382069105313 -117.94327326553754 34.263770812283155 -117.94347106418971 34.26373676952645 -117.94367367760991 34.26371887105865 -117.94387927100877 34.26371727895896 -117.94408598261685 34.263732007642794 -117.94429194054128 34.2637629237313 -117.94449527971315 34.263809747259046 -117.94469415877398 34.26387205420892 -117.94488677674707 34.2639492803511 -117.94507138934382 34.270090507392936 -117.95816473655289 34.264274892053756 -117.9700363191449 34.25179024726518 -117.96989301615483 34.25161874056042 -117.96990088330334 34.25144863141829 -117.96992834764664 34.2512814603626 -117.9699751603476 34.251118741300616 -117.97004089735498 34.25096194781346 -117.97012496324754 34.25081249981236 -117.97022659662994 34.25067175068073 -117.97034487703075 34.25054097501933 -117.97047873324088 34.250421357104926 -117.97062695301608 34.25031398016695 -117.9707881940561 34.25021981657943 -117.97096099616058 34.24334435787977 -117.98498842323212 34.24326423983802 -117.98517119300219 34.24319891222641 -117.98536230529689 34.24314896662606 -117.98556002945664 34.243114855323135 -117.98576257495849 34.2430968872139 -117.98596810762794 34.24309522500816 -117.98617476624544 34.24310988375607 -117.98638067939773 34.24314073071199 -117.98658398242142 34.24318748653647 -117.98678283428528 34.24324972782535 -117.98697543425892 34.24332689094336 -117.98716003821681 34.24946364443823 -118.00025309802037 34.24311446083989 -118.01319838244365 34.243034301218714 -118.01338112390413 34.24296893002119 -118.01357221275109 34.24291893922309 -118.01376991853715 34.2428847815198 -118.01397245090573 34.24286676622776 -118.01417797580113 34.24286505648395 -118.01438463207423 34.24287966776896 -118.01459054833299 34.242910467766905 -118.0147938598859 34.24295717756349 -118.01499272562452 34.24301937417134 -118.01518534469292 34.24309649435975 -118.0153699727927 34.24974168571623 -118.0295571754958 34.24983301023494 -118.02973216942178 34.24993773402742 -118.02989591740031 34.25005490874548 -118.03004693653735 34.250183473285375 -118.03018385919087 34.25032226339544 -118.03030544535615 34.25047002221814 -118.0304105938958 34.25062541167055 -118.0304983525131 34.25078702456066 -118.03056792637814 34.250953397329816 -118.0306186853286 34.251123023305624 -118.03065016957986 34.25129436634575 -118.03066209389269 34.26377878019198 -118.03081437183458 34.26991073473108 -118.04391368772649 34.27000203740132 -118.04408873898544 34.27010674062653 -118.04425254400942 34.270223896244794 -118.04440361938792 34.270352443325336 -118.04454059696965 34.27049121777471 -118.04466223625253 34.27063896287721 -118.04476743561811 34.270794340674236 -118.04485524230944 34.270955944079404 -118.0449248610612 34.27112230961996 -118.0449756613045 34.27129193068907 -118.04500718288074 34.2714632711889 -118.04501914021255 34.28394758702708 -118.04517365582826 34.29007790914603 -118.05827714214605 34.2901691899313 -118.05845225079548 34.290273872553826 -118.05861611292535 34.29039100903834 -118.058767244608 34.29051953862735 -118.05890427718239 34.290658297385846 -118.05902596964845 34.290806028740306 -118.05913121990615 34.29096139485665 -118.05921907473761 34.29112298875437 -118.05928873844154 34.29128934704685 -118.05933958004195 34.29145896319293 -118.0593711390056 34.29163030113944 -118.05938312941645 34.305155702978254 -118.0595529649426 34.3053272107245 -118.05954527795355 34.305497335499744 -118.05951798004814 34.30566453661704 -118.05947131832427 34.305827299857626 -118.05940571524901 34.30598415118473 -118.05932176483687 34.3061336700936 -118.05922022727346 34.30627450247712 -118.05910202203445 34.30640537289022 -118.05896821956078 34.30652509610222 -118.05882003156624 34.30663258783218 -118.0586588000647 34.306726874570025 -118.05848598521683 34.31308089421095 -118.04553460362321 34.32556512304649 -118.045689436516 34.32573662991506 -118.0456817205546 34.3259067516805 -118.04565438908743 34.32607394768304 -118.04560768951629 34.326236703750226 -118.0455420446509 34.32639354591017 -118.04545804888417 34.32654305374107 -118.04535646281248 34.326683873236085 -118.0452382063507 34.326814729066825 -118.0451043504037 34.32693443613464 -118.0449561071696 34.32704191030473 -118.0447948191626 34.32713617822601 -118.04462194705518 34.33348878708452 -118.03166638615336\");\n",
      "      way[\"natural\"](poly:\"34.33348878708452 -118.03166638615336 34.34597302920852 -118.0318192822582 34.346144535187875 -118.0318115372667 34.346314653928665 -118.03178417217724 34.34648184479845 -118.03173743469594 34.34664459367118 -118.03167174797586 34.34680142664009 -118.03158770678877 34.34695092336657 -118.0314860721424 34.34709172994426 -118.03136776439159 34.34722257116171 -118.03123385490562 34.34734226205258 -118.03108555636751 34.347449718628475 -118.03092421179245 34.347543967697725 -118.03075128236522 34.35389516315509 -118.01779153787605 34.36637941785036 -118.01794249311001 34.366550922928965 -118.01793471903065 34.36672103863022 -118.01790732025827 34.36688822434919 -118.0178605448039 34.36705096600643 -118.01779481616437 34.36720778976043 -118.01771072949113 34.367357275355985 -118.01760904620369 34.3674980689875 -118.01749068709745 34.36762889556071 -118.0173567240068 34.36774857024183 -118.01720837010025 34.36785600918928 -118.01704696889445 34.36795023937093 -118.01687398208716 34.37482953080409 -118.00282876592372 34.37490967821749 -118.00264573143718 34.37497503642543 -118.00245433711319 34.37502501349778 -118.00225631633184 34.375059156805314 -118.00205346249824 34.37507715711986 -118.00184761279772 34.37507885141548 -118.00164063155393 34.3750642243453 -118.00143439334104 34.375033408380574 -118.00123076600302 34.37498668261085 -118.0010315937338 34.37492447021585 -118.00083868037188 34.374847334632285 -118.00065377306079 34.36871108831512 -117.98754097278217 34.37505779969706 -117.9745746325545 34.37513790531638 -117.97439156959938 34.37520321971516 -117.97420015170219 34.37525315136006 -117.97400211245653 34.37528724803336 -117.9737992454349 34.375305200929255 -117.97359338794207 34.37530684745136 -117.9733864043723 34.375292172685505 -117.97318016932084 34.37526130953497 -117.972976550603 34.37521453751672 -117.97277739233455 34.37515228022937 -117.9725844982272 34.375075101516266 -117.97239961524997 34.36842370865896 -117.95819540277168 34.36833228657246 -117.9580202342861 34.368227471098315 -117.95785633943063 34.36811021150864 -117.95770520249538 34.36798156977329 -117.95756819221018 34.367842710940714 -117.95744654934899 34.367694892585305 -117.9573413754936 34.3675394534169 -117.9572536230588 34.36737780115569 -117.95718408666923 34.367211399782214 -117.9571333959658 34.367041756278155 -117.95710200990693 34.366870406977974 -117.95709021261587 34.354385924051854 -117.95694827797446 34.34875708780591 -117.94493478608209 34.355099307944435 -117.93196816118791 34.35517935004175 -117.93178509909619 34.3552445978054 -117.93159369154718 34.35529446030566 -117.93139567204086 34.35532848595107 -117.93119283397095 34.355346366579255 -117.93098701438001 34.35534794024839 -117.93078007731896 34.35533319270421 -117.93057389696177 34.355302257509244 -117.93037034062833 34.355255414832975 -117.9301712518692 34.35519308891402 -117.9299784337664 34.35511584421732 -117.92979363260044 34.348971850343574 -117.91668892471533 34.355311112813986 -117.90372006954054 34.355391113097454 -117.90353697915342 34.35545631704254 -117.90334554820653 34.35550613411635 -117.90314751041193 34.35554011313892 -117.902944659329 34.35555794637018 -117.9027388321182 34.3555594722976 -117.90253189289953 34.355544677099395 -117.9023257158665 34.355513694769705 -117.90212216830878 34.35546680590496 -117.90192309369755 34.35540443516215 -117.90173029498654 34.355327147412225 -117.90154551828057 34.34866736735587 -117.88735008263727 34.34857584170624 -117.88717503035322 34.3484709290153 -117.88701126054937 34.34835357943554 -117.88686025638287 34.34822485575181 -117.8867233853809 34.34808592375459 -117.88660188705568 34.34793804168077 -117.88649686167977 34.347782548817136 -117.88640926032308 34.347620853369946 -117.88633987624182 34.34745441971065 -117.8862893376975 34.347284755113094 -117.88625810227046 34.3471133961026 -117.8862464527198 34.33462862373928 -117.8861151203098 34.32899269955466 -117.87410905053969 34.33532747373462 -117.86113993188992 34.33540741054654 -117.86095684265297 34.33547254792619 -117.86076542232998 34.33552229594365 -117.86056740453678 34.33555620404444 -117.8603645826517 34.335573965130926 -117.86015879357075 34.33557541834407 -117.85995190106853 34.335560550520704 -117.85974577891535 34.33552949631284 -117.85954229390377 34.335482536967916 -117.85934328893832 34.335420097781316 -117.85915056634185 34.33534274424388 -117.85896587152959 34.32867790362174 -117.84477709618604 34.3285863154835 -117.84460213083217 34.32848134412291 -117.84443845220197 34.32836394022386 -117.84428754262673 34.32823516706306 -117.84415076877676 34.32809619087904 -117.84402936928426 34.327948270308745 -117.84392444352656 34.32779274498749 -117.84383694167133 34.327631023415385 -117.84376765607358 34.32746457020035 -117.8437172141029 34.3272948927932 -117.84368607246502 34.32712352783509 -117.84367451306973 34.31359732556091 -117.84353916662371 34.31342582461563 -117.84354729360079 34.31325574123962 -117.84357503050937 34.31308861572298 -117.8436221260437 34.312925961560126 -117.84368815359112 34.31276925174412 -117.8437725150993 34.31261990542806 -117.84387444649593 34.312479275074196 -117.84399302461107 34.31234863420739 -117.84412717553995 34.31222916588347 -117.84427568436986 34.3121219519771 -117.84443720618339 34.31202796338582 -117.84461027823819 34.30569495128848 -117.85757713179542 34.29320999899437 -117.85745024439079 34.29303849701542 -117.85745834200662 34.2928684104511 -117.85748604499307 34.292701279620424 -117.85753310235171 34.29253861806601 -117.85759908781571 34.29238189884792 -117.85768340371393 34.29223254120443 -117.85778528638708 34.29209189770044 -117.85790381310655 34.29196124197994 -117.85803791043291 34.291841757233364 -117.85818636393886 34.29173452548408 -117.85834782920799 34.29164051779128 -117.8585208440099 34.28477772139804 -117.87256452269297 34.28469776843058 -117.8727474917241 34.28463261369533 -117.87293878803436 34.28458284720799 -117.87313667929831 34.284548919632904 -117.87333937348022 34.28453113820279 -117.87354503505948 34.284529663937136 -117.87375180164949 34.28454451018443 -117.87395780085949 34.28457554250139 -117.87416116724684 34.28462247987023 -117.87436005920654 34.28468489724303 -117.874552675645 34.284762229390196 -117.87473727228739 34.29091098179383 -117.88782894041731 34.285102075233574 -117.89970842133121 34.27261722212631 -117.89957540325713 34.27244571816406 -117.89958341420727 34.27227562294449 -117.89961102629223 34.27210847686511 -117.89965798933686 34.271945793606754 -117.89972387792845 34.27178904642621 -117.89980809527313 34.271639654815054 -117.8999098786041 34.27149897164592 -117.90002830609224 34.2713682709221 -117.90016230519666 34.271248736241624 -117.9003106623794 34.27114145008013 -117.90047203409608 34.271047383989576 -117.90064495896338 34.26417984546305 -117.91468171667296 34.26409983068803 -117.91486460020069 34.26403461124748 -117.91505581620741 34.26398477774298 -117.91525363309465 34.26395078144571 -117.91545625950002 34.26393293021063 -117.91566186051656 34.26393138568929 -117.91586857430597 34.26394616186632 -117.91607452895552 34.263977124932815 -117.91627785942597 34.26402399449803 -117.91647672443764 34.26408634612797 -117.91666932314095 34.26416361518827 -117.91685391142173 34.270307890195674 -117.92994531271843 34.26396601059287 -117.9428992175168 34.26388595415535 -117.9430820728508 34.26382069105313 -117.94327326553754 34.263770812283155 -117.94347106418971 34.26373676952645 -117.94367367760991 34.26371887105865 -117.94387927100877 34.26371727895896 -117.94408598261685 34.263732007642794 -117.94429194054128 34.2637629237313 -117.94449527971315 34.263809747259046 -117.94469415877398 34.26387205420892 -117.94488677674707 34.2639492803511 -117.94507138934382 34.270090507392936 -117.95816473655289 34.264274892053756 -117.9700363191449 34.25179024726518 -117.96989301615483 34.25161874056042 -117.96990088330334 34.25144863141829 -117.96992834764664 34.2512814603626 -117.9699751603476 34.251118741300616 -117.97004089735498 34.25096194781346 -117.97012496324754 34.25081249981236 -117.97022659662994 34.25067175068073 -117.97034487703075 34.25054097501933 -117.97047873324088 34.250421357104926 -117.97062695301608 34.25031398016695 -117.9707881940561 34.25021981657943 -117.97096099616058 34.24334435787977 -117.98498842323212 34.24326423983802 -117.98517119300219 34.24319891222641 -117.98536230529689 34.24314896662606 -117.98556002945664 34.243114855323135 -117.98576257495849 34.2430968872139 -117.98596810762794 34.24309522500816 -117.98617476624544 34.24310988375607 -117.98638067939773 34.24314073071199 -117.98658398242142 34.24318748653647 -117.98678283428528 34.24324972782535 -117.98697543425892 34.24332689094336 -117.98716003821681 34.24946364443823 -118.00025309802037 34.24311446083989 -118.01319838244365 34.243034301218714 -118.01338112390413 34.24296893002119 -118.01357221275109 34.24291893922309 -118.01376991853715 34.2428847815198 -118.01397245090573 34.24286676622776 -118.01417797580113 34.24286505648395 -118.01438463207423 34.24287966776896 -118.01459054833299 34.242910467766905 -118.0147938598859 34.24295717756349 -118.01499272562452 34.24301937417134 -118.01518534469292 34.24309649435975 -118.0153699727927 34.24974168571623 -118.0295571754958 34.24983301023494 -118.02973216942178 34.24993773402742 -118.02989591740031 34.25005490874548 -118.03004693653735 34.250183473285375 -118.03018385919087 34.25032226339544 -118.03030544535615 34.25047002221814 -118.0304105938958 34.25062541167055 -118.0304983525131 34.25078702456066 -118.03056792637814 34.250953397329816 -118.0306186853286 34.251123023305624 -118.03065016957986 34.25129436634575 -118.03066209389269 34.26377878019198 -118.03081437183458 34.26991073473108 -118.04391368772649 34.27000203740132 -118.04408873898544 34.27010674062653 -118.04425254400942 34.270223896244794 -118.04440361938792 34.270352443325336 -118.04454059696965 34.27049121777471 -118.04466223625253 34.27063896287721 -118.04476743561811 34.270794340674236 -118.04485524230944 34.270955944079404 -118.0449248610612 34.27112230961996 -118.0449756613045 34.27129193068907 -118.04500718288074 34.2714632711889 -118.04501914021255 34.28394758702708 -118.04517365582826 34.29007790914603 -118.05827714214605 34.2901691899313 -118.05845225079548 34.290273872553826 -118.05861611292535 34.29039100903834 -118.058767244608 34.29051953862735 -118.05890427718239 34.290658297385846 -118.05902596964845 34.290806028740306 -118.05913121990615 34.29096139485665 -118.05921907473761 34.29112298875437 -118.05928873844154 34.29128934704685 -118.05933958004195 34.29145896319293 -118.0593711390056 34.29163030113944 -118.05938312941645 34.305155702978254 -118.0595529649426 34.3053272107245 -118.05954527795355 34.305497335499744 -118.05951798004814 34.30566453661704 -118.05947131832427 34.305827299857626 -118.05940571524901 34.30598415118473 -118.05932176483687 34.3061336700936 -118.05922022727346 34.30627450247712 -118.05910202203445 34.30640537289022 -118.05896821956078 34.30652509610222 -118.05882003156624 34.30663258783218 -118.0586588000647 34.306726874570025 -118.05848598521683 34.31308089421095 -118.04553460362321 34.32556512304649 -118.045689436516 34.32573662991506 -118.0456817205546 34.3259067516805 -118.04565438908743 34.32607394768304 -118.04560768951629 34.326236703750226 -118.0455420446509 34.32639354591017 -118.04545804888417 34.32654305374107 -118.04535646281248 34.326683873236085 -118.0452382063507 34.326814729066825 -118.0451043504037 34.32693443613464 -118.0449561071696 34.32704191030473 -118.0447948191626 34.32713617822601 -118.04462194705518 34.33348878708452 -118.03166638615336\");\n",
      "      way[\"landcover\"](poly:\"34.33348878708452 -118.03166638615336 34.34597302920852 -118.0318192822582 34.346144535187875 -118.0318115372667 34.346314653928665 -118.03178417217724 34.34648184479845 -118.03173743469594 34.34664459367118 -118.03167174797586 34.34680142664009 -118.03158770678877 34.34695092336657 -118.0314860721424 34.34709172994426 -118.03136776439159 34.34722257116171 -118.03123385490562 34.34734226205258 -118.03108555636751 34.347449718628475 -118.03092421179245 34.347543967697725 -118.03075128236522 34.35389516315509 -118.01779153787605 34.36637941785036 -118.01794249311001 34.366550922928965 -118.01793471903065 34.36672103863022 -118.01790732025827 34.36688822434919 -118.0178605448039 34.36705096600643 -118.01779481616437 34.36720778976043 -118.01771072949113 34.367357275355985 -118.01760904620369 34.3674980689875 -118.01749068709745 34.36762889556071 -118.0173567240068 34.36774857024183 -118.01720837010025 34.36785600918928 -118.01704696889445 34.36795023937093 -118.01687398208716 34.37482953080409 -118.00282876592372 34.37490967821749 -118.00264573143718 34.37497503642543 -118.00245433711319 34.37502501349778 -118.00225631633184 34.375059156805314 -118.00205346249824 34.37507715711986 -118.00184761279772 34.37507885141548 -118.00164063155393 34.3750642243453 -118.00143439334104 34.375033408380574 -118.00123076600302 34.37498668261085 -118.0010315937338 34.37492447021585 -118.00083868037188 34.374847334632285 -118.00065377306079 34.36871108831512 -117.98754097278217 34.37505779969706 -117.9745746325545 34.37513790531638 -117.97439156959938 34.37520321971516 -117.97420015170219 34.37525315136006 -117.97400211245653 34.37528724803336 -117.9737992454349 34.375305200929255 -117.97359338794207 34.37530684745136 -117.9733864043723 34.375292172685505 -117.97318016932084 34.37526130953497 -117.972976550603 34.37521453751672 -117.97277739233455 34.37515228022937 -117.9725844982272 34.375075101516266 -117.97239961524997 34.36842370865896 -117.95819540277168 34.36833228657246 -117.9580202342861 34.368227471098315 -117.95785633943063 34.36811021150864 -117.95770520249538 34.36798156977329 -117.95756819221018 34.367842710940714 -117.95744654934899 34.367694892585305 -117.9573413754936 34.3675394534169 -117.9572536230588 34.36737780115569 -117.95718408666923 34.367211399782214 -117.9571333959658 34.367041756278155 -117.95710200990693 34.366870406977974 -117.95709021261587 34.354385924051854 -117.95694827797446 34.34875708780591 -117.94493478608209 34.355099307944435 -117.93196816118791 34.35517935004175 -117.93178509909619 34.3552445978054 -117.93159369154718 34.35529446030566 -117.93139567204086 34.35532848595107 -117.93119283397095 34.355346366579255 -117.93098701438001 34.35534794024839 -117.93078007731896 34.35533319270421 -117.93057389696177 34.355302257509244 -117.93037034062833 34.355255414832975 -117.9301712518692 34.35519308891402 -117.9299784337664 34.35511584421732 -117.92979363260044 34.348971850343574 -117.91668892471533 34.355311112813986 -117.90372006954054 34.355391113097454 -117.90353697915342 34.35545631704254 -117.90334554820653 34.35550613411635 -117.90314751041193 34.35554011313892 -117.902944659329 34.35555794637018 -117.9027388321182 34.3555594722976 -117.90253189289953 34.355544677099395 -117.9023257158665 34.355513694769705 -117.90212216830878 34.35546680590496 -117.90192309369755 34.35540443516215 -117.90173029498654 34.355327147412225 -117.90154551828057 34.34866736735587 -117.88735008263727 34.34857584170624 -117.88717503035322 34.3484709290153 -117.88701126054937 34.34835357943554 -117.88686025638287 34.34822485575181 -117.8867233853809 34.34808592375459 -117.88660188705568 34.34793804168077 -117.88649686167977 34.347782548817136 -117.88640926032308 34.347620853369946 -117.88633987624182 34.34745441971065 -117.8862893376975 34.347284755113094 -117.88625810227046 34.3471133961026 -117.8862464527198 34.33462862373928 -117.8861151203098 34.32899269955466 -117.87410905053969 34.33532747373462 -117.86113993188992 34.33540741054654 -117.86095684265297 34.33547254792619 -117.86076542232998 34.33552229594365 -117.86056740453678 34.33555620404444 -117.8603645826517 34.335573965130926 -117.86015879357075 34.33557541834407 -117.85995190106853 34.335560550520704 -117.85974577891535 34.33552949631284 -117.85954229390377 34.335482536967916 -117.85934328893832 34.335420097781316 -117.85915056634185 34.33534274424388 -117.85896587152959 34.32867790362174 -117.84477709618604 34.3285863154835 -117.84460213083217 34.32848134412291 -117.84443845220197 34.32836394022386 -117.84428754262673 34.32823516706306 -117.84415076877676 34.32809619087904 -117.84402936928426 34.327948270308745 -117.84392444352656 34.32779274498749 -117.84383694167133 34.327631023415385 -117.84376765607358 34.32746457020035 -117.8437172141029 34.3272948927932 -117.84368607246502 34.32712352783509 -117.84367451306973 34.31359732556091 -117.84353916662371 34.31342582461563 -117.84354729360079 34.31325574123962 -117.84357503050937 34.31308861572298 -117.8436221260437 34.312925961560126 -117.84368815359112 34.31276925174412 -117.8437725150993 34.31261990542806 -117.84387444649593 34.312479275074196 -117.84399302461107 34.31234863420739 -117.84412717553995 34.31222916588347 -117.84427568436986 34.3121219519771 -117.84443720618339 34.31202796338582 -117.84461027823819 34.30569495128848 -117.85757713179542 34.29320999899437 -117.85745024439079 34.29303849701542 -117.85745834200662 34.2928684104511 -117.85748604499307 34.292701279620424 -117.85753310235171 34.29253861806601 -117.85759908781571 34.29238189884792 -117.85768340371393 34.29223254120443 -117.85778528638708 34.29209189770044 -117.85790381310655 34.29196124197994 -117.85803791043291 34.291841757233364 -117.85818636393886 34.29173452548408 -117.85834782920799 34.29164051779128 -117.8585208440099 34.28477772139804 -117.87256452269297 34.28469776843058 -117.8727474917241 34.28463261369533 -117.87293878803436 34.28458284720799 -117.87313667929831 34.284548919632904 -117.87333937348022 34.28453113820279 -117.87354503505948 34.284529663937136 -117.87375180164949 34.28454451018443 -117.87395780085949 34.28457554250139 -117.87416116724684 34.28462247987023 -117.87436005920654 34.28468489724303 -117.874552675645 34.284762229390196 -117.87473727228739 34.29091098179383 -117.88782894041731 34.285102075233574 -117.89970842133121 34.27261722212631 -117.89957540325713 34.27244571816406 -117.89958341420727 34.27227562294449 -117.89961102629223 34.27210847686511 -117.89965798933686 34.271945793606754 -117.89972387792845 34.27178904642621 -117.89980809527313 34.271639654815054 -117.8999098786041 34.27149897164592 -117.90002830609224 34.2713682709221 -117.90016230519666 34.271248736241624 -117.9003106623794 34.27114145008013 -117.90047203409608 34.271047383989576 -117.90064495896338 34.26417984546305 -117.91468171667296 34.26409983068803 -117.91486460020069 34.26403461124748 -117.91505581620741 34.26398477774298 -117.91525363309465 34.26395078144571 -117.91545625950002 34.26393293021063 -117.91566186051656 34.26393138568929 -117.91586857430597 34.26394616186632 -117.91607452895552 34.263977124932815 -117.91627785942597 34.26402399449803 -117.91647672443764 34.26408634612797 -117.91666932314095 34.26416361518827 -117.91685391142173 34.270307890195674 -117.92994531271843 34.26396601059287 -117.9428992175168 34.26388595415535 -117.9430820728508 34.26382069105313 -117.94327326553754 34.263770812283155 -117.94347106418971 34.26373676952645 -117.94367367760991 34.26371887105865 -117.94387927100877 34.26371727895896 -117.94408598261685 34.263732007642794 -117.94429194054128 34.2637629237313 -117.94449527971315 34.263809747259046 -117.94469415877398 34.26387205420892 -117.94488677674707 34.2639492803511 -117.94507138934382 34.270090507392936 -117.95816473655289 34.264274892053756 -117.9700363191449 34.25179024726518 -117.96989301615483 34.25161874056042 -117.96990088330334 34.25144863141829 -117.96992834764664 34.2512814603626 -117.9699751603476 34.251118741300616 -117.97004089735498 34.25096194781346 -117.97012496324754 34.25081249981236 -117.97022659662994 34.25067175068073 -117.97034487703075 34.25054097501933 -117.97047873324088 34.250421357104926 -117.97062695301608 34.25031398016695 -117.9707881940561 34.25021981657943 -117.97096099616058 34.24334435787977 -117.98498842323212 34.24326423983802 -117.98517119300219 34.24319891222641 -117.98536230529689 34.24314896662606 -117.98556002945664 34.243114855323135 -117.98576257495849 34.2430968872139 -117.98596810762794 34.24309522500816 -117.98617476624544 34.24310988375607 -117.98638067939773 34.24314073071199 -117.98658398242142 34.24318748653647 -117.98678283428528 34.24324972782535 -117.98697543425892 34.24332689094336 -117.98716003821681 34.24946364443823 -118.00025309802037 34.24311446083989 -118.01319838244365 34.243034301218714 -118.01338112390413 34.24296893002119 -118.01357221275109 34.24291893922309 -118.01376991853715 34.2428847815198 -118.01397245090573 34.24286676622776 -118.01417797580113 34.24286505648395 -118.01438463207423 34.24287966776896 -118.01459054833299 34.242910467766905 -118.0147938598859 34.24295717756349 -118.01499272562452 34.24301937417134 -118.01518534469292 34.24309649435975 -118.0153699727927 34.24974168571623 -118.0295571754958 34.24983301023494 -118.02973216942178 34.24993773402742 -118.02989591740031 34.25005490874548 -118.03004693653735 34.250183473285375 -118.03018385919087 34.25032226339544 -118.03030544535615 34.25047002221814 -118.0304105938958 34.25062541167055 -118.0304983525131 34.25078702456066 -118.03056792637814 34.250953397329816 -118.0306186853286 34.251123023305624 -118.03065016957986 34.25129436634575 -118.03066209389269 34.26377878019198 -118.03081437183458 34.26991073473108 -118.04391368772649 34.27000203740132 -118.04408873898544 34.27010674062653 -118.04425254400942 34.270223896244794 -118.04440361938792 34.270352443325336 -118.04454059696965 34.27049121777471 -118.04466223625253 34.27063896287721 -118.04476743561811 34.270794340674236 -118.04485524230944 34.270955944079404 -118.0449248610612 34.27112230961996 -118.0449756613045 34.27129193068907 -118.04500718288074 34.2714632711889 -118.04501914021255 34.28394758702708 -118.04517365582826 34.29007790914603 -118.05827714214605 34.2901691899313 -118.05845225079548 34.290273872553826 -118.05861611292535 34.29039100903834 -118.058767244608 34.29051953862735 -118.05890427718239 34.290658297385846 -118.05902596964845 34.290806028740306 -118.05913121990615 34.29096139485665 -118.05921907473761 34.29112298875437 -118.05928873844154 34.29128934704685 -118.05933958004195 34.29145896319293 -118.0593711390056 34.29163030113944 -118.05938312941645 34.305155702978254 -118.0595529649426 34.3053272107245 -118.05954527795355 34.305497335499744 -118.05951798004814 34.30566453661704 -118.05947131832427 34.305827299857626 -118.05940571524901 34.30598415118473 -118.05932176483687 34.3061336700936 -118.05922022727346 34.30627450247712 -118.05910202203445 34.30640537289022 -118.05896821956078 34.30652509610222 -118.05882003156624 34.30663258783218 -118.0586588000647 34.306726874570025 -118.05848598521683 34.31308089421095 -118.04553460362321 34.32556512304649 -118.045689436516 34.32573662991506 -118.0456817205546 34.3259067516805 -118.04565438908743 34.32607394768304 -118.04560768951629 34.326236703750226 -118.0455420446509 34.32639354591017 -118.04545804888417 34.32654305374107 -118.04535646281248 34.326683873236085 -118.0452382063507 34.326814729066825 -118.0451043504037 34.32693443613464 -118.0449561071696 34.32704191030473 -118.0447948191626 34.32713617822601 -118.04462194705518 34.33348878708452 -118.03166638615336\");\n",
      "      relation[\"landuse\"](poly:\"34.33348878708452 -118.03166638615336 34.34597302920852 -118.0318192822582 34.346144535187875 -118.0318115372667 34.346314653928665 -118.03178417217724 34.34648184479845 -118.03173743469594 34.34664459367118 -118.03167174797586 34.34680142664009 -118.03158770678877 34.34695092336657 -118.0314860721424 34.34709172994426 -118.03136776439159 34.34722257116171 -118.03123385490562 34.34734226205258 -118.03108555636751 34.347449718628475 -118.03092421179245 34.347543967697725 -118.03075128236522 34.35389516315509 -118.01779153787605 34.36637941785036 -118.01794249311001 34.366550922928965 -118.01793471903065 34.36672103863022 -118.01790732025827 34.36688822434919 -118.0178605448039 34.36705096600643 -118.01779481616437 34.36720778976043 -118.01771072949113 34.367357275355985 -118.01760904620369 34.3674980689875 -118.01749068709745 34.36762889556071 -118.0173567240068 34.36774857024183 -118.01720837010025 34.36785600918928 -118.01704696889445 34.36795023937093 -118.01687398208716 34.37482953080409 -118.00282876592372 34.37490967821749 -118.00264573143718 34.37497503642543 -118.00245433711319 34.37502501349778 -118.00225631633184 34.375059156805314 -118.00205346249824 34.37507715711986 -118.00184761279772 34.37507885141548 -118.00164063155393 34.3750642243453 -118.00143439334104 34.375033408380574 -118.00123076600302 34.37498668261085 -118.0010315937338 34.37492447021585 -118.00083868037188 34.374847334632285 -118.00065377306079 34.36871108831512 -117.98754097278217 34.37505779969706 -117.9745746325545 34.37513790531638 -117.97439156959938 34.37520321971516 -117.97420015170219 34.37525315136006 -117.97400211245653 34.37528724803336 -117.9737992454349 34.375305200929255 -117.97359338794207 34.37530684745136 -117.9733864043723 34.375292172685505 -117.97318016932084 34.37526130953497 -117.972976550603 34.37521453751672 -117.97277739233455 34.37515228022937 -117.9725844982272 34.375075101516266 -117.97239961524997 34.36842370865896 -117.95819540277168 34.36833228657246 -117.9580202342861 34.368227471098315 -117.95785633943063 34.36811021150864 -117.95770520249538 34.36798156977329 -117.95756819221018 34.367842710940714 -117.95744654934899 34.367694892585305 -117.9573413754936 34.3675394534169 -117.9572536230588 34.36737780115569 -117.95718408666923 34.367211399782214 -117.9571333959658 34.367041756278155 -117.95710200990693 34.366870406977974 -117.95709021261587 34.354385924051854 -117.95694827797446 34.34875708780591 -117.94493478608209 34.355099307944435 -117.93196816118791 34.35517935004175 -117.93178509909619 34.3552445978054 -117.93159369154718 34.35529446030566 -117.93139567204086 34.35532848595107 -117.93119283397095 34.355346366579255 -117.93098701438001 34.35534794024839 -117.93078007731896 34.35533319270421 -117.93057389696177 34.355302257509244 -117.93037034062833 34.355255414832975 -117.9301712518692 34.35519308891402 -117.9299784337664 34.35511584421732 -117.92979363260044 34.348971850343574 -117.91668892471533 34.355311112813986 -117.90372006954054 34.355391113097454 -117.90353697915342 34.35545631704254 -117.90334554820653 34.35550613411635 -117.90314751041193 34.35554011313892 -117.902944659329 34.35555794637018 -117.9027388321182 34.3555594722976 -117.90253189289953 34.355544677099395 -117.9023257158665 34.355513694769705 -117.90212216830878 34.35546680590496 -117.90192309369755 34.35540443516215 -117.90173029498654 34.355327147412225 -117.90154551828057 34.34866736735587 -117.88735008263727 34.34857584170624 -117.88717503035322 34.3484709290153 -117.88701126054937 34.34835357943554 -117.88686025638287 34.34822485575181 -117.8867233853809 34.34808592375459 -117.88660188705568 34.34793804168077 -117.88649686167977 34.347782548817136 -117.88640926032308 34.347620853369946 -117.88633987624182 34.34745441971065 -117.8862893376975 34.347284755113094 -117.88625810227046 34.3471133961026 -117.8862464527198 34.33462862373928 -117.8861151203098 34.32899269955466 -117.87410905053969 34.33532747373462 -117.86113993188992 34.33540741054654 -117.86095684265297 34.33547254792619 -117.86076542232998 34.33552229594365 -117.86056740453678 34.33555620404444 -117.8603645826517 34.335573965130926 -117.86015879357075 34.33557541834407 -117.85995190106853 34.335560550520704 -117.85974577891535 34.33552949631284 -117.85954229390377 34.335482536967916 -117.85934328893832 34.335420097781316 -117.85915056634185 34.33534274424388 -117.85896587152959 34.32867790362174 -117.84477709618604 34.3285863154835 -117.84460213083217 34.32848134412291 -117.84443845220197 34.32836394022386 -117.84428754262673 34.32823516706306 -117.84415076877676 34.32809619087904 -117.84402936928426 34.327948270308745 -117.84392444352656 34.32779274498749 -117.84383694167133 34.327631023415385 -117.84376765607358 34.32746457020035 -117.8437172141029 34.3272948927932 -117.84368607246502 34.32712352783509 -117.84367451306973 34.31359732556091 -117.84353916662371 34.31342582461563 -117.84354729360079 34.31325574123962 -117.84357503050937 34.31308861572298 -117.8436221260437 34.312925961560126 -117.84368815359112 34.31276925174412 -117.8437725150993 34.31261990542806 -117.84387444649593 34.312479275074196 -117.84399302461107 34.31234863420739 -117.84412717553995 34.31222916588347 -117.84427568436986 34.3121219519771 -117.84443720618339 34.31202796338582 -117.84461027823819 34.30569495128848 -117.85757713179542 34.29320999899437 -117.85745024439079 34.29303849701542 -117.85745834200662 34.2928684104511 -117.85748604499307 34.292701279620424 -117.85753310235171 34.29253861806601 -117.85759908781571 34.29238189884792 -117.85768340371393 34.29223254120443 -117.85778528638708 34.29209189770044 -117.85790381310655 34.29196124197994 -117.85803791043291 34.291841757233364 -117.85818636393886 34.29173452548408 -117.85834782920799 34.29164051779128 -117.8585208440099 34.28477772139804 -117.87256452269297 34.28469776843058 -117.8727474917241 34.28463261369533 -117.87293878803436 34.28458284720799 -117.87313667929831 34.284548919632904 -117.87333937348022 34.28453113820279 -117.87354503505948 34.284529663937136 -117.87375180164949 34.28454451018443 -117.87395780085949 34.28457554250139 -117.87416116724684 34.28462247987023 -117.87436005920654 34.28468489724303 -117.874552675645 34.284762229390196 -117.87473727228739 34.29091098179383 -117.88782894041731 34.285102075233574 -117.89970842133121 34.27261722212631 -117.89957540325713 34.27244571816406 -117.89958341420727 34.27227562294449 -117.89961102629223 34.27210847686511 -117.89965798933686 34.271945793606754 -117.89972387792845 34.27178904642621 -117.89980809527313 34.271639654815054 -117.8999098786041 34.27149897164592 -117.90002830609224 34.2713682709221 -117.90016230519666 34.271248736241624 -117.9003106623794 34.27114145008013 -117.90047203409608 34.271047383989576 -117.90064495896338 34.26417984546305 -117.91468171667296 34.26409983068803 -117.91486460020069 34.26403461124748 -117.91505581620741 34.26398477774298 -117.91525363309465 34.26395078144571 -117.91545625950002 34.26393293021063 -117.91566186051656 34.26393138568929 -117.91586857430597 34.26394616186632 -117.91607452895552 34.263977124932815 -117.91627785942597 34.26402399449803 -117.91647672443764 34.26408634612797 -117.91666932314095 34.26416361518827 -117.91685391142173 34.270307890195674 -117.92994531271843 34.26396601059287 -117.9428992175168 34.26388595415535 -117.9430820728508 34.26382069105313 -117.94327326553754 34.263770812283155 -117.94347106418971 34.26373676952645 -117.94367367760991 34.26371887105865 -117.94387927100877 34.26371727895896 -117.94408598261685 34.263732007642794 -117.94429194054128 34.2637629237313 -117.94449527971315 34.263809747259046 -117.94469415877398 34.26387205420892 -117.94488677674707 34.2639492803511 -117.94507138934382 34.270090507392936 -117.95816473655289 34.264274892053756 -117.9700363191449 34.25179024726518 -117.96989301615483 34.25161874056042 -117.96990088330334 34.25144863141829 -117.96992834764664 34.2512814603626 -117.9699751603476 34.251118741300616 -117.97004089735498 34.25096194781346 -117.97012496324754 34.25081249981236 -117.97022659662994 34.25067175068073 -117.97034487703075 34.25054097501933 -117.97047873324088 34.250421357104926 -117.97062695301608 34.25031398016695 -117.9707881940561 34.25021981657943 -117.97096099616058 34.24334435787977 -117.98498842323212 34.24326423983802 -117.98517119300219 34.24319891222641 -117.98536230529689 34.24314896662606 -117.98556002945664 34.243114855323135 -117.98576257495849 34.2430968872139 -117.98596810762794 34.24309522500816 -117.98617476624544 34.24310988375607 -117.98638067939773 34.24314073071199 -117.98658398242142 34.24318748653647 -117.98678283428528 34.24324972782535 -117.98697543425892 34.24332689094336 -117.98716003821681 34.24946364443823 -118.00025309802037 34.24311446083989 -118.01319838244365 34.243034301218714 -118.01338112390413 34.24296893002119 -118.01357221275109 34.24291893922309 -118.01376991853715 34.2428847815198 -118.01397245090573 34.24286676622776 -118.01417797580113 34.24286505648395 -118.01438463207423 34.24287966776896 -118.01459054833299 34.242910467766905 -118.0147938598859 34.24295717756349 -118.01499272562452 34.24301937417134 -118.01518534469292 34.24309649435975 -118.0153699727927 34.24974168571623 -118.0295571754958 34.24983301023494 -118.02973216942178 34.24993773402742 -118.02989591740031 34.25005490874548 -118.03004693653735 34.250183473285375 -118.03018385919087 34.25032226339544 -118.03030544535615 34.25047002221814 -118.0304105938958 34.25062541167055 -118.0304983525131 34.25078702456066 -118.03056792637814 34.250953397329816 -118.0306186853286 34.251123023305624 -118.03065016957986 34.25129436634575 -118.03066209389269 34.26377878019198 -118.03081437183458 34.26991073473108 -118.04391368772649 34.27000203740132 -118.04408873898544 34.27010674062653 -118.04425254400942 34.270223896244794 -118.04440361938792 34.270352443325336 -118.04454059696965 34.27049121777471 -118.04466223625253 34.27063896287721 -118.04476743561811 34.270794340674236 -118.04485524230944 34.270955944079404 -118.0449248610612 34.27112230961996 -118.0449756613045 34.27129193068907 -118.04500718288074 34.2714632711889 -118.04501914021255 34.28394758702708 -118.04517365582826 34.29007790914603 -118.05827714214605 34.2901691899313 -118.05845225079548 34.290273872553826 -118.05861611292535 34.29039100903834 -118.058767244608 34.29051953862735 -118.05890427718239 34.290658297385846 -118.05902596964845 34.290806028740306 -118.05913121990615 34.29096139485665 -118.05921907473761 34.29112298875437 -118.05928873844154 34.29128934704685 -118.05933958004195 34.29145896319293 -118.0593711390056 34.29163030113944 -118.05938312941645 34.305155702978254 -118.0595529649426 34.3053272107245 -118.05954527795355 34.305497335499744 -118.05951798004814 34.30566453661704 -118.05947131832427 34.305827299857626 -118.05940571524901 34.30598415118473 -118.05932176483687 34.3061336700936 -118.05922022727346 34.30627450247712 -118.05910202203445 34.30640537289022 -118.05896821956078 34.30652509610222 -118.05882003156624 34.30663258783218 -118.0586588000647 34.306726874570025 -118.05848598521683 34.31308089421095 -118.04553460362321 34.32556512304649 -118.045689436516 34.32573662991506 -118.0456817205546 34.3259067516805 -118.04565438908743 34.32607394768304 -118.04560768951629 34.326236703750226 -118.0455420446509 34.32639354591017 -118.04545804888417 34.32654305374107 -118.04535646281248 34.326683873236085 -118.0452382063507 34.326814729066825 -118.0451043504037 34.32693443613464 -118.0449561071696 34.32704191030473 -118.0447948191626 34.32713617822601 -118.04462194705518 34.33348878708452 -118.03166638615336\");\n",
      "      relation[\"natural\"](poly:\"34.33348878708452 -118.03166638615336 34.34597302920852 -118.0318192822582 34.346144535187875 -118.0318115372667 34.346314653928665 -118.03178417217724 34.34648184479845 -118.03173743469594 34.34664459367118 -118.03167174797586 34.34680142664009 -118.03158770678877 34.34695092336657 -118.0314860721424 34.34709172994426 -118.03136776439159 34.34722257116171 -118.03123385490562 34.34734226205258 -118.03108555636751 34.347449718628475 -118.03092421179245 34.347543967697725 -118.03075128236522 34.35389516315509 -118.01779153787605 34.36637941785036 -118.01794249311001 34.366550922928965 -118.01793471903065 34.36672103863022 -118.01790732025827 34.36688822434919 -118.0178605448039 34.36705096600643 -118.01779481616437 34.36720778976043 -118.01771072949113 34.367357275355985 -118.01760904620369 34.3674980689875 -118.01749068709745 34.36762889556071 -118.0173567240068 34.36774857024183 -118.01720837010025 34.36785600918928 -118.01704696889445 34.36795023937093 -118.01687398208716 34.37482953080409 -118.00282876592372 34.37490967821749 -118.00264573143718 34.37497503642543 -118.00245433711319 34.37502501349778 -118.00225631633184 34.375059156805314 -118.00205346249824 34.37507715711986 -118.00184761279772 34.37507885141548 -118.00164063155393 34.3750642243453 -118.00143439334104 34.375033408380574 -118.00123076600302 34.37498668261085 -118.0010315937338 34.37492447021585 -118.00083868037188 34.374847334632285 -118.00065377306079 34.36871108831512 -117.98754097278217 34.37505779969706 -117.9745746325545 34.37513790531638 -117.97439156959938 34.37520321971516 -117.97420015170219 34.37525315136006 -117.97400211245653 34.37528724803336 -117.9737992454349 34.375305200929255 -117.97359338794207 34.37530684745136 -117.9733864043723 34.375292172685505 -117.97318016932084 34.37526130953497 -117.972976550603 34.37521453751672 -117.97277739233455 34.37515228022937 -117.9725844982272 34.375075101516266 -117.97239961524997 34.36842370865896 -117.95819540277168 34.36833228657246 -117.9580202342861 34.368227471098315 -117.95785633943063 34.36811021150864 -117.95770520249538 34.36798156977329 -117.95756819221018 34.367842710940714 -117.95744654934899 34.367694892585305 -117.9573413754936 34.3675394534169 -117.9572536230588 34.36737780115569 -117.95718408666923 34.367211399782214 -117.9571333959658 34.367041756278155 -117.95710200990693 34.366870406977974 -117.95709021261587 34.354385924051854 -117.95694827797446 34.34875708780591 -117.94493478608209 34.355099307944435 -117.93196816118791 34.35517935004175 -117.93178509909619 34.3552445978054 -117.93159369154718 34.35529446030566 -117.93139567204086 34.35532848595107 -117.93119283397095 34.355346366579255 -117.93098701438001 34.35534794024839 -117.93078007731896 34.35533319270421 -117.93057389696177 34.355302257509244 -117.93037034062833 34.355255414832975 -117.9301712518692 34.35519308891402 -117.9299784337664 34.35511584421732 -117.92979363260044 34.348971850343574 -117.91668892471533 34.355311112813986 -117.90372006954054 34.355391113097454 -117.90353697915342 34.35545631704254 -117.90334554820653 34.35550613411635 -117.90314751041193 34.35554011313892 -117.902944659329 34.35555794637018 -117.9027388321182 34.3555594722976 -117.90253189289953 34.355544677099395 -117.9023257158665 34.355513694769705 -117.90212216830878 34.35546680590496 -117.90192309369755 34.35540443516215 -117.90173029498654 34.355327147412225 -117.90154551828057 34.34866736735587 -117.88735008263727 34.34857584170624 -117.88717503035322 34.3484709290153 -117.88701126054937 34.34835357943554 -117.88686025638287 34.34822485575181 -117.8867233853809 34.34808592375459 -117.88660188705568 34.34793804168077 -117.88649686167977 34.347782548817136 -117.88640926032308 34.347620853369946 -117.88633987624182 34.34745441971065 -117.8862893376975 34.347284755113094 -117.88625810227046 34.3471133961026 -117.8862464527198 34.33462862373928 -117.8861151203098 34.32899269955466 -117.87410905053969 34.33532747373462 -117.86113993188992 34.33540741054654 -117.86095684265297 34.33547254792619 -117.86076542232998 34.33552229594365 -117.86056740453678 34.33555620404444 -117.8603645826517 34.335573965130926 -117.86015879357075 34.33557541834407 -117.85995190106853 34.335560550520704 -117.85974577891535 34.33552949631284 -117.85954229390377 34.335482536967916 -117.85934328893832 34.335420097781316 -117.85915056634185 34.33534274424388 -117.85896587152959 34.32867790362174 -117.84477709618604 34.3285863154835 -117.84460213083217 34.32848134412291 -117.84443845220197 34.32836394022386 -117.84428754262673 34.32823516706306 -117.84415076877676 34.32809619087904 -117.84402936928426 34.327948270308745 -117.84392444352656 34.32779274498749 -117.84383694167133 34.327631023415385 -117.84376765607358 34.32746457020035 -117.8437172141029 34.3272948927932 -117.84368607246502 34.32712352783509 -117.84367451306973 34.31359732556091 -117.84353916662371 34.31342582461563 -117.84354729360079 34.31325574123962 -117.84357503050937 34.31308861572298 -117.8436221260437 34.312925961560126 -117.84368815359112 34.31276925174412 -117.8437725150993 34.31261990542806 -117.84387444649593 34.312479275074196 -117.84399302461107 34.31234863420739 -117.84412717553995 34.31222916588347 -117.84427568436986 34.3121219519771 -117.84443720618339 34.31202796338582 -117.84461027823819 34.30569495128848 -117.85757713179542 34.29320999899437 -117.85745024439079 34.29303849701542 -117.85745834200662 34.2928684104511 -117.85748604499307 34.292701279620424 -117.85753310235171 34.29253861806601 -117.85759908781571 34.29238189884792 -117.85768340371393 34.29223254120443 -117.85778528638708 34.29209189770044 -117.85790381310655 34.29196124197994 -117.85803791043291 34.291841757233364 -117.85818636393886 34.29173452548408 -117.85834782920799 34.29164051779128 -117.8585208440099 34.28477772139804 -117.87256452269297 34.28469776843058 -117.8727474917241 34.28463261369533 -117.87293878803436 34.28458284720799 -117.87313667929831 34.284548919632904 -117.87333937348022 34.28453113820279 -117.87354503505948 34.284529663937136 -117.87375180164949 34.28454451018443 -117.87395780085949 34.28457554250139 -117.87416116724684 34.28462247987023 -117.87436005920654 34.28468489724303 -117.874552675645 34.284762229390196 -117.87473727228739 34.29091098179383 -117.88782894041731 34.285102075233574 -117.89970842133121 34.27261722212631 -117.89957540325713 34.27244571816406 -117.89958341420727 34.27227562294449 -117.89961102629223 34.27210847686511 -117.89965798933686 34.271945793606754 -117.89972387792845 34.27178904642621 -117.89980809527313 34.271639654815054 -117.8999098786041 34.27149897164592 -117.90002830609224 34.2713682709221 -117.90016230519666 34.271248736241624 -117.9003106623794 34.27114145008013 -117.90047203409608 34.271047383989576 -117.90064495896338 34.26417984546305 -117.91468171667296 34.26409983068803 -117.91486460020069 34.26403461124748 -117.91505581620741 34.26398477774298 -117.91525363309465 34.26395078144571 -117.91545625950002 34.26393293021063 -117.91566186051656 34.26393138568929 -117.91586857430597 34.26394616186632 -117.91607452895552 34.263977124932815 -117.91627785942597 34.26402399449803 -117.91647672443764 34.26408634612797 -117.91666932314095 34.26416361518827 -117.91685391142173 34.270307890195674 -117.92994531271843 34.26396601059287 -117.9428992175168 34.26388595415535 -117.9430820728508 34.26382069105313 -117.94327326553754 34.263770812283155 -117.94347106418971 34.26373676952645 -117.94367367760991 34.26371887105865 -117.94387927100877 34.26371727895896 -117.94408598261685 34.263732007642794 -117.94429194054128 34.2637629237313 -117.94449527971315 34.263809747259046 -117.94469415877398 34.26387205420892 -117.94488677674707 34.2639492803511 -117.94507138934382 34.270090507392936 -117.95816473655289 34.264274892053756 -117.9700363191449 34.25179024726518 -117.96989301615483 34.25161874056042 -117.96990088330334 34.25144863141829 -117.96992834764664 34.2512814603626 -117.9699751603476 34.251118741300616 -117.97004089735498 34.25096194781346 -117.97012496324754 34.25081249981236 -117.97022659662994 34.25067175068073 -117.97034487703075 34.25054097501933 -117.97047873324088 34.250421357104926 -117.97062695301608 34.25031398016695 -117.9707881940561 34.25021981657943 -117.97096099616058 34.24334435787977 -117.98498842323212 34.24326423983802 -117.98517119300219 34.24319891222641 -117.98536230529689 34.24314896662606 -117.98556002945664 34.243114855323135 -117.98576257495849 34.2430968872139 -117.98596810762794 34.24309522500816 -117.98617476624544 34.24310988375607 -117.98638067939773 34.24314073071199 -117.98658398242142 34.24318748653647 -117.98678283428528 34.24324972782535 -117.98697543425892 34.24332689094336 -117.98716003821681 34.24946364443823 -118.00025309802037 34.24311446083989 -118.01319838244365 34.243034301218714 -118.01338112390413 34.24296893002119 -118.01357221275109 34.24291893922309 -118.01376991853715 34.2428847815198 -118.01397245090573 34.24286676622776 -118.01417797580113 34.24286505648395 -118.01438463207423 34.24287966776896 -118.01459054833299 34.242910467766905 -118.0147938598859 34.24295717756349 -118.01499272562452 34.24301937417134 -118.01518534469292 34.24309649435975 -118.0153699727927 34.24974168571623 -118.0295571754958 34.24983301023494 -118.02973216942178 34.24993773402742 -118.02989591740031 34.25005490874548 -118.03004693653735 34.250183473285375 -118.03018385919087 34.25032226339544 -118.03030544535615 34.25047002221814 -118.0304105938958 34.25062541167055 -118.0304983525131 34.25078702456066 -118.03056792637814 34.250953397329816 -118.0306186853286 34.251123023305624 -118.03065016957986 34.25129436634575 -118.03066209389269 34.26377878019198 -118.03081437183458 34.26991073473108 -118.04391368772649 34.27000203740132 -118.04408873898544 34.27010674062653 -118.04425254400942 34.270223896244794 -118.04440361938792 34.270352443325336 -118.04454059696965 34.27049121777471 -118.04466223625253 34.27063896287721 -118.04476743561811 34.270794340674236 -118.04485524230944 34.270955944079404 -118.0449248610612 34.27112230961996 -118.0449756613045 34.27129193068907 -118.04500718288074 34.2714632711889 -118.04501914021255 34.28394758702708 -118.04517365582826 34.29007790914603 -118.05827714214605 34.2901691899313 -118.05845225079548 34.290273872553826 -118.05861611292535 34.29039100903834 -118.058767244608 34.29051953862735 -118.05890427718239 34.290658297385846 -118.05902596964845 34.290806028740306 -118.05913121990615 34.29096139485665 -118.05921907473761 34.29112298875437 -118.05928873844154 34.29128934704685 -118.05933958004195 34.29145896319293 -118.0593711390056 34.29163030113944 -118.05938312941645 34.305155702978254 -118.0595529649426 34.3053272107245 -118.05954527795355 34.305497335499744 -118.05951798004814 34.30566453661704 -118.05947131832427 34.305827299857626 -118.05940571524901 34.30598415118473 -118.05932176483687 34.3061336700936 -118.05922022727346 34.30627450247712 -118.05910202203445 34.30640537289022 -118.05896821956078 34.30652509610222 -118.05882003156624 34.30663258783218 -118.0586588000647 34.306726874570025 -118.05848598521683 34.31308089421095 -118.04553460362321 34.32556512304649 -118.045689436516 34.32573662991506 -118.0456817205546 34.3259067516805 -118.04565438908743 34.32607394768304 -118.04560768951629 34.326236703750226 -118.0455420446509 34.32639354591017 -118.04545804888417 34.32654305374107 -118.04535646281248 34.326683873236085 -118.0452382063507 34.326814729066825 -118.0451043504037 34.32693443613464 -118.0449561071696 34.32704191030473 -118.0447948191626 34.32713617822601 -118.04462194705518 34.33348878708452 -118.03166638615336\");\n",
      "      relation[\"landcover\"](poly:\"34.33348878708452 -118.03166638615336 34.34597302920852 -118.0318192822582 34.346144535187875 -118.0318115372667 34.346314653928665 -118.03178417217724 34.34648184479845 -118.03173743469594 34.34664459367118 -118.03167174797586 34.34680142664009 -118.03158770678877 34.34695092336657 -118.0314860721424 34.34709172994426 -118.03136776439159 34.34722257116171 -118.03123385490562 34.34734226205258 -118.03108555636751 34.347449718628475 -118.03092421179245 34.347543967697725 -118.03075128236522 34.35389516315509 -118.01779153787605 34.36637941785036 -118.01794249311001 34.366550922928965 -118.01793471903065 34.36672103863022 -118.01790732025827 34.36688822434919 -118.0178605448039 34.36705096600643 -118.01779481616437 34.36720778976043 -118.01771072949113 34.367357275355985 -118.01760904620369 34.3674980689875 -118.01749068709745 34.36762889556071 -118.0173567240068 34.36774857024183 -118.01720837010025 34.36785600918928 -118.01704696889445 34.36795023937093 -118.01687398208716 34.37482953080409 -118.00282876592372 34.37490967821749 -118.00264573143718 34.37497503642543 -118.00245433711319 34.37502501349778 -118.00225631633184 34.375059156805314 -118.00205346249824 34.37507715711986 -118.00184761279772 34.37507885141548 -118.00164063155393 34.3750642243453 -118.00143439334104 34.375033408380574 -118.00123076600302 34.37498668261085 -118.0010315937338 34.37492447021585 -118.00083868037188 34.374847334632285 -118.00065377306079 34.36871108831512 -117.98754097278217 34.37505779969706 -117.9745746325545 34.37513790531638 -117.97439156959938 34.37520321971516 -117.97420015170219 34.37525315136006 -117.97400211245653 34.37528724803336 -117.9737992454349 34.375305200929255 -117.97359338794207 34.37530684745136 -117.9733864043723 34.375292172685505 -117.97318016932084 34.37526130953497 -117.972976550603 34.37521453751672 -117.97277739233455 34.37515228022937 -117.9725844982272 34.375075101516266 -117.97239961524997 34.36842370865896 -117.95819540277168 34.36833228657246 -117.9580202342861 34.368227471098315 -117.95785633943063 34.36811021150864 -117.95770520249538 34.36798156977329 -117.95756819221018 34.367842710940714 -117.95744654934899 34.367694892585305 -117.9573413754936 34.3675394534169 -117.9572536230588 34.36737780115569 -117.95718408666923 34.367211399782214 -117.9571333959658 34.367041756278155 -117.95710200990693 34.366870406977974 -117.95709021261587 34.354385924051854 -117.95694827797446 34.34875708780591 -117.94493478608209 34.355099307944435 -117.93196816118791 34.35517935004175 -117.93178509909619 34.3552445978054 -117.93159369154718 34.35529446030566 -117.93139567204086 34.35532848595107 -117.93119283397095 34.355346366579255 -117.93098701438001 34.35534794024839 -117.93078007731896 34.35533319270421 -117.93057389696177 34.355302257509244 -117.93037034062833 34.355255414832975 -117.9301712518692 34.35519308891402 -117.9299784337664 34.35511584421732 -117.92979363260044 34.348971850343574 -117.91668892471533 34.355311112813986 -117.90372006954054 34.355391113097454 -117.90353697915342 34.35545631704254 -117.90334554820653 34.35550613411635 -117.90314751041193 34.35554011313892 -117.902944659329 34.35555794637018 -117.9027388321182 34.3555594722976 -117.90253189289953 34.355544677099395 -117.9023257158665 34.355513694769705 -117.90212216830878 34.35546680590496 -117.90192309369755 34.35540443516215 -117.90173029498654 34.355327147412225 -117.90154551828057 34.34866736735587 -117.88735008263727 34.34857584170624 -117.88717503035322 34.3484709290153 -117.88701126054937 34.34835357943554 -117.88686025638287 34.34822485575181 -117.8867233853809 34.34808592375459 -117.88660188705568 34.34793804168077 -117.88649686167977 34.347782548817136 -117.88640926032308 34.347620853369946 -117.88633987624182 34.34745441971065 -117.8862893376975 34.347284755113094 -117.88625810227046 34.3471133961026 -117.8862464527198 34.33462862373928 -117.8861151203098 34.32899269955466 -117.87410905053969 34.33532747373462 -117.86113993188992 34.33540741054654 -117.86095684265297 34.33547254792619 -117.86076542232998 34.33552229594365 -117.86056740453678 34.33555620404444 -117.8603645826517 34.335573965130926 -117.86015879357075 34.33557541834407 -117.85995190106853 34.335560550520704 -117.85974577891535 34.33552949631284 -117.85954229390377 34.335482536967916 -117.85934328893832 34.335420097781316 -117.85915056634185 34.33534274424388 -117.85896587152959 34.32867790362174 -117.84477709618604 34.3285863154835 -117.84460213083217 34.32848134412291 -117.84443845220197 34.32836394022386 -117.84428754262673 34.32823516706306 -117.84415076877676 34.32809619087904 -117.84402936928426 34.327948270308745 -117.84392444352656 34.32779274498749 -117.84383694167133 34.327631023415385 -117.84376765607358 34.32746457020035 -117.8437172141029 34.3272948927932 -117.84368607246502 34.32712352783509 -117.84367451306973 34.31359732556091 -117.84353916662371 34.31342582461563 -117.84354729360079 34.31325574123962 -117.84357503050937 34.31308861572298 -117.8436221260437 34.312925961560126 -117.84368815359112 34.31276925174412 -117.8437725150993 34.31261990542806 -117.84387444649593 34.312479275074196 -117.84399302461107 34.31234863420739 -117.84412717553995 34.31222916588347 -117.84427568436986 34.3121219519771 -117.84443720618339 34.31202796338582 -117.84461027823819 34.30569495128848 -117.85757713179542 34.29320999899437 -117.85745024439079 34.29303849701542 -117.85745834200662 34.2928684104511 -117.85748604499307 34.292701279620424 -117.85753310235171 34.29253861806601 -117.85759908781571 34.29238189884792 -117.85768340371393 34.29223254120443 -117.85778528638708 34.29209189770044 -117.85790381310655 34.29196124197994 -117.85803791043291 34.291841757233364 -117.85818636393886 34.29173452548408 -117.85834782920799 34.29164051779128 -117.8585208440099 34.28477772139804 -117.87256452269297 34.28469776843058 -117.8727474917241 34.28463261369533 -117.87293878803436 34.28458284720799 -117.87313667929831 34.284548919632904 -117.87333937348022 34.28453113820279 -117.87354503505948 34.284529663937136 -117.87375180164949 34.28454451018443 -117.87395780085949 34.28457554250139 -117.87416116724684 34.28462247987023 -117.87436005920654 34.28468489724303 -117.874552675645 34.284762229390196 -117.87473727228739 34.29091098179383 -117.88782894041731 34.285102075233574 -117.89970842133121 34.27261722212631 -117.89957540325713 34.27244571816406 -117.89958341420727 34.27227562294449 -117.89961102629223 34.27210847686511 -117.89965798933686 34.271945793606754 -117.89972387792845 34.27178904642621 -117.89980809527313 34.271639654815054 -117.8999098786041 34.27149897164592 -117.90002830609224 34.2713682709221 -117.90016230519666 34.271248736241624 -117.9003106623794 34.27114145008013 -117.90047203409608 34.271047383989576 -117.90064495896338 34.26417984546305 -117.91468171667296 34.26409983068803 -117.91486460020069 34.26403461124748 -117.91505581620741 34.26398477774298 -117.91525363309465 34.26395078144571 -117.91545625950002 34.26393293021063 -117.91566186051656 34.26393138568929 -117.91586857430597 34.26394616186632 -117.91607452895552 34.263977124932815 -117.91627785942597 34.26402399449803 -117.91647672443764 34.26408634612797 -117.91666932314095 34.26416361518827 -117.91685391142173 34.270307890195674 -117.92994531271843 34.26396601059287 -117.9428992175168 34.26388595415535 -117.9430820728508 34.26382069105313 -117.94327326553754 34.263770812283155 -117.94347106418971 34.26373676952645 -117.94367367760991 34.26371887105865 -117.94387927100877 34.26371727895896 -117.94408598261685 34.263732007642794 -117.94429194054128 34.2637629237313 -117.94449527971315 34.263809747259046 -117.94469415877398 34.26387205420892 -117.94488677674707 34.2639492803511 -117.94507138934382 34.270090507392936 -117.95816473655289 34.264274892053756 -117.9700363191449 34.25179024726518 -117.96989301615483 34.25161874056042 -117.96990088330334 34.25144863141829 -117.96992834764664 34.2512814603626 -117.9699751603476 34.251118741300616 -117.97004089735498 34.25096194781346 -117.97012496324754 34.25081249981236 -117.97022659662994 34.25067175068073 -117.97034487703075 34.25054097501933 -117.97047873324088 34.250421357104926 -117.97062695301608 34.25031398016695 -117.9707881940561 34.25021981657943 -117.97096099616058 34.24334435787977 -117.98498842323212 34.24326423983802 -117.98517119300219 34.24319891222641 -117.98536230529689 34.24314896662606 -117.98556002945664 34.243114855323135 -117.98576257495849 34.2430968872139 -117.98596810762794 34.24309522500816 -117.98617476624544 34.24310988375607 -117.98638067939773 34.24314073071199 -117.98658398242142 34.24318748653647 -117.98678283428528 34.24324972782535 -117.98697543425892 34.24332689094336 -117.98716003821681 34.24946364443823 -118.00025309802037 34.24311446083989 -118.01319838244365 34.243034301218714 -118.01338112390413 34.24296893002119 -118.01357221275109 34.24291893922309 -118.01376991853715 34.2428847815198 -118.01397245090573 34.24286676622776 -118.01417797580113 34.24286505648395 -118.01438463207423 34.24287966776896 -118.01459054833299 34.242910467766905 -118.0147938598859 34.24295717756349 -118.01499272562452 34.24301937417134 -118.01518534469292 34.24309649435975 -118.0153699727927 34.24974168571623 -118.0295571754958 34.24983301023494 -118.02973216942178 34.24993773402742 -118.02989591740031 34.25005490874548 -118.03004693653735 34.250183473285375 -118.03018385919087 34.25032226339544 -118.03030544535615 34.25047002221814 -118.0304105938958 34.25062541167055 -118.0304983525131 34.25078702456066 -118.03056792637814 34.250953397329816 -118.0306186853286 34.251123023305624 -118.03065016957986 34.25129436634575 -118.03066209389269 34.26377878019198 -118.03081437183458 34.26991073473108 -118.04391368772649 34.27000203740132 -118.04408873898544 34.27010674062653 -118.04425254400942 34.270223896244794 -118.04440361938792 34.270352443325336 -118.04454059696965 34.27049121777471 -118.04466223625253 34.27063896287721 -118.04476743561811 34.270794340674236 -118.04485524230944 34.270955944079404 -118.0449248610612 34.27112230961996 -118.0449756613045 34.27129193068907 -118.04500718288074 34.2714632711889 -118.04501914021255 34.28394758702708 -118.04517365582826 34.29007790914603 -118.05827714214605 34.2901691899313 -118.05845225079548 34.290273872553826 -118.05861611292535 34.29039100903834 -118.058767244608 34.29051953862735 -118.05890427718239 34.290658297385846 -118.05902596964845 34.290806028740306 -118.05913121990615 34.29096139485665 -118.05921907473761 34.29112298875437 -118.05928873844154 34.29128934704685 -118.05933958004195 34.29145896319293 -118.0593711390056 34.29163030113944 -118.05938312941645 34.305155702978254 -118.0595529649426 34.3053272107245 -118.05954527795355 34.305497335499744 -118.05951798004814 34.30566453661704 -118.05947131832427 34.305827299857626 -118.05940571524901 34.30598415118473 -118.05932176483687 34.3061336700936 -118.05922022727346 34.30627450247712 -118.05910202203445 34.30640537289022 -118.05896821956078 34.30652509610222 -118.05882003156624 34.30663258783218 -118.0586588000647 34.306726874570025 -118.05848598521683 34.31308089421095 -118.04553460362321 34.32556512304649 -118.045689436516 34.32573662991506 -118.0456817205546 34.3259067516805 -118.04565438908743 34.32607394768304 -118.04560768951629 34.326236703750226 -118.0455420446509 34.32639354591017 -118.04545804888417 34.32654305374107 -118.04535646281248 34.326683873236085 -118.0452382063507 34.326814729066825 -118.0451043504037 34.32693443613464 -118.0449561071696 34.32704191030473 -118.0447948191626 34.32713617822601 -118.04462194705518 34.33348878708452 -118.03166638615336\");\n",
      "    );\n",
      "    out geom;\n",
      "    \n"
     ]
    },
    {
     "name": "stdout",
     "output_type": "stream",
     "text": [
      "Log for creating 3D model tile(s) for  10m_-117.95_34.31 \n",
      " \n",
      "DEM_name = USGS/3DEP/10m \n",
      "trlat = 34.376631265361034 \n",
      "trlon = -117.84137902864053 \n",
      "bllat = 34.24154063857428 \n",
      "bllon = -118.06171310292578 \n",
      "printres = 0.4 \n",
      "ntilesx = 1 \n",
      "ntilesy = 1 \n",
      "tilewidth = 250 \n",
      "basethick = 0 \n",
      "zscale = 1.0 \n",
      "fileformat = STLb \n",
      "no_bottom = False \n",
      "unprojected = False \n",
      "no_normals = True \n",
      "\n",
      "process started: 01:15:55.289697 \n",
      "\n",
      "Region (lat/lon):\n",
      "   34.376631265361034 -117.84137902864053 (top right)\n",
      "   34.24154063857428 -118.06171310292578 (bottom left) \n",
      "easting: -117.95154606578316 northing: 34.30908595196766\n",
      "easting: -117.95154606578316 northing: 34.30908595196766\n",
      "center at [-117.95154606578316, 34.30908595196766], UTM11N, EPSG:32611 \n"
     ]
    },
    {
     "name": "stderr",
     "output_type": "stream",
     "text": [
      "WARNING:OSMPythonTools:[api] downloading data: way/80193252/full\n",
      "WARNING:OSMPythonTools:[api] downloading data: way/829888837/full\n",
      "WARNING:OSMPythonTools:[api] downloading data: way/829888838/full\n",
      "WARNING:OSMPythonTools:[api] downloading data: way/829888839/full\n",
      "WARNING:OSMPythonTools:[api] downloading data: way/829888842/full\n",
      "WARNING:OSMPythonTools:[api] downloading data: way/829888840/full\n",
      "WARNING:OSMPythonTools:[api] downloading data: way/829888843/full\n",
      "WARNING:OSMPythonTools:[api] downloading data: way/829888844/full\n",
      "WARNING:OSMPythonTools:[api] downloading data: way/80124512/full\n",
      "WARNING:OSMPythonTools:[api] downloading data: way/829888846/full\n",
      "WARNING:OSMPythonTools:[api] downloading data: way/829888847/full\n",
      "WARNING:OSMPythonTools:[api] downloading data: way/829888848/full\n",
      "WARNING:OSMPythonTools:[api] downloading data: way/829888849/full\n",
      "WARNING:OSMPythonTools:[api] downloading data: way/828984174/full\n",
      "WARNING:OSMPythonTools:[api] downloading data: way/829888797/full\n",
      "WARNING:OSMPythonTools:[api] downloading data: way/1263336997/full\n",
      "WARNING:OSMPythonTools:[api] downloading data: way/1263336998/full\n",
      "WARNING:OSMPythonTools:[api] downloading data: way/80123940/full\n",
      "WARNING:OSMPythonTools:[api] downloading data: way/80212041/full\n",
      "WARNING:OSMPythonTools:[api] downloading data: way/80190597/full\n",
      "WARNING:OSMPythonTools:[api] downloading data: way/829888799/full\n",
      "WARNING:OSMPythonTools:[api] downloading data: way/829888798/full\n",
      "WARNING:OSMPythonTools:[api] downloading data: way/829888801/full\n",
      "WARNING:OSMPythonTools:[api] downloading data: way/829888803/full\n",
      "WARNING:OSMPythonTools:[api] downloading data: way/829888806/full\n",
      "WARNING:OSMPythonTools:[api] downloading data: way/829888809/full\n",
      "WARNING:OSMPythonTools:[api] downloading data: way/829888808/full\n",
      "WARNING:OSMPythonTools:[api] downloading data: way/829888810/full\n",
      "WARNING:OSMPythonTools:[api] downloading data: way/829888812/full\n",
      "WARNING:OSMPythonTools:[api] downloading data: way/829888814/full\n",
      "WARNING:OSMPythonTools:[api] downloading data: way/829888815/full\n",
      "WARNING:OSMPythonTools:[api] downloading data: way/829888816/full\n",
      "WARNING:OSMPythonTools:[api] downloading data: way/829888818/full\n",
      "WARNING:OSMPythonTools:[api] downloading data: way/1263336993/full\n",
      "WARNING:OSMPythonTools:[api] downloading data: way/829888819/full\n",
      "WARNING:OSMPythonTools:[api] downloading data: way/829888820/full\n",
      "WARNING:OSMPythonTools:[api] downloading data: way/829888821/full\n",
      "WARNING:OSMPythonTools:[api] downloading data: way/1263337000/full\n",
      "WARNING:OSMPythonTools:[api] downloading data: way/1263336999/full\n",
      "WARNING:OSMPythonTools:[api] downloading data: way/80209117/full\n",
      "WARNING:OSMPythonTools:[api] downloading data: way/80156837/full\n",
      "WARNING:OSMPythonTools:[api] downloading data: way/829888822/full\n",
      "WARNING:OSMPythonTools:[api] downloading data: way/829888823/full\n",
      "WARNING:OSMPythonTools:[api] downloading data: way/80205949/full\n",
      "WARNING:OSMPythonTools:[api] downloading data: way/829888824/full\n",
      "WARNING:OSMPythonTools:[api] downloading data: way/80209468/full\n",
      "WARNING:OSMPythonTools:[api] downloading data: way/80188223/full\n",
      "WARNING:OSMPythonTools:[api] downloading data: way/80204615/full\n",
      "WARNING:OSMPythonTools:[api] downloading data: way/84516268/full\n",
      "WARNING:OSMPythonTools:[api] downloading data: way/829888825/full\n",
      "WARNING:OSMPythonTools:[api] downloading data: way/829888826/full\n",
      "WARNING:OSMPythonTools:[api] downloading data: way/829888827/full\n",
      "WARNING:OSMPythonTools:[api] downloading data: way/829888829/full\n",
      "WARNING:OSMPythonTools:[api] downloading data: way/829888831/full\n",
      "WARNING:OSMPythonTools:[api] downloading data: way/829888832/full\n",
      "WARNING:OSMPythonTools:[api] downloading data: way/829888834/full\n",
      "WARNING:OSMPythonTools:[api] downloading data: way/829888835/full\n",
      "WARNING:OSMPythonTools:[api] downloading data: way/80205303/full\n",
      "INFO:root:lon/lat size in degrees: [0.22033407428524754, 0.13509062678675576] \n",
      "INFO:root:Earth Engine raster: USGS/3DEP/10m \n"
     ]
    },
    {
     "name": "stdout",
     "output_type": "stream",
     "text": [
      "lon/lat size in degrees: [0.22033407428524754, 0.13509062678675576] \n",
      "requesting 32.45037948903557 m resolution from EarthEngine\n",
      "Earth Engine raster: USGS/3DEP/10m \n"
     ]
    },
    {
     "name": "stderr",
     "output_type": "stream",
     "text": [
      "INFO:root:URL for geotiff is:  https://earthengine.googleapis.com/v1/projects/579068275138/thumbnails/e476cdd4f8a99b00236379dcfe6eab72-f32a59a640e2e19441643ef6a0f9c033:getPixels \n"
     ]
    },
    {
     "name": "stdout",
     "output_type": "stream",
     "text": [
      "URL for geotiff is:  https://earthengine.googleapis.com/v1/projects/579068275138/thumbnails/e476cdd4f8a99b00236379dcfe6eab72-f32a59a640e2e19441643ef6a0f9c033:getPixels \n"
     ]
    },
    {
     "name": "stderr",
     "output_type": "stream",
     "text": [
      "INFO:root: geotiff size: 0.5491228103637695 Mb \n",
      "INFO:root: cell size 32.45037948903557 m, upper left corner (x/y):  402482.0568025082 3804222.888258618 \n",
      "INFO:root:omitting cells with elevation < -16384 \n",
      "INFO:root:full (untiled) raster (height,width)  (453, 614) float64 elev. min/max: 725.6832275390625 2446.89208984375 \n",
      "INFO:root:cell size: 32.45037948903557 m  \n",
      "INFO:root:adjusted print res from the requested 0.4 mm to 0.40716612377850164 mm to ensure correct model dimensions \n",
      "INFO:root:total model size in mm: 250 x 184.44625407166123 \n",
      "INFO:root:map scale is 1 : 79698.13202507136 \n"
     ]
    },
    {
     "name": "stdout",
     "output_type": "stream",
     "text": [
      " geotiff size: 0.5491228103637695 Mb \n",
      " cell size 32.45037948903557 m, upper left corner (x/y):  402482.0568025082 3804222.888258618 \n",
      "omitting cells with elevation < -16384 \n",
      "full (untiled) raster (height,width)  (453, 614) float64 elev. min/max: 725.6832275390625 2446.89208984375 \n",
      "cell size: 32.45037948903557 m  \n",
      "adjusted print res from the requested 0.4 mm to 0.40716612377850164 mm to ensure correct model dimensions \n",
      "total model size in mm: 250 x 184.44625407166123 \n",
      "map scale is 1 : 79698.13202507136 \n",
      "elev min/max : 725.68 to 2446.89\n"
     ]
    },
    {
     "name": "stderr",
     "output_type": "stream",
     "text": [
      "DEM plot and histogram saved as tmp/USGS-3DEP-10m_elevation_plot_with_histogram.png\n",
      "INFO:root:Cells per tile (x/y) 614 x 453 \n",
      "INFO:root:using single-core only (multi-core is currently broken :( \n",
      "Writing tile into memory buffer\n",
      "creating internal triangle data structure for <_MainProcess name='MainProcess' parent=None started>\n"
     ]
    },
    {
     "name": "stdout",
     "output_type": "stream",
     "text": [
      "Cells per tile (x/y) 614 x 453 \n",
      "using single-core only (multi-core is currently broken :( \n",
      "top min/max for tile (mm): 0.6 22.196602311372008\n"
     ]
    },
    {
     "name": "stderr",
     "output_type": "stream",
     "text": [
      "10 % <_MainProcess name='MainProcess' parent=None started>\n",
      "20 % <_MainProcess name='MainProcess' parent=None started>\n",
      "30 % <_MainProcess name='MainProcess' parent=None started>\n",
      "40 % <_MainProcess name='MainProcess' parent=None started>\n",
      "50 % <_MainProcess name='MainProcess' parent=None started>\n",
      "60 % <_MainProcess name='MainProcess' parent=None started>\n",
      "70 % <_MainProcess name='MainProcess' parent=None started>\n",
      "80 % <_MainProcess name='MainProcess' parent=None started>\n",
      "90 % <_MainProcess name='MainProcess' parent=None started>\n",
      "100% <_MainProcess name='MainProcess' parent=None started> \n",
      "\n",
      "tile 1 1 STLb 32.28615188598633 Mb \n",
      "INFO:root:\n",
      "1 x 1 tiles, tile size 250.00 x 184.45 mm\n",
      " \n",
      "INFO:root:tile 1 1 : height:  0.6 - 22.196602311372008 mm , file size: 32 Mb \n",
      "INFO:root:\n",
      "total size for all tiles: 32.3 Mb \n",
      "INFO:root:added full geotiff as 10m_-117.95_34.31.tif \n",
      "INFO:root:added histogram of elevation values as 10m_-117.95_34.31_DEMandHistogram.png \n",
      "INFO:root:\n",
      "processing finished: 01:17:19.002861 \n"
     ]
    },
    {
     "name": "stdout",
     "output_type": "stream",
     "text": [
      "\n",
      "1 x 1 tiles, tile size 250.00 x 184.45 mm\n",
      " \n",
      "tile 1 1 : height:  0.6 - 22.196602311372008 mm , file size: 32 Mb \n",
      "\n",
      "total size for all tiles: 32.3 Mb \n",
      "zip finished: 01:17:18.999599\n",
      "added full geotiff as 10m_-117.95_34.31.tif \n",
      "added histogram of elevation values as 10m_-117.95_34.31_DEMandHistogram.png \n",
      "\n",
      "processing finished: 01:17:19.002861 \n",
      "px, py: 32.45037948903557 32.45037948903557\n"
     ]
    }
   ],
   "source": [
    "# create zipfile under tmp with the STL file of the terrain model\n",
    "totalsize, full_zip_file_name = TouchTerrain.get_zipped_tiles(**args) \n",
    "print(\"Created zip file\", full_zip_file_name,  \"%.2f\" % totalsize, \"Mb\")"
   ]
  },
  {
   "cell_type": "markdown",
   "metadata": {},
   "source": [
    "## Preview the model\n",
    "- run the cell below to get a 3D Preview of the model. If you have multiple tiles they will have different colors."
   ]
  },
  {
   "cell_type": "code",
   "execution_count": null,
   "metadata": {},
   "outputs": [],
   "source": [
    "# unzip zif file into a folder a\n",
    "folder, file = os.path.splitext(full_zip_file_name) \n",
    "zip_ref = zipfile.ZipFile(full_zip_file_name, 'r')\n",
    "zip_ref.extractall(folder)\n",
    "zip_ref.close()\n",
    "\n",
    "# get all stl files (tiles) in that folder\n",
    "mesh_files = glob(folder + os.sep + \"*.STL\")\n",
    "\n",
    "# Create 3D plot\n",
    "plot = k3d.plot()\n",
    "\n",
    "# Add all tiles with a random color\n",
    "for m in mesh_files:\n",
    "    col = (randint(0,255) << 16) + (randint(0,255) << 8) + randint(0,255) # random rgb color as hex\n",
    "    buf = open(m, 'rb').read()\n",
    "    plot += k3d.stl(buf, color=col)\n",
    "plot.display()\n",
    "\n",
    "# remove folder\n",
    "rmtree(folder)"
   ]
  },
  {
   "cell_type": "markdown",
   "metadata": {},
   "source": [
    "## Final thoughts\n",
    "- You can now download your zipfile from the tmp folder and unzip it to 3D print the STL file.\n",
    "- It will also contain a log file and the geotiff it used to create the STL.\n",
    "- Click on the *File Browser* icon on the very left to your notebook and then double-click on _tmp_\n",
    "- Right-click on the zip-file and go to Download\n",
    "\n",
    "## Long-term binder use\n",
    "- I'm unclear on how long a binder instance exists when it's not being used. \n",
    "- It's quite possible that the binder binder instance won't \"stay open\" for longer than a couple of hours(???)\n",
    "- This is not really an issue, it just means you'll have to start a new binder when you return to the browser after a while: https://mybinder.org/v2/gh/ChHarding/TouchTerrain_for_CAGEO/HEAD?labpath=TouchTerrain_jupyter_starters_binder.ipynb \n",
    "- Note that you will need to wait for the installation again and re-do your Earth Engine authentication.\n",
    "- Also, the new instance will not preserve any zip files that you might have created in the old instance (or any file you uploaded), so make sure to download these right away!\n",
    "- If you want to make sure that the kernel stays busy and so your instance doesn't die, you can run the cell below. It will do nothing (endless loop with a 1 second pause) but keep the kernel busy. Once you want to use other cells again you will need to interrupts the kernel first: Kernel - interrupt (ignore the error). ALso I don't know how long this will work and you should not abuse it!\n"
   ]
  },
  {
   "cell_type": "code",
   "execution_count": null,
   "metadata": {},
   "outputs": [],
   "source": [
    "# endless loop\n",
    "import time\n",
    "while True: \n",
    "    time.sleep(1)"
   ]
  },
  {
   "cell_type": "code",
   "execution_count": null,
   "metadata": {},
   "outputs": [],
   "source": []
  }
 ],
 "metadata": {
  "kernelspec": {
   "display_name": "Python 3 (ipykernel)",
   "language": "python",
   "name": "python3"
  },
  "language_info": {
   "codemirror_mode": {
    "name": "ipython",
    "version": 3
   },
   "file_extension": ".py",
   "mimetype": "text/x-python",
   "name": "python",
   "nbconvert_exporter": "python",
   "pygments_lexer": "ipython3",
   "version": "3.10.17"
  },
  "varInspector": {
   "cols": {
    "lenName": 16,
    "lenType": 16,
    "lenVar": 40
   },
   "kernels_config": {
    "python": {
     "delete_cmd_postfix": "",
     "delete_cmd_prefix": "del ",
     "library": "var_list.py",
     "varRefreshCmd": "print(var_dic_list())"
    },
    "r": {
     "delete_cmd_postfix": ") ",
     "delete_cmd_prefix": "rm(",
     "library": "var_list.r",
     "varRefreshCmd": "cat(var_dic_list()) "
    }
   },
   "types_to_exclude": [
    "module",
    "function",
    "builtin_function_or_method",
    "instance",
    "_Feature"
   ],
   "window_display": false
  },
  "vscode": {
   "interpreter": {
    "hash": "b1be0222797457612977eb3eaa00946922d56583fa52c09202534133b3ce7849"
   }
  }
 },
 "nbformat": 4,
 "nbformat_minor": 4
}
