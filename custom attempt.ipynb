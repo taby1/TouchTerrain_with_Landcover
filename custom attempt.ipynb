{
 "cells": [
  {
   "cell_type": "code",
   "execution_count": 1,
   "id": "99f95691-48d5-44d8-b408-5cfb945258e0",
   "metadata": {},
   "outputs": [],
   "source": [
    "# ────────────────────────────────────────────────────────────────────────────\n",
    "#   0. Setup & imports\n",
    "# ────────────────────────────────────────────────────────────────────────────\n",
    "import ee, geemap\n",
    "import numpy as np\n",
    "import geopandas as gpd\n",
    "from shapely.geometry import shape, mapping, Polygon\n",
    "from pyproj import CRS\n",
    "from stl import mesh                           # numpy-stl\n",
    "from pathlib import Path\n",
    "\n",
    "import k3d\n",
    "import ipywidgets as widgets\n",
    "import matplotlib.pyplot as plt\n",
    "import contextily as ctx\n",
    "\n",
    "ee.Initialize()        # after you have authenticated once\n",
    "\n",
    "# Handy helper ──────────────────────────────────────────────────────────────\n",
    "def utm_for_geom(geom: Polygon) -> CRS:\n",
    "    \"\"\"Return a UTM CRS centred on *geom* (assumes WGS-84 input).\"\"\"\n",
    "    lon = geom.centroid.x\n",
    "    zone = int((lon + 180) // 6) + 1\n",
    "    south = geom.centroid.y < 0\n",
    "    return CRS.from_epsg(32700 + zone if south else 32600 + zone)\n"
   ]
  },
  {
   "cell_type": "code",
   "execution_count": 2,
   "id": "b64e9846-4420-4747-b0bb-6deb6b67449f",
   "metadata": {},
   "outputs": [
    {
     "data": {
      "text/html": [
       "\n",
       "            <style>\n",
       "                .geemap-dark {\n",
       "                    --jp-widgets-color: white;\n",
       "                    --jp-widgets-label-color: white;\n",
       "                    --jp-ui-font-color1: white;\n",
       "                    --jp-layout-color2: #454545;\n",
       "                    background-color: #383838;\n",
       "                }\n",
       "\n",
       "                .geemap-dark .jupyter-button {\n",
       "                    --jp-layout-color3: #383838;\n",
       "                }\n",
       "\n",
       "                .geemap-colab {\n",
       "                    background-color: var(--colab-primary-surface-color, white);\n",
       "                }\n",
       "\n",
       "                .geemap-colab .jupyter-button {\n",
       "                    --jp-layout-color3: var(--colab-primary-surface-color, white);\n",
       "                }\n",
       "            </style>\n",
       "            "
      ],
      "text/plain": [
       "<IPython.core.display.HTML object>"
      ]
     },
     "metadata": {},
     "output_type": "display_data"
    }
   ],
   "source": [
    "# ────────────────────────────────────────────────────────────────────────────\n",
    "#   1. User inputs\n",
    "# ────────────────────────────────────────────────────────────────────────────\n",
    "# Example AOI – roughly 4×4 mi ridge in Angeles NF near Mt Josephine\n",
    "sample_geojson = {\n",
    "    \"type\": \"Polygon\",\n",
    "    \"coordinates\": [[\n",
    "        [-118.0937, 34.3530],\n",
    "        [-118.0583, 34.3620],\n",
    "        [-118.0462, 34.3392],\n",
    "        [-118.0830, 34.3302],\n",
    "        [-118.0937, 34.3530]\n",
    "    ]]\n",
    "}\n",
    "\n",
    "VERTICAL_EXAG = 3.0          # exaggerate z 3×\n",
    "MM_PER_METER  = 0.05         # print at 1 : 20 000  →  0.05 mm per real-m\n",
    "BASE_THICK_MM = 2.0          # keep at least 2 mm below lowest terrain\n",
    "DEM_SCALE_M   = 30           # input DEM cell size (m)  (SRTM is 30 m)\n",
    "\n",
    "aoi_wgs  = shape(sample_geojson)\n",
    "proj_crs = utm_for_geom(aoi_wgs)\n"
   ]
  },
  {
   "cell_type": "code",
   "execution_count": 7,
   "id": "3603620c-7795-4dcb-90e8-f7775020bdee",
   "metadata": {},
   "outputs": [
    {
     "data": {
      "text/html": [
       "\n",
       "            <style>\n",
       "                .geemap-dark {\n",
       "                    --jp-widgets-color: white;\n",
       "                    --jp-widgets-label-color: white;\n",
       "                    --jp-ui-font-color1: white;\n",
       "                    --jp-layout-color2: #454545;\n",
       "                    background-color: #383838;\n",
       "                }\n",
       "\n",
       "                .geemap-dark .jupyter-button {\n",
       "                    --jp-layout-color3: #383838;\n",
       "                }\n",
       "\n",
       "                .geemap-colab {\n",
       "                    background-color: var(--colab-primary-surface-color, white);\n",
       "                }\n",
       "\n",
       "                .geemap-colab .jupyter-button {\n",
       "                    --jp-layout-color3: var(--colab-primary-surface-color, white);\n",
       "                }\n",
       "            </style>\n",
       "            "
      ],
      "text/plain": [
       "<IPython.core.display.HTML object>"
      ]
     },
     "metadata": {},
     "output_type": "display_data"
    },
    {
     "name": "stdout",
     "output_type": "stream",
     "text": [
      "(118, 146) 1144 1922\n"
     ]
    }
   ],
   "source": [
    "# ───── Cell 2 – simplest working version ────────────────────────────────\n",
    "scale = DEM_SCALE_M                 # 30 m\n",
    "\n",
    "arr = geemap.ee_to_numpy(\n",
    "    dem_clip,                       # already clipped to your AOI\n",
    "    region=aoi_fc.geometry(),       # still WGS-84\n",
    "    scale=scale                     # <- **only** the args that API allows\n",
    ")\n",
    "\n",
    "elev = np.flipud(arr[:, :, 0])      # remove band dim, flip N-to-S\n",
    "print(elev.shape, elev.min(), elev.max())\n"
   ]
  },
  {
   "cell_type": "code",
   "execution_count": 9,
   "id": "1528d7fd-0a30-4a47-bb70-35237953dfe8",
   "metadata": {},
   "outputs": [
    {
     "data": {
      "text/html": [
       "\n",
       "            <style>\n",
       "                .geemap-dark {\n",
       "                    --jp-widgets-color: white;\n",
       "                    --jp-widgets-label-color: white;\n",
       "                    --jp-ui-font-color1: white;\n",
       "                    --jp-layout-color2: #454545;\n",
       "                    background-color: #383838;\n",
       "                }\n",
       "\n",
       "                .geemap-dark .jupyter-button {\n",
       "                    --jp-layout-color3: #383838;\n",
       "                }\n",
       "\n",
       "                .geemap-colab {\n",
       "                    background-color: var(--colab-primary-surface-color, white);\n",
       "                }\n",
       "\n",
       "                .geemap-colab .jupyter-button {\n",
       "                    --jp-layout-color3: var(--colab-primary-surface-color, white);\n",
       "                }\n",
       "            </style>\n",
       "            "
      ],
      "text/plain": [
       "<IPython.core.display.HTML object>"
      ]
     },
     "metadata": {},
     "output_type": "display_data"
    },
    {
     "name": "stdout",
     "output_type": "stream",
     "text": [
      "✓ STL written → /TouchTerrain/standalone/terrain_model.stl\n"
     ]
    }
   ],
   "source": [
    "# ────────────────────────────────────────────────────────────────────────\n",
    "# 3. Build a clean, vector-based mesh (no pixelated edges!)\n",
    "# ────────────────────────────────────────────────────────────────────────\n",
    "from shapely.ops     import triangulate\n",
    "from shapely.affinity import scale as shp_scale\n",
    "from stl import mesh\n",
    "from pathlib import Path\n",
    "\n",
    "# 3-A  XY grid of DEM nodes (projected metres)\n",
    "h, w = elev.shape\n",
    "xv = np.linspace(0, (w - 1) * scale, w)\n",
    "yv = np.linspace(0, (h - 1) * scale, h)\n",
    "X, Y = np.meshgrid(xv, yv)\n",
    "\n",
    "# 3-B  Convert to print units and exaggerate Z\n",
    "X_mm = X * MM_PER_METER\n",
    "Y_mm = Y * MM_PER_METER\n",
    "Z_mm = (elev - elev.min()) * VERTICAL_EXAG * MM_PER_METER\n",
    "z_base = -BASE_THICK_MM\n",
    "\n",
    "# ───────────────────────────────── TOP SURFACE ──────────────────────────\n",
    "faces_top = []\n",
    "for i in range(h - 1):\n",
    "    for j in range(w - 1):\n",
    "        idx00 = i      * w + j        # four node indices of the grid cell\n",
    "        idx10 = (i + 1) * w + j\n",
    "        idx01 = i      * w + j + 1\n",
    "        idx11 = (i + 1) * w + j + 1\n",
    "        # two triangles per quad:  (00-10-01) and (10-11-01)\n",
    "        faces_top.append([idx00, idx10, idx01])\n",
    "        faces_top.append([idx10, idx11, idx01])\n",
    "faces_top = np.asarray(faces_top, dtype=np.int32)\n",
    "\n",
    "tri_top_xyz = np.c_[\n",
    "    X_mm.ravel()[faces_top],\n",
    "    Y_mm.ravel()[faces_top],\n",
    "    Z_mm.ravel()[faces_top],\n",
    "].reshape(-1, 9)\n",
    "\n",
    "# ──────────────────────────────── SIDE WALLS ────────────────────────────\n",
    "aoi_m  = gpd.GeoSeries([aoi_wgs], crs=4326).to_crs(proj_crs).iloc[0]\n",
    "aoi_mm = shp_scale(aoi_m, xfact=MM_PER_METER, yfact=MM_PER_METER, origin=(0, 0))\n",
    "\n",
    "coords = np.asarray(aoi_mm.exterior.coords)\n",
    "walls = []\n",
    "for p0, p1 in zip(coords[:-1], coords[1:]):       # loop over edges\n",
    "    # build a quad (p0-p1 vertical) → split into two triangles\n",
    "    walls.append([[p0[0], p0[1], Z_mm.min()],\n",
    "                  [p1[0], p1[1], Z_mm.min()],\n",
    "                  [p1[0], p1[1], z_base]])\n",
    "    walls.append([[p0[0], p0[1], Z_mm.min()],\n",
    "                  [p1[0], p1[1], z_base],\n",
    "                  [p0[0], p0[1], z_base]])\n",
    "walls = np.asarray(walls, dtype=np.float32).reshape(-1, 9)\n",
    "\n",
    "# ───────────────────────────────── BOTTOM ───────────────────────────────\n",
    "bottom = np.asarray(\n",
    "    [[[x, y, z_base] for x, y in tri.exterior.coords[:3]]\n",
    "     for tri in triangulate(aoi_mm)],\n",
    "    dtype=np.float32,\n",
    ").reshape(-1, 9)\n",
    "\n",
    "# ─────────────────────────────── CONCAT & STL ───────────────────────────\n",
    "triangles = np.vstack([tri_top_xyz, walls, bottom])\n",
    "\n",
    "terrain_mesh = mesh.Mesh(np.zeros(len(triangles), dtype=mesh.Mesh.dtype))\n",
    "terrain_mesh.vectors = triangles.reshape(-1, 3, 3)\n",
    "\n",
    "stl_path = Path('terrain_model.stl')\n",
    "terrain_mesh.save(stl_path)\n",
    "print(\"✓ STL written →\", stl_path.resolve())\n"
   ]
  },
  {
   "cell_type": "code",
   "execution_count": 10,
   "id": "10facbf0-35f7-4041-8496-46961d189513",
   "metadata": {},
   "outputs": [
    {
     "data": {
      "text/html": [
       "\n",
       "            <style>\n",
       "                .geemap-dark {\n",
       "                    --jp-widgets-color: white;\n",
       "                    --jp-widgets-label-color: white;\n",
       "                    --jp-ui-font-color1: white;\n",
       "                    --jp-layout-color2: #454545;\n",
       "                    background-color: #383838;\n",
       "                }\n",
       "\n",
       "                .geemap-dark .jupyter-button {\n",
       "                    --jp-layout-color3: #383838;\n",
       "                }\n",
       "\n",
       "                .geemap-colab {\n",
       "                    background-color: var(--colab-primary-surface-color, white);\n",
       "                }\n",
       "\n",
       "                .geemap-colab .jupyter-button {\n",
       "                    --jp-layout-color3: var(--colab-primary-surface-color, white);\n",
       "                }\n",
       "            </style>\n",
       "            "
      ],
      "text/plain": [
       "<IPython.core.display.HTML object>"
      ]
     },
     "metadata": {},
     "output_type": "display_data"
    },
    {
     "ename": "AttributeError",
     "evalue": "Stamen",
     "output_type": "error",
     "traceback": [
      "\u001b[0;31m---------------------------------------------------------------------------\u001b[0m",
      "\u001b[0;31mKeyError\u001b[0m                                  Traceback (most recent call last)",
      "File \u001b[0;32m/opt/conda/lib/python3.10/site-packages/xyzservices/lib.py:45\u001b[0m, in \u001b[0;36mBunch.__getattr__\u001b[0;34m(self, key)\u001b[0m\n\u001b[1;32m     44\u001b[0m \u001b[38;5;28;01mtry\u001b[39;00m:\n\u001b[0;32m---> 45\u001b[0m     \u001b[38;5;28;01mreturn\u001b[39;00m \u001b[38;5;28;43mself\u001b[39;49m\u001b[38;5;241;43m.\u001b[39;49m\u001b[38;5;21;43m__getitem__\u001b[39;49m\u001b[43m(\u001b[49m\u001b[43mkey\u001b[49m\u001b[43m)\u001b[49m\n\u001b[1;32m     46\u001b[0m \u001b[38;5;28;01mexcept\u001b[39;00m \u001b[38;5;167;01mKeyError\u001b[39;00m \u001b[38;5;28;01mas\u001b[39;00m err:\n",
      "\u001b[0;31mKeyError\u001b[0m: 'Stamen'",
      "\nThe above exception was the direct cause of the following exception:\n",
      "\u001b[0;31mAttributeError\u001b[0m                            Traceback (most recent call last)",
      "Cell \u001b[0;32mIn[10], line 6\u001b[0m\n\u001b[1;32m      4\u001b[0m plt\u001b[38;5;241m.\u001b[39mfigure(figsize\u001b[38;5;241m=\u001b[39m(\u001b[38;5;241m5\u001b[39m,\u001b[38;5;241m5\u001b[39m))\n\u001b[1;32m      5\u001b[0m gpd\u001b[38;5;241m.\u001b[39mGeoSeries([aoi_wgs])\u001b[38;5;241m.\u001b[39mplot()\n\u001b[0;32m----> 6\u001b[0m ctx\u001b[38;5;241m.\u001b[39madd_basemap(plt\u001b[38;5;241m.\u001b[39mgca(), source\u001b[38;5;241m=\u001b[39m\u001b[43mctx\u001b[49m\u001b[38;5;241;43m.\u001b[39;49m\u001b[43mproviders\u001b[49m\u001b[38;5;241;43m.\u001b[39;49m\u001b[43mStamen\u001b[49m\u001b[38;5;241m.\u001b[39mTerrain)\n\u001b[1;32m      7\u001b[0m plt\u001b[38;5;241m.\u001b[39mtitle(\u001b[38;5;124m\"\u001b[39m\u001b[38;5;124mAOI footprint\u001b[39m\u001b[38;5;124m\"\u001b[39m); plt\u001b[38;5;241m.\u001b[39maxis(\u001b[38;5;124m'\u001b[39m\u001b[38;5;124moff\u001b[39m\u001b[38;5;124m'\u001b[39m);\n\u001b[1;32m      9\u001b[0m plot \u001b[38;5;241m=\u001b[39m k3d\u001b[38;5;241m.\u001b[39mplot(grid_visible\u001b[38;5;241m=\u001b[39m\u001b[38;5;28;01mFalse\u001b[39;00m, axes_helper\u001b[38;5;241m=\u001b[39m\u001b[38;5;241m0\u001b[39m)\n",
      "File \u001b[0;32m/opt/conda/lib/python3.10/site-packages/xyzservices/lib.py:47\u001b[0m, in \u001b[0;36mBunch.__getattr__\u001b[0;34m(self, key)\u001b[0m\n\u001b[1;32m     45\u001b[0m     \u001b[38;5;28;01mreturn\u001b[39;00m \u001b[38;5;28mself\u001b[39m\u001b[38;5;241m.\u001b[39m\u001b[38;5;21m__getitem__\u001b[39m(key)\n\u001b[1;32m     46\u001b[0m \u001b[38;5;28;01mexcept\u001b[39;00m \u001b[38;5;167;01mKeyError\u001b[39;00m \u001b[38;5;28;01mas\u001b[39;00m err:\n\u001b[0;32m---> 47\u001b[0m     \u001b[38;5;28;01mraise\u001b[39;00m \u001b[38;5;167;01mAttributeError\u001b[39;00m(key) \u001b[38;5;28;01mfrom\u001b[39;00m\u001b[38;5;250m \u001b[39m\u001b[38;5;21;01merr\u001b[39;00m\n",
      "\u001b[0;31mAttributeError\u001b[0m: Stamen"
     ]
    },
    {
     "data": {
      "text/plain": [
       "<Figure size 500x500 with 0 Axes>"
      ]
     },
     "metadata": {},
     "output_type": "display_data"
    },
    {
     "data": {
      "image/png": "[encoded data removed]",
      "text/plain": [
       "<Figure size 640x480 with 1 Axes>"
      ]
     },
     "metadata": {},
     "output_type": "display_data"
    }
   ],
   "source": [
    "# ────────────────────────────────────────────────────────────────────────────\n",
    "#   4. Quick visual sanity check in 3-D  (K3D)\n",
    "# ────────────────────────────────────────────────────────────────────────────\n",
    "plt.figure(figsize=(5,5))\n",
    "gpd.GeoSeries([aoi_wgs]).plot()\n",
    "ctx.add_basemap(plt.gca(), source=ctx.providers.Stamen.Terrain)\n",
    "plt.title(\"AOI footprint\"); plt.axis('off');\n",
    "\n",
    "plot = k3d.plot(grid_visible=False, axes_helper=0)\n",
    "plot += k3d.mesh(terrain_mesh.vectors.reshape(-1,3),\n",
    "                 color=0x99ccff, flat_shading=False)\n",
    "plot.display()\n"
   ]
  }
 ],
 "metadata": {
  "kernelspec": {
   "display_name": "Python 3 (ipykernel)",
   "language": "python",
   "name": "python3"
  },
  "language_info": {
   "codemirror_mode": {
    "name": "ipython",
    "version": 3
   },
   "file_extension": ".py",
   "mimetype": "text/x-python",
   "name": "python",
   "nbconvert_exporter": "python",
   "pygments_lexer": "ipython3",
   "version": "3.10.17"
  }
 },
 "nbformat": 4,
 "nbformat_minor": 5
}
